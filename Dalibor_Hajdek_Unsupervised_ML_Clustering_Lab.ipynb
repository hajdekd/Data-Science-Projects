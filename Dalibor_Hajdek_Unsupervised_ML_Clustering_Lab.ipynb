{
  "nbformat": 4,
  "nbformat_minor": 0,
  "metadata": {
    "colab": {
      "provenance": [],
      "authorship_tag": "ABX9TyO3CWC3ADvoAGg0xrfwHeWu",
      "include_colab_link": true
    },
    "kernelspec": {
      "name": "python3",
      "display_name": "Python 3"
    },
    "language_info": {
      "name": "python"
    }
  },
  "cells": [
    {
      "cell_type": "markdown",
      "metadata": {
        "id": "view-in-github",
        "colab_type": "text"
      },
      "source": [
        "<a href=\"https://colab.research.google.com/github/hajdekd/Data-Science-Projects/blob/main/Dalibor_Hajdek_Unsupervised_ML_Clustering_Lab.ipynb\" target=\"_parent\"><img src=\"https://colab.research.google.com/assets/colab-badge.svg\" alt=\"Open In Colab\"/></a>"
      ]
    },
    {
      "cell_type": "markdown",
      "source": [
        "# Background:\n",
        "\n",
        "*  In this lab, the dataset is from several engineering colleges. The goal is to create clusters based on the\n",
        "information provided in the dataset. Then, a survey will be created to rank these colleges. The survey\n",
        "will be an evidence-based document and provides insights to future students. "
      ],
      "metadata": {
        "id": "DEhgjZV5l9RN"
      }
    },
    {
      "cell_type": "markdown",
      "source": [
        "# Objectives:\n",
        "\n",
        "*  To identify different types of engineering colleges (clusters) to better understand their ranks and information. "
      ],
      "metadata": {
        "id": "HrOJte8el88p"
      }
    },
    {
      "cell_type": "markdown",
      "source": [
        "# Data Description:\n",
        "\n",
        "The data contains a survey of 26 engineering colleges. This survey has summarized the data into a rating scale of 1-5 for\n",
        "different factors. The rating scale is as follows:\n",
        "* 1 - Very low\n",
        "* 2 - Low\n",
        "* 3 - Medium\n",
        "* 4 - High\n",
        "* 5 - Very high\n",
        "\n",
        "**Columns:**\n",
        "\n",
        "* SR_NO: Serial Number\n",
        "* Engg_College: 26 Engineering colleges with A to Z as their names\n",
        "* Teaching: The rating for the quality of teaching at each engineering college (1-5)\n",
        "* Fees: The rating of the fees at each engineering college (1-5)\n",
        "* Placements: The rating of the job placement after the student graduates from each engineering college (1-5)\n",
        "* Internship: The rating of the student Internships at each engineering college (1-5)\n",
        "* Infrastructure: The rating of the infrastructure of each engineering college (1-5)"
      ],
      "metadata": {
        "id": "BiZp935LmRkk"
      }
    },
    {
      "cell_type": "markdown",
      "source": [
        "# Importing Libraries"
      ],
      "metadata": {
        "id": "SSnZEoeyoE-X"
      }
    },
    {
      "cell_type": "code",
      "source": [
        "!pip install nb_black"
      ],
      "metadata": {
        "colab": {
          "base_uri": "https://localhost:8080/"
        },
        "id": "3agqcskAobJ5",
        "outputId": "3881ffbf-fd2c-4cc4-bc8b-81597067c433"
      },
      "execution_count": null,
      "outputs": [
        {
          "output_type": "stream",
          "name": "stdout",
          "text": [
            "Looking in indexes: https://pypi.org/simple, https://us-python.pkg.dev/colab-wheels/public/simple/\n",
            "Collecting nb_black\n",
            "  Downloading nb_black-1.0.7.tar.gz (4.8 kB)\n",
            "Requirement already satisfied: ipython in /usr/local/lib/python3.7/dist-packages (from nb_black) (7.9.0)\n",
            "Collecting black>='19.3'\n",
            "  Downloading black-22.10.0-cp37-cp37m-manylinux_2_17_x86_64.manylinux2014_x86_64.whl (1.5 MB)\n",
            "\u001b[K     |████████████████████████████████| 1.5 MB 4.7 MB/s \n",
            "\u001b[?25hRequirement already satisfied: tomli>=1.1.0 in /usr/local/lib/python3.7/dist-packages (from black>='19.3'->nb_black) (2.0.1)\n",
            "Collecting typed-ast>=1.4.2\n",
            "  Downloading typed_ast-1.5.4-cp37-cp37m-manylinux_2_5_x86_64.manylinux1_x86_64.manylinux_2_12_x86_64.manylinux2010_x86_64.whl (843 kB)\n",
            "\u001b[K     |████████████████████████████████| 843 kB 49.1 MB/s \n",
            "\u001b[?25hCollecting pathspec>=0.9.0\n",
            "  Downloading pathspec-0.10.2-py3-none-any.whl (28 kB)\n",
            "Collecting click>=8.0.0\n",
            "  Downloading click-8.1.3-py3-none-any.whl (96 kB)\n",
            "\u001b[K     |████████████████████████████████| 96 kB 5.7 MB/s \n",
            "\u001b[?25hRequirement already satisfied: typing-extensions>=3.10.0.0 in /usr/local/lib/python3.7/dist-packages (from black>='19.3'->nb_black) (4.1.1)\n",
            "Collecting platformdirs>=2\n",
            "  Downloading platformdirs-2.5.4-py3-none-any.whl (14 kB)\n",
            "Collecting mypy-extensions>=0.4.3\n",
            "  Downloading mypy_extensions-0.4.3-py2.py3-none-any.whl (4.5 kB)\n",
            "Requirement already satisfied: importlib-metadata in /usr/local/lib/python3.7/dist-packages (from click>=8.0.0->black>='19.3'->nb_black) (4.13.0)\n",
            "Requirement already satisfied: zipp>=0.5 in /usr/local/lib/python3.7/dist-packages (from importlib-metadata->click>=8.0.0->black>='19.3'->nb_black) (3.10.0)\n",
            "Requirement already satisfied: pexpect in /usr/local/lib/python3.7/dist-packages (from ipython->nb_black) (4.8.0)\n",
            "Requirement already satisfied: prompt-toolkit<2.1.0,>=2.0.0 in /usr/local/lib/python3.7/dist-packages (from ipython->nb_black) (2.0.10)\n",
            "Requirement already satisfied: decorator in /usr/local/lib/python3.7/dist-packages (from ipython->nb_black) (4.4.2)\n",
            "Requirement already satisfied: setuptools>=18.5 in /usr/local/lib/python3.7/dist-packages (from ipython->nb_black) (57.4.0)\n",
            "Requirement already satisfied: pygments in /usr/local/lib/python3.7/dist-packages (from ipython->nb_black) (2.6.1)\n",
            "Requirement already satisfied: pickleshare in /usr/local/lib/python3.7/dist-packages (from ipython->nb_black) (0.7.5)\n",
            "Requirement already satisfied: traitlets>=4.2 in /usr/local/lib/python3.7/dist-packages (from ipython->nb_black) (5.1.1)\n",
            "Requirement already satisfied: backcall in /usr/local/lib/python3.7/dist-packages (from ipython->nb_black) (0.2.0)\n",
            "Collecting jedi>=0.10\n",
            "  Downloading jedi-0.18.2-py2.py3-none-any.whl (1.6 MB)\n",
            "\u001b[K     |████████████████████████████████| 1.6 MB 40.9 MB/s \n",
            "\u001b[?25hRequirement already satisfied: parso<0.9.0,>=0.8.0 in /usr/local/lib/python3.7/dist-packages (from jedi>=0.10->ipython->nb_black) (0.8.3)\n",
            "Requirement already satisfied: six>=1.9.0 in /usr/local/lib/python3.7/dist-packages (from prompt-toolkit<2.1.0,>=2.0.0->ipython->nb_black) (1.15.0)\n",
            "Requirement already satisfied: wcwidth in /usr/local/lib/python3.7/dist-packages (from prompt-toolkit<2.1.0,>=2.0.0->ipython->nb_black) (0.2.5)\n",
            "Requirement already satisfied: ptyprocess>=0.5 in /usr/local/lib/python3.7/dist-packages (from pexpect->ipython->nb_black) (0.7.0)\n",
            "Building wheels for collected packages: nb-black\n",
            "  Building wheel for nb-black (setup.py) ... \u001b[?25l\u001b[?25hdone\n",
            "  Created wheel for nb-black: filename=nb_black-1.0.7-py3-none-any.whl size=5298 sha256=40030b52fec90f93886e0687c238c49a2cca824a486e1c917009aa4528a6ff05\n",
            "  Stored in directory: /root/.cache/pip/wheels/1e/b2/88/51c66d23ea5fd0d40ed50997555e15d981d92671376a9a412a\n",
            "Successfully built nb-black\n",
            "Installing collected packages: typed-ast, platformdirs, pathspec, mypy-extensions, jedi, click, black, nb-black\n",
            "  Attempting uninstall: click\n",
            "    Found existing installation: click 7.1.2\n",
            "    Uninstalling click-7.1.2:\n",
            "      Successfully uninstalled click-7.1.2\n",
            "\u001b[31mERROR: pip's dependency resolver does not currently take into account all the packages that are installed. This behaviour is the source of the following dependency conflicts.\n",
            "flask 1.1.4 requires click<8.0,>=5.1, but you have click 8.1.3 which is incompatible.\u001b[0m\n",
            "Successfully installed black-22.10.0 click-8.1.3 jedi-0.18.2 mypy-extensions-0.4.3 nb-black-1.0.7 pathspec-0.10.2 platformdirs-2.5.4 typed-ast-1.5.4\n"
          ]
        }
      ]
    },
    {
      "cell_type": "code",
      "execution_count": null,
      "metadata": {
        "colab": {
          "base_uri": "https://localhost:8080/",
          "height": 54
        },
        "id": "S_76Hr9ZlwvJ",
        "outputId": "3d4f41dc-2d88-4e54-9059-6709ffac5b01"
      },
      "outputs": [
        {
          "output_type": "stream",
          "name": "stdout",
          "text": [
            "The nb_black extension is already loaded. To reload it, use:\n",
            "  %reload_ext nb_black\n"
          ]
        },
        {
          "output_type": "display_data",
          "data": {
            "text/plain": [
              "<IPython.core.display.Javascript object>"
            ],
            "application/javascript": [
              "\n",
              "            setTimeout(function() {\n",
              "                var nbb_cell_id = 65;\n",
              "                var nbb_unformatted_code = \"# this will help in making the Python code more structured automatically (good coding practice)\\n%load_ext nb_black\\n\\n# Library to suppress warnings or deprecation notes\\nimport warnings\\n\\nwarnings.filterwarnings(\\\"ignore\\\")\\n\\n# Libraries to help with reading and manipulating data\\nimport numpy as np\\nimport pandas as pd\\n\\n# Libraries to help with data visualization\\nimport matplotlib.pyplot as plt\\nimport seaborn as sns\\n\\nsns.set_theme()\\n\\n# Removes the limit for the number of displayed columns\\npd.set_option(\\\"display.max_columns\\\", None)\\n# Sets the limit for the number of displayed rows\\npd.set_option(\\\"display.max_rows\\\", 200)\\n\\n# to scale the data using z-score\\nfrom sklearn.preprocessing import StandardScaler\\n\\n# to compute distances\\nfrom scipy.spatial.distance import cdist\\n\\n# to perform k-means clustering and compute silhouette scores\\nfrom sklearn.cluster import KMeans\\nfrom sklearn.metrics import silhouette_score\\n\\n# to visualize the elbow curve and silhouette scores\\nfrom yellowbrick.cluster import KElbowVisualizer, SilhouetteVisualizer\";\n",
              "                var nbb_formatted_code = \"# this will help in making the Python code more structured automatically (good coding practice)\\n%load_ext nb_black\\n\\n# Library to suppress warnings or deprecation notes\\nimport warnings\\n\\nwarnings.filterwarnings(\\\"ignore\\\")\\n\\n# Libraries to help with reading and manipulating data\\nimport numpy as np\\nimport pandas as pd\\n\\n# Libraries to help with data visualization\\nimport matplotlib.pyplot as plt\\nimport seaborn as sns\\n\\nsns.set_theme()\\n\\n# Removes the limit for the number of displayed columns\\npd.set_option(\\\"display.max_columns\\\", None)\\n# Sets the limit for the number of displayed rows\\npd.set_option(\\\"display.max_rows\\\", 200)\\n\\n# to scale the data using z-score\\nfrom sklearn.preprocessing import StandardScaler\\n\\n# to compute distances\\nfrom scipy.spatial.distance import cdist\\n\\n# to perform k-means clustering and compute silhouette scores\\nfrom sklearn.cluster import KMeans\\nfrom sklearn.metrics import silhouette_score\\n\\n# to visualize the elbow curve and silhouette scores\\nfrom yellowbrick.cluster import KElbowVisualizer, SilhouetteVisualizer\";\n",
              "                var nbb_cells = Jupyter.notebook.get_cells();\n",
              "                for (var i = 0; i < nbb_cells.length; ++i) {\n",
              "                    if (nbb_cells[i].input_prompt_number == nbb_cell_id) {\n",
              "                        if (nbb_cells[i].get_text() == nbb_unformatted_code) {\n",
              "                             nbb_cells[i].set_text(nbb_formatted_code);\n",
              "                        }\n",
              "                        break;\n",
              "                    }\n",
              "                }\n",
              "            }, 500);\n",
              "            "
            ]
          },
          "metadata": {}
        }
      ],
      "source": [
        "# this will help in making the Python code more structured automatically (good coding practice)\n",
        "%load_ext nb_black\n",
        "\n",
        "# Library to suppress warnings or deprecation notes\n",
        "import warnings\n",
        "\n",
        "warnings.filterwarnings(\"ignore\")\n",
        "\n",
        "# Libraries to help with reading and manipulating data\n",
        "import numpy as np\n",
        "import pandas as pd\n",
        "\n",
        "# Libraries to help with data visualization\n",
        "import matplotlib.pyplot as plt\n",
        "import seaborn as sns\n",
        "\n",
        "sns.set_theme()\n",
        "\n",
        "# Removes the limit for the number of displayed columns\n",
        "pd.set_option(\"display.max_columns\", None)\n",
        "# Sets the limit for the number of displayed rows\n",
        "pd.set_option(\"display.max_rows\", 200)\n",
        "\n",
        "# to scale the data using z-score\n",
        "from sklearn.preprocessing import StandardScaler\n",
        "\n",
        "# to compute distances\n",
        "from scipy.spatial.distance import cdist\n",
        "\n",
        "# to perform k-means clustering and compute silhouette scores\n",
        "from sklearn.cluster import KMeans\n",
        "from sklearn.metrics import silhouette_score\n",
        "\n",
        "# to visualize the elbow curve and silhouette scores\n",
        "from yellowbrick.cluster import KElbowVisualizer, SilhouetteVisualizer"
      ]
    },
    {
      "cell_type": "markdown",
      "source": [
        "# Loading Data"
      ],
      "metadata": {
        "id": "mhhSaUjkorRT"
      }
    },
    {
      "cell_type": "code",
      "source": [
        "#Mounting the drive\n",
        "from google.colab import drive\n",
        "drive.mount('/content/drive')"
      ],
      "metadata": {
        "colab": {
          "base_uri": "https://localhost:8080/",
          "height": 35
        },
        "id": "_KwnR4hFou3x",
        "outputId": "86f43140-1131-4380-fce9-50457f7adc30"
      },
      "execution_count": null,
      "outputs": [
        {
          "output_type": "stream",
          "name": "stdout",
          "text": [
            "Drive already mounted at /content/drive; to attempt to forcibly remount, call drive.mount(\"/content/drive\", force_remount=True).\n"
          ]
        },
        {
          "output_type": "display_data",
          "data": {
            "text/plain": [
              "<IPython.core.display.Javascript object>"
            ],
            "application/javascript": [
              "\n",
              "            setTimeout(function() {\n",
              "                var nbb_cell_id = 66;\n",
              "                var nbb_unformatted_code = \"#Mounting the drive\\nfrom google.colab import drive\\ndrive.mount('/content/drive')\";\n",
              "                var nbb_formatted_code = \"# Mounting the drive\\nfrom google.colab import drive\\n\\ndrive.mount(\\\"/content/drive\\\")\";\n",
              "                var nbb_cells = Jupyter.notebook.get_cells();\n",
              "                for (var i = 0; i < nbb_cells.length; ++i) {\n",
              "                    if (nbb_cells[i].input_prompt_number == nbb_cell_id) {\n",
              "                        if (nbb_cells[i].get_text() == nbb_unformatted_code) {\n",
              "                             nbb_cells[i].set_text(nbb_formatted_code);\n",
              "                        }\n",
              "                        break;\n",
              "                    }\n",
              "                }\n",
              "            }, 500);\n",
              "            "
            ]
          },
          "metadata": {}
        }
      ]
    },
    {
      "cell_type": "code",
      "source": [
        "# Loading the data\n",
        "\n",
        "df = pd.read_excel('/content/drive/MyDrive/colleges_dataset.xlsx')"
      ],
      "metadata": {
        "colab": {
          "base_uri": "https://localhost:8080/",
          "height": 17
        },
        "id": "tj628908o9Cg",
        "outputId": "9a43bc82-7150-4640-fc63-120b01f5bffd"
      },
      "execution_count": null,
      "outputs": [
        {
          "output_type": "display_data",
          "data": {
            "text/plain": [
              "<IPython.core.display.Javascript object>"
            ],
            "application/javascript": [
              "\n",
              "            setTimeout(function() {\n",
              "                var nbb_cell_id = 67;\n",
              "                var nbb_unformatted_code = \"# Loading the data\\n\\ndf = pd.read_excel('/content/drive/MyDrive/colleges_dataset.xlsx')\";\n",
              "                var nbb_formatted_code = \"# Loading the data\\n\\ndf = pd.read_excel(\\\"/content/drive/MyDrive/colleges_dataset.xlsx\\\")\";\n",
              "                var nbb_cells = Jupyter.notebook.get_cells();\n",
              "                for (var i = 0; i < nbb_cells.length; ++i) {\n",
              "                    if (nbb_cells[i].input_prompt_number == nbb_cell_id) {\n",
              "                        if (nbb_cells[i].get_text() == nbb_unformatted_code) {\n",
              "                             nbb_cells[i].set_text(nbb_formatted_code);\n",
              "                        }\n",
              "                        break;\n",
              "                    }\n",
              "                }\n",
              "            }, 500);\n",
              "            "
            ]
          },
          "metadata": {}
        }
      ]
    },
    {
      "cell_type": "code",
      "source": [
        "# Creating a copy of the data\n",
        "data = df.copy()"
      ],
      "metadata": {
        "colab": {
          "base_uri": "https://localhost:8080/",
          "height": 17
        },
        "id": "mQsXcj8Op7_n",
        "outputId": "340b651c-b273-498f-e937-446269aa6690"
      },
      "execution_count": null,
      "outputs": [
        {
          "output_type": "display_data",
          "data": {
            "text/plain": [
              "<IPython.core.display.Javascript object>"
            ],
            "application/javascript": [
              "\n",
              "            setTimeout(function() {\n",
              "                var nbb_cell_id = 68;\n",
              "                var nbb_unformatted_code = \"# Creating a copy of the data\\ndata = df.copy()\";\n",
              "                var nbb_formatted_code = \"# Creating a copy of the data\\ndata = df.copy()\";\n",
              "                var nbb_cells = Jupyter.notebook.get_cells();\n",
              "                for (var i = 0; i < nbb_cells.length; ++i) {\n",
              "                    if (nbb_cells[i].input_prompt_number == nbb_cell_id) {\n",
              "                        if (nbb_cells[i].get_text() == nbb_unformatted_code) {\n",
              "                             nbb_cells[i].set_text(nbb_formatted_code);\n",
              "                        }\n",
              "                        break;\n",
              "                    }\n",
              "                }\n",
              "            }, 500);\n",
              "            "
            ]
          },
          "metadata": {}
        }
      ]
    },
    {
      "cell_type": "markdown",
      "source": [
        "# Exploring the Data (EDA)"
      ],
      "metadata": {
        "id": "sXu3DQ9mpzhf"
      }
    },
    {
      "cell_type": "code",
      "source": [
        "# Viewing first 5 rows of the dataset\n",
        "data.head()"
      ],
      "metadata": {
        "colab": {
          "base_uri": "https://localhost:8080/",
          "height": 206
        },
        "id": "_qH9k3UJp1cl",
        "outputId": "f43b2071-b695-4291-a722-a7a67b5c16c9"
      },
      "execution_count": null,
      "outputs": [
        {
          "output_type": "execute_result",
          "data": {
            "text/plain": [
              "   SR_NO Engg_College  Teaching  Fees  Placements  Internship  Infrastructure\n",
              "0      1            A         5     2           5           5               3\n",
              "1      2            B         4     2           5           5               3\n",
              "2      3            C         4     5           5           4               5\n",
              "3      4            D         5     4           5           4               4\n",
              "4      5            E         2     5           2           2               5"
            ],
            "text/html": [
              "\n",
              "  <div id=\"df-278d12a9-e3ba-4c99-be46-012909945a29\">\n",
              "    <div class=\"colab-df-container\">\n",
              "      <div>\n",
              "<style scoped>\n",
              "    .dataframe tbody tr th:only-of-type {\n",
              "        vertical-align: middle;\n",
              "    }\n",
              "\n",
              "    .dataframe tbody tr th {\n",
              "        vertical-align: top;\n",
              "    }\n",
              "\n",
              "    .dataframe thead th {\n",
              "        text-align: right;\n",
              "    }\n",
              "</style>\n",
              "<table border=\"1\" class=\"dataframe\">\n",
              "  <thead>\n",
              "    <tr style=\"text-align: right;\">\n",
              "      <th></th>\n",
              "      <th>SR_NO</th>\n",
              "      <th>Engg_College</th>\n",
              "      <th>Teaching</th>\n",
              "      <th>Fees</th>\n",
              "      <th>Placements</th>\n",
              "      <th>Internship</th>\n",
              "      <th>Infrastructure</th>\n",
              "    </tr>\n",
              "  </thead>\n",
              "  <tbody>\n",
              "    <tr>\n",
              "      <th>0</th>\n",
              "      <td>1</td>\n",
              "      <td>A</td>\n",
              "      <td>5</td>\n",
              "      <td>2</td>\n",
              "      <td>5</td>\n",
              "      <td>5</td>\n",
              "      <td>3</td>\n",
              "    </tr>\n",
              "    <tr>\n",
              "      <th>1</th>\n",
              "      <td>2</td>\n",
              "      <td>B</td>\n",
              "      <td>4</td>\n",
              "      <td>2</td>\n",
              "      <td>5</td>\n",
              "      <td>5</td>\n",
              "      <td>3</td>\n",
              "    </tr>\n",
              "    <tr>\n",
              "      <th>2</th>\n",
              "      <td>3</td>\n",
              "      <td>C</td>\n",
              "      <td>4</td>\n",
              "      <td>5</td>\n",
              "      <td>5</td>\n",
              "      <td>4</td>\n",
              "      <td>5</td>\n",
              "    </tr>\n",
              "    <tr>\n",
              "      <th>3</th>\n",
              "      <td>4</td>\n",
              "      <td>D</td>\n",
              "      <td>5</td>\n",
              "      <td>4</td>\n",
              "      <td>5</td>\n",
              "      <td>4</td>\n",
              "      <td>4</td>\n",
              "    </tr>\n",
              "    <tr>\n",
              "      <th>4</th>\n",
              "      <td>5</td>\n",
              "      <td>E</td>\n",
              "      <td>2</td>\n",
              "      <td>5</td>\n",
              "      <td>2</td>\n",
              "      <td>2</td>\n",
              "      <td>5</td>\n",
              "    </tr>\n",
              "  </tbody>\n",
              "</table>\n",
              "</div>\n",
              "      <button class=\"colab-df-convert\" onclick=\"convertToInteractive('df-278d12a9-e3ba-4c99-be46-012909945a29')\"\n",
              "              title=\"Convert this dataframe to an interactive table.\"\n",
              "              style=\"display:none;\">\n",
              "        \n",
              "  <svg xmlns=\"http://www.w3.org/2000/svg\" height=\"24px\"viewBox=\"0 0 24 24\"\n",
              "       width=\"24px\">\n",
              "    <path d=\"M0 0h24v24H0V0z\" fill=\"none\"/>\n",
              "    <path d=\"M18.56 5.44l.94 2.06.94-2.06 2.06-.94-2.06-.94-.94-2.06-.94 2.06-2.06.94zm-11 1L8.5 8.5l.94-2.06 2.06-.94-2.06-.94L8.5 2.5l-.94 2.06-2.06.94zm10 10l.94 2.06.94-2.06 2.06-.94-2.06-.94-.94-2.06-.94 2.06-2.06.94z\"/><path d=\"M17.41 7.96l-1.37-1.37c-.4-.4-.92-.59-1.43-.59-.52 0-1.04.2-1.43.59L10.3 9.45l-7.72 7.72c-.78.78-.78 2.05 0 2.83L4 21.41c.39.39.9.59 1.41.59.51 0 1.02-.2 1.41-.59l7.78-7.78 2.81-2.81c.8-.78.8-2.07 0-2.86zM5.41 20L4 18.59l7.72-7.72 1.47 1.35L5.41 20z\"/>\n",
              "  </svg>\n",
              "      </button>\n",
              "      \n",
              "  <style>\n",
              "    .colab-df-container {\n",
              "      display:flex;\n",
              "      flex-wrap:wrap;\n",
              "      gap: 12px;\n",
              "    }\n",
              "\n",
              "    .colab-df-convert {\n",
              "      background-color: #E8F0FE;\n",
              "      border: none;\n",
              "      border-radius: 50%;\n",
              "      cursor: pointer;\n",
              "      display: none;\n",
              "      fill: #1967D2;\n",
              "      height: 32px;\n",
              "      padding: 0 0 0 0;\n",
              "      width: 32px;\n",
              "    }\n",
              "\n",
              "    .colab-df-convert:hover {\n",
              "      background-color: #E2EBFA;\n",
              "      box-shadow: 0px 1px 2px rgba(60, 64, 67, 0.3), 0px 1px 3px 1px rgba(60, 64, 67, 0.15);\n",
              "      fill: #174EA6;\n",
              "    }\n",
              "\n",
              "    [theme=dark] .colab-df-convert {\n",
              "      background-color: #3B4455;\n",
              "      fill: #D2E3FC;\n",
              "    }\n",
              "\n",
              "    [theme=dark] .colab-df-convert:hover {\n",
              "      background-color: #434B5C;\n",
              "      box-shadow: 0px 1px 3px 1px rgba(0, 0, 0, 0.15);\n",
              "      filter: drop-shadow(0px 1px 2px rgba(0, 0, 0, 0.3));\n",
              "      fill: #FFFFFF;\n",
              "    }\n",
              "  </style>\n",
              "\n",
              "      <script>\n",
              "        const buttonEl =\n",
              "          document.querySelector('#df-278d12a9-e3ba-4c99-be46-012909945a29 button.colab-df-convert');\n",
              "        buttonEl.style.display =\n",
              "          google.colab.kernel.accessAllowed ? 'block' : 'none';\n",
              "\n",
              "        async function convertToInteractive(key) {\n",
              "          const element = document.querySelector('#df-278d12a9-e3ba-4c99-be46-012909945a29');\n",
              "          const dataTable =\n",
              "            await google.colab.kernel.invokeFunction('convertToInteractive',\n",
              "                                                     [key], {});\n",
              "          if (!dataTable) return;\n",
              "\n",
              "          const docLinkHtml = 'Like what you see? Visit the ' +\n",
              "            '<a target=\"_blank\" href=https://colab.research.google.com/notebooks/data_table.ipynb>data table notebook</a>'\n",
              "            + ' to learn more about interactive tables.';\n",
              "          element.innerHTML = '';\n",
              "          dataTable['output_type'] = 'display_data';\n",
              "          await google.colab.output.renderOutput(dataTable, element);\n",
              "          const docLink = document.createElement('div');\n",
              "          docLink.innerHTML = docLinkHtml;\n",
              "          element.appendChild(docLink);\n",
              "        }\n",
              "      </script>\n",
              "    </div>\n",
              "  </div>\n",
              "  "
            ]
          },
          "metadata": {},
          "execution_count": 69
        },
        {
          "output_type": "display_data",
          "data": {
            "text/plain": [
              "<IPython.core.display.Javascript object>"
            ],
            "application/javascript": [
              "\n",
              "            setTimeout(function() {\n",
              "                var nbb_cell_id = 69;\n",
              "                var nbb_unformatted_code = \"# Viewing first 5 rows of the dataset\\ndata.head()\";\n",
              "                var nbb_formatted_code = \"# Viewing first 5 rows of the dataset\\ndata.head()\";\n",
              "                var nbb_cells = Jupyter.notebook.get_cells();\n",
              "                for (var i = 0; i < nbb_cells.length; ++i) {\n",
              "                    if (nbb_cells[i].input_prompt_number == nbb_cell_id) {\n",
              "                        if (nbb_cells[i].get_text() == nbb_unformatted_code) {\n",
              "                             nbb_cells[i].set_text(nbb_formatted_code);\n",
              "                        }\n",
              "                        break;\n",
              "                    }\n",
              "                }\n",
              "            }, 500);\n",
              "            "
            ]
          },
          "metadata": {}
        }
      ]
    },
    {
      "cell_type": "code",
      "source": [
        "# Viewing last 5 rows of the dataset\n",
        "data.tail()"
      ],
      "metadata": {
        "colab": {
          "base_uri": "https://localhost:8080/",
          "height": 206
        },
        "id": "bhtGskWEqAHF",
        "outputId": "9ec9eadf-20ad-4ad8-b277-3bc7619a6801"
      },
      "execution_count": null,
      "outputs": [
        {
          "output_type": "execute_result",
          "data": {
            "text/plain": [
              "    SR_NO Engg_College  Teaching  Fees  Placements  Internship  Infrastructure\n",
              "21     22            V         2     2           1           2               1\n",
              "22     23            W         2     5           1           1               1\n",
              "23     24            X         1     1           1           2               5\n",
              "24     25            Y         1     1           1           1               5\n",
              "25     26            Z         3     4           5           2               3"
            ],
            "text/html": [
              "\n",
              "  <div id=\"df-60949b19-59c2-4415-9ff7-bd7f5e851f3b\">\n",
              "    <div class=\"colab-df-container\">\n",
              "      <div>\n",
              "<style scoped>\n",
              "    .dataframe tbody tr th:only-of-type {\n",
              "        vertical-align: middle;\n",
              "    }\n",
              "\n",
              "    .dataframe tbody tr th {\n",
              "        vertical-align: top;\n",
              "    }\n",
              "\n",
              "    .dataframe thead th {\n",
              "        text-align: right;\n",
              "    }\n",
              "</style>\n",
              "<table border=\"1\" class=\"dataframe\">\n",
              "  <thead>\n",
              "    <tr style=\"text-align: right;\">\n",
              "      <th></th>\n",
              "      <th>SR_NO</th>\n",
              "      <th>Engg_College</th>\n",
              "      <th>Teaching</th>\n",
              "      <th>Fees</th>\n",
              "      <th>Placements</th>\n",
              "      <th>Internship</th>\n",
              "      <th>Infrastructure</th>\n",
              "    </tr>\n",
              "  </thead>\n",
              "  <tbody>\n",
              "    <tr>\n",
              "      <th>21</th>\n",
              "      <td>22</td>\n",
              "      <td>V</td>\n",
              "      <td>2</td>\n",
              "      <td>2</td>\n",
              "      <td>1</td>\n",
              "      <td>2</td>\n",
              "      <td>1</td>\n",
              "    </tr>\n",
              "    <tr>\n",
              "      <th>22</th>\n",
              "      <td>23</td>\n",
              "      <td>W</td>\n",
              "      <td>2</td>\n",
              "      <td>5</td>\n",
              "      <td>1</td>\n",
              "      <td>1</td>\n",
              "      <td>1</td>\n",
              "    </tr>\n",
              "    <tr>\n",
              "      <th>23</th>\n",
              "      <td>24</td>\n",
              "      <td>X</td>\n",
              "      <td>1</td>\n",
              "      <td>1</td>\n",
              "      <td>1</td>\n",
              "      <td>2</td>\n",
              "      <td>5</td>\n",
              "    </tr>\n",
              "    <tr>\n",
              "      <th>24</th>\n",
              "      <td>25</td>\n",
              "      <td>Y</td>\n",
              "      <td>1</td>\n",
              "      <td>1</td>\n",
              "      <td>1</td>\n",
              "      <td>1</td>\n",
              "      <td>5</td>\n",
              "    </tr>\n",
              "    <tr>\n",
              "      <th>25</th>\n",
              "      <td>26</td>\n",
              "      <td>Z</td>\n",
              "      <td>3</td>\n",
              "      <td>4</td>\n",
              "      <td>5</td>\n",
              "      <td>2</td>\n",
              "      <td>3</td>\n",
              "    </tr>\n",
              "  </tbody>\n",
              "</table>\n",
              "</div>\n",
              "      <button class=\"colab-df-convert\" onclick=\"convertToInteractive('df-60949b19-59c2-4415-9ff7-bd7f5e851f3b')\"\n",
              "              title=\"Convert this dataframe to an interactive table.\"\n",
              "              style=\"display:none;\">\n",
              "        \n",
              "  <svg xmlns=\"http://www.w3.org/2000/svg\" height=\"24px\"viewBox=\"0 0 24 24\"\n",
              "       width=\"24px\">\n",
              "    <path d=\"M0 0h24v24H0V0z\" fill=\"none\"/>\n",
              "    <path d=\"M18.56 5.44l.94 2.06.94-2.06 2.06-.94-2.06-.94-.94-2.06-.94 2.06-2.06.94zm-11 1L8.5 8.5l.94-2.06 2.06-.94-2.06-.94L8.5 2.5l-.94 2.06-2.06.94zm10 10l.94 2.06.94-2.06 2.06-.94-2.06-.94-.94-2.06-.94 2.06-2.06.94z\"/><path d=\"M17.41 7.96l-1.37-1.37c-.4-.4-.92-.59-1.43-.59-.52 0-1.04.2-1.43.59L10.3 9.45l-7.72 7.72c-.78.78-.78 2.05 0 2.83L4 21.41c.39.39.9.59 1.41.59.51 0 1.02-.2 1.41-.59l7.78-7.78 2.81-2.81c.8-.78.8-2.07 0-2.86zM5.41 20L4 18.59l7.72-7.72 1.47 1.35L5.41 20z\"/>\n",
              "  </svg>\n",
              "      </button>\n",
              "      \n",
              "  <style>\n",
              "    .colab-df-container {\n",
              "      display:flex;\n",
              "      flex-wrap:wrap;\n",
              "      gap: 12px;\n",
              "    }\n",
              "\n",
              "    .colab-df-convert {\n",
              "      background-color: #E8F0FE;\n",
              "      border: none;\n",
              "      border-radius: 50%;\n",
              "      cursor: pointer;\n",
              "      display: none;\n",
              "      fill: #1967D2;\n",
              "      height: 32px;\n",
              "      padding: 0 0 0 0;\n",
              "      width: 32px;\n",
              "    }\n",
              "\n",
              "    .colab-df-convert:hover {\n",
              "      background-color: #E2EBFA;\n",
              "      box-shadow: 0px 1px 2px rgba(60, 64, 67, 0.3), 0px 1px 3px 1px rgba(60, 64, 67, 0.15);\n",
              "      fill: #174EA6;\n",
              "    }\n",
              "\n",
              "    [theme=dark] .colab-df-convert {\n",
              "      background-color: #3B4455;\n",
              "      fill: #D2E3FC;\n",
              "    }\n",
              "\n",
              "    [theme=dark] .colab-df-convert:hover {\n",
              "      background-color: #434B5C;\n",
              "      box-shadow: 0px 1px 3px 1px rgba(0, 0, 0, 0.15);\n",
              "      filter: drop-shadow(0px 1px 2px rgba(0, 0, 0, 0.3));\n",
              "      fill: #FFFFFF;\n",
              "    }\n",
              "  </style>\n",
              "\n",
              "      <script>\n",
              "        const buttonEl =\n",
              "          document.querySelector('#df-60949b19-59c2-4415-9ff7-bd7f5e851f3b button.colab-df-convert');\n",
              "        buttonEl.style.display =\n",
              "          google.colab.kernel.accessAllowed ? 'block' : 'none';\n",
              "\n",
              "        async function convertToInteractive(key) {\n",
              "          const element = document.querySelector('#df-60949b19-59c2-4415-9ff7-bd7f5e851f3b');\n",
              "          const dataTable =\n",
              "            await google.colab.kernel.invokeFunction('convertToInteractive',\n",
              "                                                     [key], {});\n",
              "          if (!dataTable) return;\n",
              "\n",
              "          const docLinkHtml = 'Like what you see? Visit the ' +\n",
              "            '<a target=\"_blank\" href=https://colab.research.google.com/notebooks/data_table.ipynb>data table notebook</a>'\n",
              "            + ' to learn more about interactive tables.';\n",
              "          element.innerHTML = '';\n",
              "          dataTable['output_type'] = 'display_data';\n",
              "          await google.colab.output.renderOutput(dataTable, element);\n",
              "          const docLink = document.createElement('div');\n",
              "          docLink.innerHTML = docLinkHtml;\n",
              "          element.appendChild(docLink);\n",
              "        }\n",
              "      </script>\n",
              "    </div>\n",
              "  </div>\n",
              "  "
            ]
          },
          "metadata": {},
          "execution_count": 70
        },
        {
          "output_type": "display_data",
          "data": {
            "text/plain": [
              "<IPython.core.display.Javascript object>"
            ],
            "application/javascript": [
              "\n",
              "            setTimeout(function() {\n",
              "                var nbb_cell_id = 70;\n",
              "                var nbb_unformatted_code = \"# Viewing last 5 rows of the dataset\\ndata.tail()\";\n",
              "                var nbb_formatted_code = \"# Viewing last 5 rows of the dataset\\ndata.tail()\";\n",
              "                var nbb_cells = Jupyter.notebook.get_cells();\n",
              "                for (var i = 0; i < nbb_cells.length; ++i) {\n",
              "                    if (nbb_cells[i].input_prompt_number == nbb_cell_id) {\n",
              "                        if (nbb_cells[i].get_text() == nbb_unformatted_code) {\n",
              "                             nbb_cells[i].set_text(nbb_formatted_code);\n",
              "                        }\n",
              "                        break;\n",
              "                    }\n",
              "                }\n",
              "            }, 500);\n",
              "            "
            ]
          },
          "metadata": {}
        }
      ]
    },
    {
      "cell_type": "code",
      "source": [
        "#Getting the shape of the dataset\n",
        "data.shape"
      ],
      "metadata": {
        "colab": {
          "base_uri": "https://localhost:8080/",
          "height": 35
        },
        "id": "-Jcqw2N5qE7T",
        "outputId": "c1d4d3ef-575f-4218-c01d-d02a760cd933"
      },
      "execution_count": null,
      "outputs": [
        {
          "output_type": "execute_result",
          "data": {
            "text/plain": [
              "(26, 7)"
            ]
          },
          "metadata": {},
          "execution_count": 71
        },
        {
          "output_type": "display_data",
          "data": {
            "text/plain": [
              "<IPython.core.display.Javascript object>"
            ],
            "application/javascript": [
              "\n",
              "            setTimeout(function() {\n",
              "                var nbb_cell_id = 71;\n",
              "                var nbb_unformatted_code = \"#Getting the shape of the dataset\\ndata.shape\";\n",
              "                var nbb_formatted_code = \"# Getting the shape of the dataset\\ndata.shape\";\n",
              "                var nbb_cells = Jupyter.notebook.get_cells();\n",
              "                for (var i = 0; i < nbb_cells.length; ++i) {\n",
              "                    if (nbb_cells[i].input_prompt_number == nbb_cell_id) {\n",
              "                        if (nbb_cells[i].get_text() == nbb_unformatted_code) {\n",
              "                             nbb_cells[i].set_text(nbb_formatted_code);\n",
              "                        }\n",
              "                        break;\n",
              "                    }\n",
              "                }\n",
              "            }, 500);\n",
              "            "
            ]
          },
          "metadata": {}
        }
      ]
    },
    {
      "cell_type": "markdown",
      "source": [
        "Observation:\n",
        "\n",
        "* The dataset has 26 rows and 7 columns"
      ],
      "metadata": {
        "id": "7m4ci9vavhvX"
      }
    },
    {
      "cell_type": "code",
      "source": [
        "#Printing the data info\n",
        "data.info()"
      ],
      "metadata": {
        "colab": {
          "base_uri": "https://localhost:8080/",
          "height": 275
        },
        "id": "isXa9JgZqN5B",
        "outputId": "759409b2-2b66-4dab-96d0-1738d9c3242e"
      },
      "execution_count": null,
      "outputs": [
        {
          "output_type": "stream",
          "name": "stdout",
          "text": [
            "<class 'pandas.core.frame.DataFrame'>\n",
            "RangeIndex: 26 entries, 0 to 25\n",
            "Data columns (total 7 columns):\n",
            " #   Column          Non-Null Count  Dtype \n",
            "---  ------          --------------  ----- \n",
            " 0   SR_NO           26 non-null     int64 \n",
            " 1   Engg_College    26 non-null     object\n",
            " 2   Teaching        26 non-null     int64 \n",
            " 3   Fees            26 non-null     int64 \n",
            " 4   Placements      26 non-null     int64 \n",
            " 5   Internship      26 non-null     int64 \n",
            " 6   Infrastructure  26 non-null     int64 \n",
            "dtypes: int64(6), object(1)\n",
            "memory usage: 1.5+ KB\n"
          ]
        },
        {
          "output_type": "display_data",
          "data": {
            "text/plain": [
              "<IPython.core.display.Javascript object>"
            ],
            "application/javascript": [
              "\n",
              "            setTimeout(function() {\n",
              "                var nbb_cell_id = 72;\n",
              "                var nbb_unformatted_code = \"#Printing the data info\\ndata.info()\";\n",
              "                var nbb_formatted_code = \"# Printing the data info\\ndata.info()\";\n",
              "                var nbb_cells = Jupyter.notebook.get_cells();\n",
              "                for (var i = 0; i < nbb_cells.length; ++i) {\n",
              "                    if (nbb_cells[i].input_prompt_number == nbb_cell_id) {\n",
              "                        if (nbb_cells[i].get_text() == nbb_unformatted_code) {\n",
              "                             nbb_cells[i].set_text(nbb_formatted_code);\n",
              "                        }\n",
              "                        break;\n",
              "                    }\n",
              "                }\n",
              "            }, 500);\n",
              "            "
            ]
          },
          "metadata": {}
        }
      ]
    },
    {
      "cell_type": "markdown",
      "source": [
        "Observation:\n",
        "\n",
        "* 6 variables are of int type.\n",
        "* Engg_College is object type."
      ],
      "metadata": {
        "id": "ulIiCR65vwxL"
      }
    },
    {
      "cell_type": "code",
      "source": [
        "#Checking the dataset for missing values\n",
        "data.isnull().sum()"
      ],
      "metadata": {
        "colab": {
          "base_uri": "https://localhost:8080/",
          "height": 165
        },
        "id": "zIX7qN1NqPNB",
        "outputId": "cb09f772-31e3-4de5-d195-53b79aa9c544"
      },
      "execution_count": null,
      "outputs": [
        {
          "output_type": "execute_result",
          "data": {
            "text/plain": [
              "SR_NO             0\n",
              "Engg_College      0\n",
              "Teaching          0\n",
              "Fees              0\n",
              "Placements        0\n",
              "Internship        0\n",
              "Infrastructure    0\n",
              "dtype: int64"
            ]
          },
          "metadata": {},
          "execution_count": 73
        },
        {
          "output_type": "display_data",
          "data": {
            "text/plain": [
              "<IPython.core.display.Javascript object>"
            ],
            "application/javascript": [
              "\n",
              "            setTimeout(function() {\n",
              "                var nbb_cell_id = 73;\n",
              "                var nbb_unformatted_code = \"#Checking the dataset for missing values\\ndata.isnull().sum()\";\n",
              "                var nbb_formatted_code = \"# Checking the dataset for missing values\\ndata.isnull().sum()\";\n",
              "                var nbb_cells = Jupyter.notebook.get_cells();\n",
              "                for (var i = 0; i < nbb_cells.length; ++i) {\n",
              "                    if (nbb_cells[i].input_prompt_number == nbb_cell_id) {\n",
              "                        if (nbb_cells[i].get_text() == nbb_unformatted_code) {\n",
              "                             nbb_cells[i].set_text(nbb_formatted_code);\n",
              "                        }\n",
              "                        break;\n",
              "                    }\n",
              "                }\n",
              "            }, 500);\n",
              "            "
            ]
          },
          "metadata": {}
        }
      ]
    },
    {
      "cell_type": "markdown",
      "source": [
        "Observation:\n",
        "\n",
        "The dataset does not have any missing values."
      ],
      "metadata": {
        "id": "aua055DEwL4C"
      }
    },
    {
      "cell_type": "code",
      "source": [
        "#Checking for duplicate values in the data\n",
        "data.duplicated().sum()"
      ],
      "metadata": {
        "colab": {
          "base_uri": "https://localhost:8080/",
          "height": 35
        },
        "id": "KvjhS-10qSzn",
        "outputId": "78ff80b1-7c18-4bbc-f9c8-85271e65ee7f"
      },
      "execution_count": null,
      "outputs": [
        {
          "output_type": "execute_result",
          "data": {
            "text/plain": [
              "0"
            ]
          },
          "metadata": {},
          "execution_count": 74
        },
        {
          "output_type": "display_data",
          "data": {
            "text/plain": [
              "<IPython.core.display.Javascript object>"
            ],
            "application/javascript": [
              "\n",
              "            setTimeout(function() {\n",
              "                var nbb_cell_id = 74;\n",
              "                var nbb_unformatted_code = \"#Checking for duplicate values in the data\\ndata.duplicated().sum()\";\n",
              "                var nbb_formatted_code = \"# Checking for duplicate values in the data\\ndata.duplicated().sum()\";\n",
              "                var nbb_cells = Jupyter.notebook.get_cells();\n",
              "                for (var i = 0; i < nbb_cells.length; ++i) {\n",
              "                    if (nbb_cells[i].input_prompt_number == nbb_cell_id) {\n",
              "                        if (nbb_cells[i].get_text() == nbb_unformatted_code) {\n",
              "                             nbb_cells[i].set_text(nbb_formatted_code);\n",
              "                        }\n",
              "                        break;\n",
              "                    }\n",
              "                }\n",
              "            }, 500);\n",
              "            "
            ]
          },
          "metadata": {}
        }
      ]
    },
    {
      "cell_type": "markdown",
      "source": [
        "Observation:\n",
        "\n",
        "The dataset does not have any duplicate values."
      ],
      "metadata": {
        "id": "wYiG7PVIwHU8"
      }
    },
    {
      "cell_type": "code",
      "source": [
        "# Summary of the numerical columns in the data\n",
        "data.describe().T"
      ],
      "metadata": {
        "colab": {
          "base_uri": "https://localhost:8080/",
          "height": 237
        },
        "id": "SN1Z8j0Tqauj",
        "outputId": "0f6e4942-0966-42d9-d2c1-ba2097db200b"
      },
      "execution_count": null,
      "outputs": [
        {
          "output_type": "execute_result",
          "data": {
            "text/plain": [
              "                count       mean       std  min   25%   50%    75%   max\n",
              "SR_NO            26.0  13.500000  7.648529  1.0  7.25  13.5  19.75  26.0\n",
              "Teaching         26.0   2.807692  1.132051  1.0  2.00   3.0   3.00   5.0\n",
              "Fees             26.0   3.576923  1.331858  1.0  2.25   4.0   5.00   5.0\n",
              "Placements       26.0   2.884615  1.531716  1.0  1.25   3.0   4.00   5.0\n",
              "Internship       26.0   2.769231  1.242826  1.0  2.00   2.0   4.00   5.0\n",
              "Infrastructure   26.0   3.384615  1.298520  1.0  3.00   3.0   4.75   5.0"
            ],
            "text/html": [
              "\n",
              "  <div id=\"df-8a55cd0e-08c6-4407-a9e9-db1b55f4a47e\">\n",
              "    <div class=\"colab-df-container\">\n",
              "      <div>\n",
              "<style scoped>\n",
              "    .dataframe tbody tr th:only-of-type {\n",
              "        vertical-align: middle;\n",
              "    }\n",
              "\n",
              "    .dataframe tbody tr th {\n",
              "        vertical-align: top;\n",
              "    }\n",
              "\n",
              "    .dataframe thead th {\n",
              "        text-align: right;\n",
              "    }\n",
              "</style>\n",
              "<table border=\"1\" class=\"dataframe\">\n",
              "  <thead>\n",
              "    <tr style=\"text-align: right;\">\n",
              "      <th></th>\n",
              "      <th>count</th>\n",
              "      <th>mean</th>\n",
              "      <th>std</th>\n",
              "      <th>min</th>\n",
              "      <th>25%</th>\n",
              "      <th>50%</th>\n",
              "      <th>75%</th>\n",
              "      <th>max</th>\n",
              "    </tr>\n",
              "  </thead>\n",
              "  <tbody>\n",
              "    <tr>\n",
              "      <th>SR_NO</th>\n",
              "      <td>26.0</td>\n",
              "      <td>13.500000</td>\n",
              "      <td>7.648529</td>\n",
              "      <td>1.0</td>\n",
              "      <td>7.25</td>\n",
              "      <td>13.5</td>\n",
              "      <td>19.75</td>\n",
              "      <td>26.0</td>\n",
              "    </tr>\n",
              "    <tr>\n",
              "      <th>Teaching</th>\n",
              "      <td>26.0</td>\n",
              "      <td>2.807692</td>\n",
              "      <td>1.132051</td>\n",
              "      <td>1.0</td>\n",
              "      <td>2.00</td>\n",
              "      <td>3.0</td>\n",
              "      <td>3.00</td>\n",
              "      <td>5.0</td>\n",
              "    </tr>\n",
              "    <tr>\n",
              "      <th>Fees</th>\n",
              "      <td>26.0</td>\n",
              "      <td>3.576923</td>\n",
              "      <td>1.331858</td>\n",
              "      <td>1.0</td>\n",
              "      <td>2.25</td>\n",
              "      <td>4.0</td>\n",
              "      <td>5.00</td>\n",
              "      <td>5.0</td>\n",
              "    </tr>\n",
              "    <tr>\n",
              "      <th>Placements</th>\n",
              "      <td>26.0</td>\n",
              "      <td>2.884615</td>\n",
              "      <td>1.531716</td>\n",
              "      <td>1.0</td>\n",
              "      <td>1.25</td>\n",
              "      <td>3.0</td>\n",
              "      <td>4.00</td>\n",
              "      <td>5.0</td>\n",
              "    </tr>\n",
              "    <tr>\n",
              "      <th>Internship</th>\n",
              "      <td>26.0</td>\n",
              "      <td>2.769231</td>\n",
              "      <td>1.242826</td>\n",
              "      <td>1.0</td>\n",
              "      <td>2.00</td>\n",
              "      <td>2.0</td>\n",
              "      <td>4.00</td>\n",
              "      <td>5.0</td>\n",
              "    </tr>\n",
              "    <tr>\n",
              "      <th>Infrastructure</th>\n",
              "      <td>26.0</td>\n",
              "      <td>3.384615</td>\n",
              "      <td>1.298520</td>\n",
              "      <td>1.0</td>\n",
              "      <td>3.00</td>\n",
              "      <td>3.0</td>\n",
              "      <td>4.75</td>\n",
              "      <td>5.0</td>\n",
              "    </tr>\n",
              "  </tbody>\n",
              "</table>\n",
              "</div>\n",
              "      <button class=\"colab-df-convert\" onclick=\"convertToInteractive('df-8a55cd0e-08c6-4407-a9e9-db1b55f4a47e')\"\n",
              "              title=\"Convert this dataframe to an interactive table.\"\n",
              "              style=\"display:none;\">\n",
              "        \n",
              "  <svg xmlns=\"http://www.w3.org/2000/svg\" height=\"24px\"viewBox=\"0 0 24 24\"\n",
              "       width=\"24px\">\n",
              "    <path d=\"M0 0h24v24H0V0z\" fill=\"none\"/>\n",
              "    <path d=\"M18.56 5.44l.94 2.06.94-2.06 2.06-.94-2.06-.94-.94-2.06-.94 2.06-2.06.94zm-11 1L8.5 8.5l.94-2.06 2.06-.94-2.06-.94L8.5 2.5l-.94 2.06-2.06.94zm10 10l.94 2.06.94-2.06 2.06-.94-2.06-.94-.94-2.06-.94 2.06-2.06.94z\"/><path d=\"M17.41 7.96l-1.37-1.37c-.4-.4-.92-.59-1.43-.59-.52 0-1.04.2-1.43.59L10.3 9.45l-7.72 7.72c-.78.78-.78 2.05 0 2.83L4 21.41c.39.39.9.59 1.41.59.51 0 1.02-.2 1.41-.59l7.78-7.78 2.81-2.81c.8-.78.8-2.07 0-2.86zM5.41 20L4 18.59l7.72-7.72 1.47 1.35L5.41 20z\"/>\n",
              "  </svg>\n",
              "      </button>\n",
              "      \n",
              "  <style>\n",
              "    .colab-df-container {\n",
              "      display:flex;\n",
              "      flex-wrap:wrap;\n",
              "      gap: 12px;\n",
              "    }\n",
              "\n",
              "    .colab-df-convert {\n",
              "      background-color: #E8F0FE;\n",
              "      border: none;\n",
              "      border-radius: 50%;\n",
              "      cursor: pointer;\n",
              "      display: none;\n",
              "      fill: #1967D2;\n",
              "      height: 32px;\n",
              "      padding: 0 0 0 0;\n",
              "      width: 32px;\n",
              "    }\n",
              "\n",
              "    .colab-df-convert:hover {\n",
              "      background-color: #E2EBFA;\n",
              "      box-shadow: 0px 1px 2px rgba(60, 64, 67, 0.3), 0px 1px 3px 1px rgba(60, 64, 67, 0.15);\n",
              "      fill: #174EA6;\n",
              "    }\n",
              "\n",
              "    [theme=dark] .colab-df-convert {\n",
              "      background-color: #3B4455;\n",
              "      fill: #D2E3FC;\n",
              "    }\n",
              "\n",
              "    [theme=dark] .colab-df-convert:hover {\n",
              "      background-color: #434B5C;\n",
              "      box-shadow: 0px 1px 3px 1px rgba(0, 0, 0, 0.15);\n",
              "      filter: drop-shadow(0px 1px 2px rgba(0, 0, 0, 0.3));\n",
              "      fill: #FFFFFF;\n",
              "    }\n",
              "  </style>\n",
              "\n",
              "      <script>\n",
              "        const buttonEl =\n",
              "          document.querySelector('#df-8a55cd0e-08c6-4407-a9e9-db1b55f4a47e button.colab-df-convert');\n",
              "        buttonEl.style.display =\n",
              "          google.colab.kernel.accessAllowed ? 'block' : 'none';\n",
              "\n",
              "        async function convertToInteractive(key) {\n",
              "          const element = document.querySelector('#df-8a55cd0e-08c6-4407-a9e9-db1b55f4a47e');\n",
              "          const dataTable =\n",
              "            await google.colab.kernel.invokeFunction('convertToInteractive',\n",
              "                                                     [key], {});\n",
              "          if (!dataTable) return;\n",
              "\n",
              "          const docLinkHtml = 'Like what you see? Visit the ' +\n",
              "            '<a target=\"_blank\" href=https://colab.research.google.com/notebooks/data_table.ipynb>data table notebook</a>'\n",
              "            + ' to learn more about interactive tables.';\n",
              "          element.innerHTML = '';\n",
              "          dataTable['output_type'] = 'display_data';\n",
              "          await google.colab.output.renderOutput(dataTable, element);\n",
              "          const docLink = document.createElement('div');\n",
              "          docLink.innerHTML = docLinkHtml;\n",
              "          element.appendChild(docLink);\n",
              "        }\n",
              "      </script>\n",
              "    </div>\n",
              "  </div>\n",
              "  "
            ]
          },
          "metadata": {},
          "execution_count": 75
        },
        {
          "output_type": "display_data",
          "data": {
            "text/plain": [
              "<IPython.core.display.Javascript object>"
            ],
            "application/javascript": [
              "\n",
              "            setTimeout(function() {\n",
              "                var nbb_cell_id = 75;\n",
              "                var nbb_unformatted_code = \"# Summary of the numerical columns in the data\\ndata.describe().T\";\n",
              "                var nbb_formatted_code = \"# Summary of the numerical columns in the data\\ndata.describe().T\";\n",
              "                var nbb_cells = Jupyter.notebook.get_cells();\n",
              "                for (var i = 0; i < nbb_cells.length; ++i) {\n",
              "                    if (nbb_cells[i].input_prompt_number == nbb_cell_id) {\n",
              "                        if (nbb_cells[i].get_text() == nbb_unformatted_code) {\n",
              "                             nbb_cells[i].set_text(nbb_formatted_code);\n",
              "                        }\n",
              "                        break;\n",
              "                    }\n",
              "                }\n",
              "            }, 500);\n",
              "            "
            ]
          },
          "metadata": {}
        }
      ]
    },
    {
      "cell_type": "code",
      "source": [
        "#Dropping SR_NO variable\n",
        "data.drop(\"SR_NO\", axis=1, inplace=True)"
      ],
      "metadata": {
        "colab": {
          "base_uri": "https://localhost:8080/",
          "height": 17
        },
        "id": "SIZlAI445wha",
        "outputId": "c6ac98dd-4616-4ad0-e853-7437d59464df"
      },
      "execution_count": null,
      "outputs": [
        {
          "output_type": "display_data",
          "data": {
            "text/plain": [
              "<IPython.core.display.Javascript object>"
            ],
            "application/javascript": [
              "\n",
              "            setTimeout(function() {\n",
              "                var nbb_cell_id = 76;\n",
              "                var nbb_unformatted_code = \"data.drop(\\\"SR_NO\\\", axis=1, inplace=True)\";\n",
              "                var nbb_formatted_code = \"data.drop(\\\"SR_NO\\\", axis=1, inplace=True)\";\n",
              "                var nbb_cells = Jupyter.notebook.get_cells();\n",
              "                for (var i = 0; i < nbb_cells.length; ++i) {\n",
              "                    if (nbb_cells[i].input_prompt_number == nbb_cell_id) {\n",
              "                        if (nbb_cells[i].get_text() == nbb_unformatted_code) {\n",
              "                             nbb_cells[i].set_text(nbb_formatted_code);\n",
              "                        }\n",
              "                        break;\n",
              "                    }\n",
              "                }\n",
              "            }, 500);\n",
              "            "
            ]
          },
          "metadata": {}
        }
      ]
    },
    {
      "cell_type": "code",
      "source": [
        "cols = data.select_dtypes([\"object\"])\n",
        "cols.columns"
      ],
      "metadata": {
        "colab": {
          "base_uri": "https://localhost:8080/",
          "height": 35
        },
        "id": "wIFl8gbZ5YVg",
        "outputId": "4c1b3623-2772-4dc6-960f-c75034950724"
      },
      "execution_count": null,
      "outputs": [
        {
          "output_type": "execute_result",
          "data": {
            "text/plain": [
              "Index(['Engg_College'], dtype='object')"
            ]
          },
          "metadata": {},
          "execution_count": 77
        },
        {
          "output_type": "display_data",
          "data": {
            "text/plain": [
              "<IPython.core.display.Javascript object>"
            ],
            "application/javascript": [
              "\n",
              "            setTimeout(function() {\n",
              "                var nbb_cell_id = 77;\n",
              "                var nbb_unformatted_code = \"cols = data.select_dtypes([\\\"object\\\"])\\ncols.columns\";\n",
              "                var nbb_formatted_code = \"cols = data.select_dtypes([\\\"object\\\"])\\ncols.columns\";\n",
              "                var nbb_cells = Jupyter.notebook.get_cells();\n",
              "                for (var i = 0; i < nbb_cells.length; ++i) {\n",
              "                    if (nbb_cells[i].input_prompt_number == nbb_cell_id) {\n",
              "                        if (nbb_cells[i].get_text() == nbb_unformatted_code) {\n",
              "                             nbb_cells[i].set_text(nbb_formatted_code);\n",
              "                        }\n",
              "                        break;\n",
              "                    }\n",
              "                }\n",
              "            }, 500);\n",
              "            "
            ]
          },
          "metadata": {}
        }
      ]
    },
    {
      "cell_type": "code",
      "source": [
        "#Converting object type variable into categorical\n",
        "for i in cols.columns:\n",
        "    data[i] = data[i].astype(\"category\")"
      ],
      "metadata": {
        "colab": {
          "base_uri": "https://localhost:8080/",
          "height": 17
        },
        "id": "mcYOSn3d5eRX",
        "outputId": "b2222e82-d09b-4a52-d691-44ddaf4bf152"
      },
      "execution_count": null,
      "outputs": [
        {
          "output_type": "display_data",
          "data": {
            "text/plain": [
              "<IPython.core.display.Javascript object>"
            ],
            "application/javascript": [
              "\n",
              "            setTimeout(function() {\n",
              "                var nbb_cell_id = 78;\n",
              "                var nbb_unformatted_code = \"for i in cols.columns:\\n    data[i] = data[i].astype(\\\"category\\\")\";\n",
              "                var nbb_formatted_code = \"for i in cols.columns:\\n    data[i] = data[i].astype(\\\"category\\\")\";\n",
              "                var nbb_cells = Jupyter.notebook.get_cells();\n",
              "                for (var i = 0; i < nbb_cells.length; ++i) {\n",
              "                    if (nbb_cells[i].input_prompt_number == nbb_cell_id) {\n",
              "                        if (nbb_cells[i].get_text() == nbb_unformatted_code) {\n",
              "                             nbb_cells[i].set_text(nbb_formatted_code);\n",
              "                        }\n",
              "                        break;\n",
              "                    }\n",
              "                }\n",
              "            }, 500);\n",
              "            "
            ]
          },
          "metadata": {}
        }
      ]
    },
    {
      "cell_type": "code",
      "source": [
        "data.describe(include=[\"category\"]).T"
      ],
      "metadata": {
        "colab": {
          "base_uri": "https://localhost:8080/",
          "height": 81
        },
        "id": "4kp8CDXb5p5z",
        "outputId": "b11489a9-455c-4a42-9d07-16612224f4f6"
      },
      "execution_count": null,
      "outputs": [
        {
          "output_type": "execute_result",
          "data": {
            "text/plain": [
              "             count unique top freq\n",
              "Engg_College    26     26   A    1"
            ],
            "text/html": [
              "\n",
              "  <div id=\"df-6f9b08e0-e11a-48d8-935a-442591e99c2a\">\n",
              "    <div class=\"colab-df-container\">\n",
              "      <div>\n",
              "<style scoped>\n",
              "    .dataframe tbody tr th:only-of-type {\n",
              "        vertical-align: middle;\n",
              "    }\n",
              "\n",
              "    .dataframe tbody tr th {\n",
              "        vertical-align: top;\n",
              "    }\n",
              "\n",
              "    .dataframe thead th {\n",
              "        text-align: right;\n",
              "    }\n",
              "</style>\n",
              "<table border=\"1\" class=\"dataframe\">\n",
              "  <thead>\n",
              "    <tr style=\"text-align: right;\">\n",
              "      <th></th>\n",
              "      <th>count</th>\n",
              "      <th>unique</th>\n",
              "      <th>top</th>\n",
              "      <th>freq</th>\n",
              "    </tr>\n",
              "  </thead>\n",
              "  <tbody>\n",
              "    <tr>\n",
              "      <th>Engg_College</th>\n",
              "      <td>26</td>\n",
              "      <td>26</td>\n",
              "      <td>A</td>\n",
              "      <td>1</td>\n",
              "    </tr>\n",
              "  </tbody>\n",
              "</table>\n",
              "</div>\n",
              "      <button class=\"colab-df-convert\" onclick=\"convertToInteractive('df-6f9b08e0-e11a-48d8-935a-442591e99c2a')\"\n",
              "              title=\"Convert this dataframe to an interactive table.\"\n",
              "              style=\"display:none;\">\n",
              "        \n",
              "  <svg xmlns=\"http://www.w3.org/2000/svg\" height=\"24px\"viewBox=\"0 0 24 24\"\n",
              "       width=\"24px\">\n",
              "    <path d=\"M0 0h24v24H0V0z\" fill=\"none\"/>\n",
              "    <path d=\"M18.56 5.44l.94 2.06.94-2.06 2.06-.94-2.06-.94-.94-2.06-.94 2.06-2.06.94zm-11 1L8.5 8.5l.94-2.06 2.06-.94-2.06-.94L8.5 2.5l-.94 2.06-2.06.94zm10 10l.94 2.06.94-2.06 2.06-.94-2.06-.94-.94-2.06-.94 2.06-2.06.94z\"/><path d=\"M17.41 7.96l-1.37-1.37c-.4-.4-.92-.59-1.43-.59-.52 0-1.04.2-1.43.59L10.3 9.45l-7.72 7.72c-.78.78-.78 2.05 0 2.83L4 21.41c.39.39.9.59 1.41.59.51 0 1.02-.2 1.41-.59l7.78-7.78 2.81-2.81c.8-.78.8-2.07 0-2.86zM5.41 20L4 18.59l7.72-7.72 1.47 1.35L5.41 20z\"/>\n",
              "  </svg>\n",
              "      </button>\n",
              "      \n",
              "  <style>\n",
              "    .colab-df-container {\n",
              "      display:flex;\n",
              "      flex-wrap:wrap;\n",
              "      gap: 12px;\n",
              "    }\n",
              "\n",
              "    .colab-df-convert {\n",
              "      background-color: #E8F0FE;\n",
              "      border: none;\n",
              "      border-radius: 50%;\n",
              "      cursor: pointer;\n",
              "      display: none;\n",
              "      fill: #1967D2;\n",
              "      height: 32px;\n",
              "      padding: 0 0 0 0;\n",
              "      width: 32px;\n",
              "    }\n",
              "\n",
              "    .colab-df-convert:hover {\n",
              "      background-color: #E2EBFA;\n",
              "      box-shadow: 0px 1px 2px rgba(60, 64, 67, 0.3), 0px 1px 3px 1px rgba(60, 64, 67, 0.15);\n",
              "      fill: #174EA6;\n",
              "    }\n",
              "\n",
              "    [theme=dark] .colab-df-convert {\n",
              "      background-color: #3B4455;\n",
              "      fill: #D2E3FC;\n",
              "    }\n",
              "\n",
              "    [theme=dark] .colab-df-convert:hover {\n",
              "      background-color: #434B5C;\n",
              "      box-shadow: 0px 1px 3px 1px rgba(0, 0, 0, 0.15);\n",
              "      filter: drop-shadow(0px 1px 2px rgba(0, 0, 0, 0.3));\n",
              "      fill: #FFFFFF;\n",
              "    }\n",
              "  </style>\n",
              "\n",
              "      <script>\n",
              "        const buttonEl =\n",
              "          document.querySelector('#df-6f9b08e0-e11a-48d8-935a-442591e99c2a button.colab-df-convert');\n",
              "        buttonEl.style.display =\n",
              "          google.colab.kernel.accessAllowed ? 'block' : 'none';\n",
              "\n",
              "        async function convertToInteractive(key) {\n",
              "          const element = document.querySelector('#df-6f9b08e0-e11a-48d8-935a-442591e99c2a');\n",
              "          const dataTable =\n",
              "            await google.colab.kernel.invokeFunction('convertToInteractive',\n",
              "                                                     [key], {});\n",
              "          if (!dataTable) return;\n",
              "\n",
              "          const docLinkHtml = 'Like what you see? Visit the ' +\n",
              "            '<a target=\"_blank\" href=https://colab.research.google.com/notebooks/data_table.ipynb>data table notebook</a>'\n",
              "            + ' to learn more about interactive tables.';\n",
              "          element.innerHTML = '';\n",
              "          dataTable['output_type'] = 'display_data';\n",
              "          await google.colab.output.renderOutput(dataTable, element);\n",
              "          const docLink = document.createElement('div');\n",
              "          docLink.innerHTML = docLinkHtml;\n",
              "          element.appendChild(docLink);\n",
              "        }\n",
              "      </script>\n",
              "    </div>\n",
              "  </div>\n",
              "  "
            ]
          },
          "metadata": {},
          "execution_count": 79
        },
        {
          "output_type": "display_data",
          "data": {
            "text/plain": [
              "<IPython.core.display.Javascript object>"
            ],
            "application/javascript": [
              "\n",
              "            setTimeout(function() {\n",
              "                var nbb_cell_id = 79;\n",
              "                var nbb_unformatted_code = \"data.describe(include=[\\\"category\\\"]).T\";\n",
              "                var nbb_formatted_code = \"data.describe(include=[\\\"category\\\"]).T\";\n",
              "                var nbb_cells = Jupyter.notebook.get_cells();\n",
              "                for (var i = 0; i < nbb_cells.length; ++i) {\n",
              "                    if (nbb_cells[i].input_prompt_number == nbb_cell_id) {\n",
              "                        if (nbb_cells[i].get_text() == nbb_unformatted_code) {\n",
              "                             nbb_cells[i].set_text(nbb_formatted_code);\n",
              "                        }\n",
              "                        break;\n",
              "                    }\n",
              "                }\n",
              "            }, 500);\n",
              "            "
            ]
          },
          "metadata": {}
        }
      ]
    },
    {
      "cell_type": "code",
      "source": [
        "# Checking unique names \n",
        "data.Engg_College.unique()"
      ],
      "metadata": {
        "colab": {
          "base_uri": "https://localhost:8080/",
          "height": 72
        },
        "id": "z4aZwLDr4VFU",
        "outputId": "a9bb4c31-9112-4b4b-f602-722022a498d5"
      },
      "execution_count": null,
      "outputs": [
        {
          "output_type": "execute_result",
          "data": {
            "text/plain": [
              "['A', 'B', 'C', 'D', 'E', ..., 'V', 'W', 'X', 'Y', 'Z']\n",
              "Length: 26\n",
              "Categories (26, object): ['A', 'B', 'C', 'D', ..., 'W', 'X', 'Y', 'Z']"
            ]
          },
          "metadata": {},
          "execution_count": 80
        },
        {
          "output_type": "display_data",
          "data": {
            "text/plain": [
              "<IPython.core.display.Javascript object>"
            ],
            "application/javascript": [
              "\n",
              "            setTimeout(function() {\n",
              "                var nbb_cell_id = 80;\n",
              "                var nbb_unformatted_code = \"# let's see what unique names are in the Brand feature\\ndata.Engg_College.unique()\";\n",
              "                var nbb_formatted_code = \"# let's see what unique names are in the Brand feature\\ndata.Engg_College.unique()\";\n",
              "                var nbb_cells = Jupyter.notebook.get_cells();\n",
              "                for (var i = 0; i < nbb_cells.length; ++i) {\n",
              "                    if (nbb_cells[i].input_prompt_number == nbb_cell_id) {\n",
              "                        if (nbb_cells[i].get_text() == nbb_unformatted_code) {\n",
              "                             nbb_cells[i].set_text(nbb_formatted_code);\n",
              "                        }\n",
              "                        break;\n",
              "                    }\n",
              "                }\n",
              "            }, 500);\n",
              "            "
            ]
          },
          "metadata": {}
        }
      ]
    },
    {
      "cell_type": "code",
      "source": [
        "#Printing the data info\n",
        "data.info()"
      ],
      "metadata": {
        "colab": {
          "base_uri": "https://localhost:8080/",
          "height": 257
        },
        "id": "WOStQ89MXspi",
        "outputId": "6b360f94-1693-4ba4-d414-587eba504806"
      },
      "execution_count": null,
      "outputs": [
        {
          "output_type": "stream",
          "name": "stdout",
          "text": [
            "<class 'pandas.core.frame.DataFrame'>\n",
            "RangeIndex: 26 entries, 0 to 25\n",
            "Data columns (total 6 columns):\n",
            " #   Column          Non-Null Count  Dtype   \n",
            "---  ------          --------------  -----   \n",
            " 0   Engg_College    26 non-null     category\n",
            " 1   Teaching        26 non-null     int64   \n",
            " 2   Fees            26 non-null     int64   \n",
            " 3   Placements      26 non-null     int64   \n",
            " 4   Internship      26 non-null     int64   \n",
            " 5   Infrastructure  26 non-null     int64   \n",
            "dtypes: category(1), int64(5)\n",
            "memory usage: 2.4 KB\n"
          ]
        },
        {
          "output_type": "display_data",
          "data": {
            "text/plain": [
              "<IPython.core.display.Javascript object>"
            ],
            "application/javascript": [
              "\n",
              "            setTimeout(function() {\n",
              "                var nbb_cell_id = 81;\n",
              "                var nbb_unformatted_code = \"#Printing the data info\\ndata.info()\";\n",
              "                var nbb_formatted_code = \"# Printing the data info\\ndata.info()\";\n",
              "                var nbb_cells = Jupyter.notebook.get_cells();\n",
              "                for (var i = 0; i < nbb_cells.length; ++i) {\n",
              "                    if (nbb_cells[i].input_prompt_number == nbb_cell_id) {\n",
              "                        if (nbb_cells[i].get_text() == nbb_unformatted_code) {\n",
              "                             nbb_cells[i].set_text(nbb_formatted_code);\n",
              "                        }\n",
              "                        break;\n",
              "                    }\n",
              "                }\n",
              "            }, 500);\n",
              "            "
            ]
          },
          "metadata": {}
        }
      ]
    },
    {
      "cell_type": "code",
      "source": [
        "# function to plot a boxplot and a histogram along the same scale.\n",
        "\n",
        "\n",
        "def histogram_boxplot(data, feature, figsize=(12, 7), kde=False, bins=None):\n",
        "    \"\"\"\n",
        "    Boxplot and histogram combined\n",
        "\n",
        "    data: dataframe\n",
        "    feature: dataframe column\n",
        "    figsize: size of figure (default (12,7))\n",
        "    kde: whether to the show density curve (default False)\n",
        "    bins: number of bins for histogram (default None)\n",
        "    \"\"\"\n",
        "    f2, (ax_box2, ax_hist2) = plt.subplots(\n",
        "        nrows=2,  # Number of rows of the subplot grid= 2\n",
        "        sharex=True,  # x-axis will be shared among all subplots\n",
        "        gridspec_kw={\"height_ratios\": (0.25, 0.75)},\n",
        "        figsize=figsize,\n",
        "    )  # creating the 2 subplots\n",
        "    sns.boxplot(\n",
        "        data=data, x=feature, ax=ax_box2, showmeans=True, color=\"violet\"\n",
        "    )  # boxplot will be created and a star will indicate the mean value of the column\n",
        "    sns.histplot(\n",
        "        data=data, x=feature, kde=kde, ax=ax_hist2, bins=bins, palette=\"winter\"\n",
        "    ) if bins else sns.histplot(\n",
        "        data=data, x=feature, kde=kde, ax=ax_hist2\n",
        "    )  # For histogram\n",
        "    ax_hist2.axvline(\n",
        "        data[feature].mean(), color=\"green\", linestyle=\"--\"\n",
        "    )  # Add mean to the histogram\n",
        "    ax_hist2.axvline(\n",
        "        data[feature].median(), color=\"black\", linestyle=\"-\"\n",
        "    )  # Add median to the histogram"
      ],
      "metadata": {
        "colab": {
          "base_uri": "https://localhost:8080/",
          "height": 17
        },
        "id": "Vf_Ic7HR9b4F",
        "outputId": "032d6b3d-3160-4c5f-f2c0-6f5171af2221"
      },
      "execution_count": null,
      "outputs": [
        {
          "output_type": "display_data",
          "data": {
            "text/plain": [
              "<IPython.core.display.Javascript object>"
            ],
            "application/javascript": [
              "\n",
              "            setTimeout(function() {\n",
              "                var nbb_cell_id = 38;\n",
              "                var nbb_unformatted_code = \"# function to plot a boxplot and a histogram along the same scale.\\n\\n\\ndef histogram_boxplot(data, feature, figsize=(12, 7), kde=False, bins=None):\\n    \\\"\\\"\\\"\\n    Boxplot and histogram combined\\n\\n    data: dataframe\\n    feature: dataframe column\\n    figsize: size of figure (default (12,7))\\n    kde: whether to the show density curve (default False)\\n    bins: number of bins for histogram (default None)\\n    \\\"\\\"\\\"\\n    f2, (ax_box2, ax_hist2) = plt.subplots(\\n        nrows=2,  # Number of rows of the subplot grid= 2\\n        sharex=True,  # x-axis will be shared among all subplots\\n        gridspec_kw={\\\"height_ratios\\\": (0.25, 0.75)},\\n        figsize=figsize,\\n    )  # creating the 2 subplots\\n    sns.boxplot(\\n        data=data, x=feature, ax=ax_box2, showmeans=True, color=\\\"violet\\\"\\n    )  # boxplot will be created and a star will indicate the mean value of the column\\n    sns.histplot(\\n        data=data, x=feature, kde=kde, ax=ax_hist2, bins=bins, palette=\\\"winter\\\"\\n    ) if bins else sns.histplot(\\n        data=data, x=feature, kde=kde, ax=ax_hist2\\n    )  # For histogram\\n    ax_hist2.axvline(\\n        data[feature].mean(), color=\\\"green\\\", linestyle=\\\"--\\\"\\n    )  # Add mean to the histogram\\n    ax_hist2.axvline(\\n        data[feature].median(), color=\\\"black\\\", linestyle=\\\"-\\\"\\n    )  # Add median to the histogram\";\n",
              "                var nbb_formatted_code = \"# function to plot a boxplot and a histogram along the same scale.\\n\\n\\ndef histogram_boxplot(data, feature, figsize=(12, 7), kde=False, bins=None):\\n    \\\"\\\"\\\"\\n    Boxplot and histogram combined\\n\\n    data: dataframe\\n    feature: dataframe column\\n    figsize: size of figure (default (12,7))\\n    kde: whether to the show density curve (default False)\\n    bins: number of bins for histogram (default None)\\n    \\\"\\\"\\\"\\n    f2, (ax_box2, ax_hist2) = plt.subplots(\\n        nrows=2,  # Number of rows of the subplot grid= 2\\n        sharex=True,  # x-axis will be shared among all subplots\\n        gridspec_kw={\\\"height_ratios\\\": (0.25, 0.75)},\\n        figsize=figsize,\\n    )  # creating the 2 subplots\\n    sns.boxplot(\\n        data=data, x=feature, ax=ax_box2, showmeans=True, color=\\\"violet\\\"\\n    )  # boxplot will be created and a star will indicate the mean value of the column\\n    sns.histplot(\\n        data=data, x=feature, kde=kde, ax=ax_hist2, bins=bins, palette=\\\"winter\\\"\\n    ) if bins else sns.histplot(\\n        data=data, x=feature, kde=kde, ax=ax_hist2\\n    )  # For histogram\\n    ax_hist2.axvline(\\n        data[feature].mean(), color=\\\"green\\\", linestyle=\\\"--\\\"\\n    )  # Add mean to the histogram\\n    ax_hist2.axvline(\\n        data[feature].median(), color=\\\"black\\\", linestyle=\\\"-\\\"\\n    )  # Add median to the histogram\";\n",
              "                var nbb_cells = Jupyter.notebook.get_cells();\n",
              "                for (var i = 0; i < nbb_cells.length; ++i) {\n",
              "                    if (nbb_cells[i].input_prompt_number == nbb_cell_id) {\n",
              "                        if (nbb_cells[i].get_text() == nbb_unformatted_code) {\n",
              "                             nbb_cells[i].set_text(nbb_formatted_code);\n",
              "                        }\n",
              "                        break;\n",
              "                    }\n",
              "                }\n",
              "            }, 500);\n",
              "            "
            ]
          },
          "metadata": {}
        }
      ]
    },
    {
      "cell_type": "code",
      "source": [
        "# Selecting numerical columns\n",
        "num_col = data.select_dtypes(include=np.number).columns.tolist()\n",
        "\n",
        "for item in num_col:\n",
        "    histogram_boxplot(data, item)"
      ],
      "metadata": {
        "colab": {
          "base_uri": "https://localhost:8080/",
          "height": 1000
        },
        "id": "0YVO6QlU9hyR",
        "outputId": "43d032e5-b5da-4c70-aa97-7d2998801732"
      },
      "execution_count": null,
      "outputs": [
        {
          "output_type": "display_data",
          "data": {
            "text/plain": [
              "<Figure size 864x504 with 2 Axes>"
            ],
            "image/png": "[encoded data removed]"
          },
          "metadata": {}
        },
        {
          "output_type": "display_data",
          "data": {
            "text/plain": [
              "<Figure size 864x504 with 2 Axes>"
            ],
            "image/png": "[encoded data removed]"
          },
          "metadata": {}
        },
        {
          "output_type": "display_data",
          "data": {
            "text/plain": [
              "<Figure size 864x504 with 2 Axes>"
            ],
            "image/png": "[encoded data removed]"
          },
          "metadata": {}
        },
        {
          "output_type": "display_data",
          "data": {
            "text/plain": [
              "<Figure size 864x504 with 2 Axes>"
            ],
            "image/png": "[encoded data removed]"
          },
          "metadata": {}
        },
        {
          "output_type": "display_data",
          "data": {
            "text/plain": [
              "<Figure size 864x504 with 2 Axes>"
            ],
            "image/png": "[encoded data removed]"
          },
          "metadata": {}
        },
        {
          "output_type": "display_data",
          "data": {
            "text/plain": [
              "<IPython.core.display.Javascript object>"
            ],
            "application/javascript": [
              "\n",
              "            setTimeout(function() {\n",
              "                var nbb_cell_id = 39;\n",
              "                var nbb_unformatted_code = \"# selecting numerical columns\\nnum_col = data.select_dtypes(include=np.number).columns.tolist()\\n\\nfor item in num_col:\\n    histogram_boxplot(data, item)\";\n",
              "                var nbb_formatted_code = \"# selecting numerical columns\\nnum_col = data.select_dtypes(include=np.number).columns.tolist()\\n\\nfor item in num_col:\\n    histogram_boxplot(data, item)\";\n",
              "                var nbb_cells = Jupyter.notebook.get_cells();\n",
              "                for (var i = 0; i < nbb_cells.length; ++i) {\n",
              "                    if (nbb_cells[i].input_prompt_number == nbb_cell_id) {\n",
              "                        if (nbb_cells[i].get_text() == nbb_unformatted_code) {\n",
              "                             nbb_cells[i].set_text(nbb_formatted_code);\n",
              "                        }\n",
              "                        break;\n",
              "                    }\n",
              "                }\n",
              "            }, 500);\n",
              "            "
            ]
          },
          "metadata": {}
        }
      ]
    },
    {
      "cell_type": "markdown",
      "source": [
        "Observation:\n",
        "\n",
        "* For Teaching and Infrastructure, most values are distributed at 3.\n",
        "* Fees have most values at 4 and 5.\n",
        "* Placement has most values at 1.\n",
        "* Internship has majority of values at 2."
      ],
      "metadata": {
        "id": "OAKViX0exl3D"
      }
    },
    {
      "cell_type": "markdown",
      "source": [
        "## Examining CDF (cumulative distribution function) Plots"
      ],
      "metadata": {
        "id": "lBlBD-sm9zro"
      }
    },
    {
      "cell_type": "code",
      "source": [
        "# Proportion is between 0-1 (percentage)\n",
        "fig, axes = plt.subplots(3, 2, figsize=(20, 15))\n",
        "fig.suptitle(\"CDF plot of numerical variables\", fontsize=20)\n",
        "counter = 0\n",
        "for ii in range(3):\n",
        "    sns.ecdfplot(ax=axes[ii][0], x=data[num_col[counter]])\n",
        "    counter = counter + 1\n",
        "    if counter != 5:\n",
        "        sns.ecdfplot(ax=axes[ii][1], x=data[num_col[counter]])\n",
        "        counter = counter + 1\n",
        "    else:\n",
        "        pass\n",
        "\n",
        "fig.tight_layout(pad=2.0)"
      ],
      "metadata": {
        "colab": {
          "base_uri": "https://localhost:8080/",
          "height": 1000
        },
        "id": "62f628Mk91m0",
        "outputId": "2ac063b5-9f6b-4195-c877-6b9c993c11d9"
      },
      "execution_count": null,
      "outputs": [
        {
          "output_type": "display_data",
          "data": {
            "text/plain": [
              "<Figure size 1440x1080 with 6 Axes>"
            ],
            "image/png": "[encoded data removed]"
          },
          "metadata": {}
        },
        {
          "output_type": "display_data",
          "data": {
            "text/plain": [
              "<IPython.core.display.Javascript object>"
            ],
            "application/javascript": [
              "\n",
              "            setTimeout(function() {\n",
              "                var nbb_cell_id = 40;\n",
              "                var nbb_unformatted_code = \"# Proportion is between 0-1 (percentage)\\nfig, axes = plt.subplots(3, 2, figsize=(20, 15))\\nfig.suptitle(\\\"CDF plot of numerical variables\\\", fontsize=20)\\ncounter = 0\\nfor ii in range(3):\\n    sns.ecdfplot(ax=axes[ii][0], x=data[num_col[counter]])\\n    counter = counter + 1\\n    if counter != 5:\\n        sns.ecdfplot(ax=axes[ii][1], x=data[num_col[counter]])\\n        counter = counter + 1\\n    else:\\n        pass\\n\\nfig.tight_layout(pad=2.0)\";\n",
              "                var nbb_formatted_code = \"# Proportion is between 0-1 (percentage)\\nfig, axes = plt.subplots(3, 2, figsize=(20, 15))\\nfig.suptitle(\\\"CDF plot of numerical variables\\\", fontsize=20)\\ncounter = 0\\nfor ii in range(3):\\n    sns.ecdfplot(ax=axes[ii][0], x=data[num_col[counter]])\\n    counter = counter + 1\\n    if counter != 5:\\n        sns.ecdfplot(ax=axes[ii][1], x=data[num_col[counter]])\\n        counter = counter + 1\\n    else:\\n        pass\\n\\nfig.tight_layout(pad=2.0)\";\n",
              "                var nbb_cells = Jupyter.notebook.get_cells();\n",
              "                for (var i = 0; i < nbb_cells.length; ++i) {\n",
              "                    if (nbb_cells[i].input_prompt_number == nbb_cell_id) {\n",
              "                        if (nbb_cells[i].get_text() == nbb_unformatted_code) {\n",
              "                             nbb_cells[i].set_text(nbb_formatted_code);\n",
              "                        }\n",
              "                        break;\n",
              "                    }\n",
              "                }\n",
              "            }, 500);\n",
              "            "
            ]
          },
          "metadata": {}
        }
      ]
    },
    {
      "cell_type": "markdown",
      "source": [
        "Observation:\n",
        "\n",
        "* More than 90% of Engineering colleges have Teaching ratings below 5.\n",
        "* 70% of Engineering colleges have Fees ratings below 5.\n",
        "* Slightly under 80% of Engineering colleges have Placements ratings below 5.\n",
        "* 90% of Engineering colleges have Internship ratings below 5.\n",
        "* Around 75% of Engineering colleges have Infrastructure ratings below 5."
      ],
      "metadata": {
        "id": "sAcjltPc-dRz"
      }
    },
    {
      "cell_type": "code",
      "source": [
        "# function to create labeled barplots\n",
        "\n",
        "\n",
        "def labeled_barplot(data, feature, perc=False, n=None):\n",
        "    \"\"\"\n",
        "    Barplot with percentage at the top\n",
        "\n",
        "    data: dataframe\n",
        "    feature: dataframe column\n",
        "    perc: whether to display percentages instead of count (default is False)\n",
        "    n: displays the top n category levels (default is None, i.e., display all levels)\n",
        "    \"\"\"\n",
        "\n",
        "    total = len(data[feature])  # length of the column\n",
        "    count = data[feature].nunique()\n",
        "    if n is None:\n",
        "        plt.figure(figsize=(count + 1, 5))\n",
        "    else:\n",
        "        plt.figure(figsize=(n + 1, 5))\n",
        "\n",
        "    plt.xticks(rotation=90, fontsize=15)\n",
        "    ax = sns.countplot(\n",
        "        data=data,\n",
        "        x=feature,\n",
        "        palette=\"Paired\",\n",
        "        order=data[feature].value_counts().index[:n].sort_values(),\n",
        "    )\n",
        "\n",
        "    for p in ax.patches:\n",
        "        if perc:\n",
        "            label = \"{:.1f}%\".format(\n",
        "                100 * p.get_height() / total\n",
        "            )  # percentage of each class of the category\n",
        "        else:\n",
        "            label = p.get_height()  # count of each level of the category\n",
        "\n",
        "        x = p.get_x() + p.get_width() / 2  # width of the plot\n",
        "        y = p.get_height()  # height of the plot\n",
        "\n",
        "        ax.annotate(\n",
        "            label,\n",
        "            (x, y),\n",
        "            ha=\"center\",\n",
        "            va=\"center\",\n",
        "            size=12,\n",
        "            xytext=(0, 5),\n",
        "            textcoords=\"offset points\",\n",
        "        )  # annotate the percentage\n",
        "\n",
        "    plt.show()  # show the plot\n"
      ],
      "metadata": {
        "colab": {
          "base_uri": "https://localhost:8080/",
          "height": 17
        },
        "id": "QwTYGbYa-ahp",
        "outputId": "0554bcd8-f019-4c39-e7e2-80c4e32d6537"
      },
      "execution_count": null,
      "outputs": [
        {
          "output_type": "display_data",
          "data": {
            "text/plain": [
              "<IPython.core.display.Javascript object>"
            ],
            "application/javascript": [
              "\n",
              "            setTimeout(function() {\n",
              "                var nbb_cell_id = 41;\n",
              "                var nbb_unformatted_code = \"# function to create labeled barplots\\n\\n\\ndef labeled_barplot(data, feature, perc=False, n=None):\\n    \\\"\\\"\\\"\\n    Barplot with percentage at the top\\n\\n    data: dataframe\\n    feature: dataframe column\\n    perc: whether to display percentages instead of count (default is False)\\n    n: displays the top n category levels (default is None, i.e., display all levels)\\n    \\\"\\\"\\\"\\n\\n    total = len(data[feature])  # length of the column\\n    count = data[feature].nunique()\\n    if n is None:\\n        plt.figure(figsize=(count + 1, 5))\\n    else:\\n        plt.figure(figsize=(n + 1, 5))\\n\\n    plt.xticks(rotation=90, fontsize=15)\\n    ax = sns.countplot(\\n        data=data,\\n        x=feature,\\n        palette=\\\"Paired\\\",\\n        order=data[feature].value_counts().index[:n].sort_values(),\\n    )\\n\\n    for p in ax.patches:\\n        if perc:\\n            label = \\\"{:.1f}%\\\".format(\\n                100 * p.get_height() / total\\n            )  # percentage of each class of the category\\n        else:\\n            label = p.get_height()  # count of each level of the category\\n\\n        x = p.get_x() + p.get_width() / 2  # width of the plot\\n        y = p.get_height()  # height of the plot\\n\\n        ax.annotate(\\n            label,\\n            (x, y),\\n            ha=\\\"center\\\",\\n            va=\\\"center\\\",\\n            size=12,\\n            xytext=(0, 5),\\n            textcoords=\\\"offset points\\\",\\n        )  # annotate the percentage\\n\\n    plt.show()  # show the plot\";\n",
              "                var nbb_formatted_code = \"# function to create labeled barplots\\n\\n\\ndef labeled_barplot(data, feature, perc=False, n=None):\\n    \\\"\\\"\\\"\\n    Barplot with percentage at the top\\n\\n    data: dataframe\\n    feature: dataframe column\\n    perc: whether to display percentages instead of count (default is False)\\n    n: displays the top n category levels (default is None, i.e., display all levels)\\n    \\\"\\\"\\\"\\n\\n    total = len(data[feature])  # length of the column\\n    count = data[feature].nunique()\\n    if n is None:\\n        plt.figure(figsize=(count + 1, 5))\\n    else:\\n        plt.figure(figsize=(n + 1, 5))\\n\\n    plt.xticks(rotation=90, fontsize=15)\\n    ax = sns.countplot(\\n        data=data,\\n        x=feature,\\n        palette=\\\"Paired\\\",\\n        order=data[feature].value_counts().index[:n].sort_values(),\\n    )\\n\\n    for p in ax.patches:\\n        if perc:\\n            label = \\\"{:.1f}%\\\".format(\\n                100 * p.get_height() / total\\n            )  # percentage of each class of the category\\n        else:\\n            label = p.get_height()  # count of each level of the category\\n\\n        x = p.get_x() + p.get_width() / 2  # width of the plot\\n        y = p.get_height()  # height of the plot\\n\\n        ax.annotate(\\n            label,\\n            (x, y),\\n            ha=\\\"center\\\",\\n            va=\\\"center\\\",\\n            size=12,\\n            xytext=(0, 5),\\n            textcoords=\\\"offset points\\\",\\n        )  # annotate the percentage\\n\\n    plt.show()  # show the plot\";\n",
              "                var nbb_cells = Jupyter.notebook.get_cells();\n",
              "                for (var i = 0; i < nbb_cells.length; ++i) {\n",
              "                    if (nbb_cells[i].input_prompt_number == nbb_cell_id) {\n",
              "                        if (nbb_cells[i].get_text() == nbb_unformatted_code) {\n",
              "                             nbb_cells[i].set_text(nbb_formatted_code);\n",
              "                        }\n",
              "                        break;\n",
              "                    }\n",
              "                }\n",
              "            }, 500);\n",
              "            "
            ]
          },
          "metadata": {}
        }
      ]
    },
    {
      "cell_type": "markdown",
      "source": [
        "Teaching:"
      ],
      "metadata": {
        "id": "k4oAuDjB-53L"
      }
    },
    {
      "cell_type": "code",
      "source": [
        "\n",
        "labeled_barplot(data, \"Teaching\", perc=True)"
      ],
      "metadata": {
        "colab": {
          "base_uri": "https://localhost:8080/",
          "height": 332
        },
        "id": "XYIAF11y-pO9",
        "outputId": "1aca5bea-e56d-4cfe-964c-370641139c0c"
      },
      "execution_count": null,
      "outputs": [
        {
          "output_type": "display_data",
          "data": {
            "text/plain": [
              "<Figure size 432x360 with 1 Axes>"
            ],
            "image/png": "[encoded data removed]"
          },
          "metadata": {}
        },
        {
          "output_type": "display_data",
          "data": {
            "text/plain": [
              "<IPython.core.display.Javascript object>"
            ],
            "application/javascript": [
              "\n",
              "            setTimeout(function() {\n",
              "                var nbb_cell_id = 42;\n",
              "                var nbb_unformatted_code = \"# let's explore discounts further\\nlabeled_barplot(data, \\\"Teaching\\\", perc=True)\";\n",
              "                var nbb_formatted_code = \"# let's explore discounts further\\nlabeled_barplot(data, \\\"Teaching\\\", perc=True)\";\n",
              "                var nbb_cells = Jupyter.notebook.get_cells();\n",
              "                for (var i = 0; i < nbb_cells.length; ++i) {\n",
              "                    if (nbb_cells[i].input_prompt_number == nbb_cell_id) {\n",
              "                        if (nbb_cells[i].get_text() == nbb_unformatted_code) {\n",
              "                             nbb_cells[i].set_text(nbb_formatted_code);\n",
              "                        }\n",
              "                        break;\n",
              "                    }\n",
              "                }\n",
              "            }, 500);\n",
              "            "
            ]
          },
          "metadata": {}
        }
      ]
    },
    {
      "cell_type": "markdown",
      "source": [
        "Observation:\n",
        "\n",
        "* 42.3% of of Engineering colleges have Teaching ratings of 3."
      ],
      "metadata": {
        "id": "_rJ9E9aZ-6m9"
      }
    },
    {
      "cell_type": "markdown",
      "source": [
        "Fees:"
      ],
      "metadata": {
        "id": "vlBlzwbL-7MS"
      }
    },
    {
      "cell_type": "code",
      "source": [
        "\n",
        "labeled_barplot(data, \"Fees\", perc=True)"
      ],
      "metadata": {
        "colab": {
          "base_uri": "https://localhost:8080/",
          "height": 332
        },
        "id": "5M9sdsac-wWP",
        "outputId": "81837c61-89b7-44e6-fda8-b8fd99bc64a0"
      },
      "execution_count": null,
      "outputs": [
        {
          "output_type": "display_data",
          "data": {
            "text/plain": [
              "<Figure size 432x360 with 1 Axes>"
            ],
            "image/png": "[encoded data removed]"
          },
          "metadata": {}
        },
        {
          "output_type": "display_data",
          "data": {
            "text/plain": [
              "<IPython.core.display.Javascript object>"
            ],
            "application/javascript": [
              "\n",
              "            setTimeout(function() {\n",
              "                var nbb_cell_id = 43;\n",
              "                var nbb_unformatted_code = \"# let's explore discounts further\\nlabeled_barplot(data, \\\"Fees\\\", perc=True)\";\n",
              "                var nbb_formatted_code = \"# let's explore discounts further\\nlabeled_barplot(data, \\\"Fees\\\", perc=True)\";\n",
              "                var nbb_cells = Jupyter.notebook.get_cells();\n",
              "                for (var i = 0; i < nbb_cells.length; ++i) {\n",
              "                    if (nbb_cells[i].input_prompt_number == nbb_cell_id) {\n",
              "                        if (nbb_cells[i].get_text() == nbb_unformatted_code) {\n",
              "                             nbb_cells[i].set_text(nbb_formatted_code);\n",
              "                        }\n",
              "                        break;\n",
              "                    }\n",
              "                }\n",
              "            }, 500);\n",
              "            "
            ]
          },
          "metadata": {}
        }
      ]
    },
    {
      "cell_type": "markdown",
      "source": [
        "Over 61% of of Engineering colleges have Fees ratings of 4 and 5."
      ],
      "metadata": {
        "id": "qIHqZXM_-8Sz"
      }
    },
    {
      "cell_type": "markdown",
      "source": [
        "Placements:"
      ],
      "metadata": {
        "id": "KbJAHBVC-8Le"
      }
    },
    {
      "cell_type": "code",
      "source": [
        "labeled_barplot(data, \"Placements\", perc=True)"
      ],
      "metadata": {
        "colab": {
          "base_uri": "https://localhost:8080/",
          "height": 332
        },
        "id": "HptxVBybABXr",
        "outputId": "bb8e1d49-3c7d-4d05-8b96-900e9f0b1dbf"
      },
      "execution_count": null,
      "outputs": [
        {
          "output_type": "display_data",
          "data": {
            "text/plain": [
              "<Figure size 432x360 with 1 Axes>"
            ],
            "image/png": "[encoded data removed]"
          },
          "metadata": {}
        },
        {
          "output_type": "display_data",
          "data": {
            "text/plain": [
              "<IPython.core.display.Javascript object>"
            ],
            "application/javascript": [
              "\n",
              "            setTimeout(function() {\n",
              "                var nbb_cell_id = 44;\n",
              "                var nbb_unformatted_code = \"labeled_barplot(data, \\\"Placements\\\", perc=True)\";\n",
              "                var nbb_formatted_code = \"labeled_barplot(data, \\\"Placements\\\", perc=True)\";\n",
              "                var nbb_cells = Jupyter.notebook.get_cells();\n",
              "                for (var i = 0; i < nbb_cells.length; ++i) {\n",
              "                    if (nbb_cells[i].input_prompt_number == nbb_cell_id) {\n",
              "                        if (nbb_cells[i].get_text() == nbb_unformatted_code) {\n",
              "                             nbb_cells[i].set_text(nbb_formatted_code);\n",
              "                        }\n",
              "                        break;\n",
              "                    }\n",
              "                }\n",
              "            }, 500);\n",
              "            "
            ]
          },
          "metadata": {}
        }
      ]
    },
    {
      "cell_type": "markdown",
      "source": [
        "Observation:\n",
        "\n",
        "* 26.9% of of Engineering colleges have Placements ratings of 1 followed by those of ratings of 1 and 3 with 23.1% each."
      ],
      "metadata": {
        "id": "KHy3ZwNrAFvE"
      }
    },
    {
      "cell_type": "markdown",
      "source": [
        "Internship:"
      ],
      "metadata": {
        "id": "rh713mrHAFj5"
      }
    },
    {
      "cell_type": "code",
      "source": [
        "labeled_barplot(data, \"Internship\", perc=True)"
      ],
      "metadata": {
        "colab": {
          "base_uri": "https://localhost:8080/",
          "height": 332
        },
        "id": "qT85hCJLAGy2",
        "outputId": "041d4140-e7b0-4a66-9413-7d547bd102d7"
      },
      "execution_count": null,
      "outputs": [
        {
          "output_type": "display_data",
          "data": {
            "text/plain": [
              "<Figure size 432x360 with 1 Axes>"
            ],
            "image/png": "[encoded data removed]"
          },
          "metadata": {}
        },
        {
          "output_type": "display_data",
          "data": {
            "text/plain": [
              "<IPython.core.display.Javascript object>"
            ],
            "application/javascript": [
              "\n",
              "            setTimeout(function() {\n",
              "                var nbb_cell_id = 45;\n",
              "                var nbb_unformatted_code = \"labeled_barplot(data, \\\"Internship\\\", perc=True)\";\n",
              "                var nbb_formatted_code = \"labeled_barplot(data, \\\"Internship\\\", perc=True)\";\n",
              "                var nbb_cells = Jupyter.notebook.get_cells();\n",
              "                for (var i = 0; i < nbb_cells.length; ++i) {\n",
              "                    if (nbb_cells[i].input_prompt_number == nbb_cell_id) {\n",
              "                        if (nbb_cells[i].get_text() == nbb_unformatted_code) {\n",
              "                             nbb_cells[i].set_text(nbb_formatted_code);\n",
              "                        }\n",
              "                        break;\n",
              "                    }\n",
              "                }\n",
              "            }, 500);\n",
              "            "
            ]
          },
          "metadata": {}
        }
      ]
    },
    {
      "cell_type": "markdown",
      "source": [
        "Observation:\n",
        "\n",
        "* 42.3% of of Engineering colleges have Internship ratings of 2."
      ],
      "metadata": {
        "id": "cUs5U97qAMRA"
      }
    },
    {
      "cell_type": "markdown",
      "source": [
        "Infrastructure:"
      ],
      "metadata": {
        "id": "VGpGCo6ZAMH_"
      }
    },
    {
      "cell_type": "code",
      "source": [
        "labeled_barplot(data, \"Infrastructure\", perc=True)"
      ],
      "metadata": {
        "colab": {
          "base_uri": "https://localhost:8080/",
          "height": 332
        },
        "id": "6GfUfD8eAM3Y",
        "outputId": "f6ee09b1-f1c9-4a0a-93b1-576e66d4f964"
      },
      "execution_count": null,
      "outputs": [
        {
          "output_type": "display_data",
          "data": {
            "text/plain": [
              "<Figure size 432x360 with 1 Axes>"
            ],
            "image/png": "[encoded data removed]"
          },
          "metadata": {}
        },
        {
          "output_type": "display_data",
          "data": {
            "text/plain": [
              "<IPython.core.display.Javascript object>"
            ],
            "application/javascript": [
              "\n",
              "            setTimeout(function() {\n",
              "                var nbb_cell_id = 46;\n",
              "                var nbb_unformatted_code = \"labeled_barplot(data, \\\"Infrastructure\\\", perc=True)\";\n",
              "                var nbb_formatted_code = \"labeled_barplot(data, \\\"Infrastructure\\\", perc=True)\";\n",
              "                var nbb_cells = Jupyter.notebook.get_cells();\n",
              "                for (var i = 0; i < nbb_cells.length; ++i) {\n",
              "                    if (nbb_cells[i].input_prompt_number == nbb_cell_id) {\n",
              "                        if (nbb_cells[i].get_text() == nbb_unformatted_code) {\n",
              "                             nbb_cells[i].set_text(nbb_formatted_code);\n",
              "                        }\n",
              "                        break;\n",
              "                    }\n",
              "                }\n",
              "            }, 500);\n",
              "            "
            ]
          },
          "metadata": {}
        }
      ]
    },
    {
      "cell_type": "markdown",
      "source": [
        "Observation:\n",
        "\n",
        "* 38.5% of of Engineering colleges have Infrastructure ratings of 3."
      ],
      "metadata": {
        "id": "k1zh9YmCAXNM"
      }
    },
    {
      "cell_type": "markdown",
      "source": [
        "## Bivariate Analysis"
      ],
      "metadata": {
        "id": "WN1lkcwJAXCl"
      }
    },
    {
      "cell_type": "code",
      "source": [
        "plt.figure(figsize=(15, 7))\n",
        "sns.heatmap(data[num_col].corr(), annot=True, vmin=-1, vmax=1, fmt=\".2f\", cmap=\"Spectral\")\n",
        "plt.show()"
      ],
      "metadata": {
        "colab": {
          "base_uri": "https://localhost:8080/",
          "height": 432
        },
        "id": "pfeXCopuAa_X",
        "outputId": "cad25b5b-2f6b-4110-e6df-d46f21c9e9db"
      },
      "execution_count": null,
      "outputs": [
        {
          "output_type": "display_data",
          "data": {
            "text/plain": [
              "<Figure size 1080x504 with 2 Axes>"
            ],
            "image/png": "[encoded data removed]"
          },
          "metadata": {}
        },
        {
          "output_type": "display_data",
          "data": {
            "text/plain": [
              "<IPython.core.display.Javascript object>"
            ],
            "application/javascript": [
              "\n",
              "            setTimeout(function() {\n",
              "                var nbb_cell_id = 47;\n",
              "                var nbb_unformatted_code = \"plt.figure(figsize=(15, 7))\\nsns.heatmap(data[num_col].corr(), annot=True, vmin=-1, vmax=1, fmt=\\\".2f\\\", cmap=\\\"Spectral\\\")\\nplt.show()\";\n",
              "                var nbb_formatted_code = \"plt.figure(figsize=(15, 7))\\nsns.heatmap(\\n    data[num_col].corr(), annot=True, vmin=-1, vmax=1, fmt=\\\".2f\\\", cmap=\\\"Spectral\\\"\\n)\\nplt.show()\";\n",
              "                var nbb_cells = Jupyter.notebook.get_cells();\n",
              "                for (var i = 0; i < nbb_cells.length; ++i) {\n",
              "                    if (nbb_cells[i].input_prompt_number == nbb_cell_id) {\n",
              "                        if (nbb_cells[i].get_text() == nbb_unformatted_code) {\n",
              "                             nbb_cells[i].set_text(nbb_formatted_code);\n",
              "                        }\n",
              "                        break;\n",
              "                    }\n",
              "                }\n",
              "            }, 500);\n",
              "            "
            ]
          },
          "metadata": {}
        }
      ]
    },
    {
      "cell_type": "markdown",
      "source": [
        "Observation:\n",
        "\n",
        "* Teaching ratings have high correlation with Placements and Internship ratings. \n",
        "* Fees ratings has the weakest relationship with other variables."
      ],
      "metadata": {
        "id": "y77SL3fd2ZEe"
      }
    },
    {
      "cell_type": "markdown",
      "source": [
        "# Data Preprocessing"
      ],
      "metadata": {
        "id": "evqnbXMCAfvY"
      }
    },
    {
      "cell_type": "code",
      "source": [
        "# Choosing variables that will be used in clustering\n",
        "# num_col stores numerical columns\n",
        "num_col"
      ],
      "metadata": {
        "colab": {
          "base_uri": "https://localhost:8080/",
          "height": 35
        },
        "id": "BJ2KTBJ2UeS7",
        "outputId": "cc2d7141-4b20-46fb-ed19-2ea07c5eb4bd"
      },
      "execution_count": null,
      "outputs": [
        {
          "output_type": "execute_result",
          "data": {
            "text/plain": [
              "['Teaching', 'Fees', 'Placements', 'Internship', 'Infrastructure']"
            ]
          },
          "metadata": {},
          "execution_count": 82
        },
        {
          "output_type": "display_data",
          "data": {
            "text/plain": [
              "<IPython.core.display.Javascript object>"
            ],
            "application/javascript": [
              "\n",
              "            setTimeout(function() {\n",
              "                var nbb_cell_id = 82;\n",
              "                var nbb_unformatted_code = \"# 1st, we need to choose variables that will be used in clustering\\n# num_col stores numerical columns\\nnum_col\";\n",
              "                var nbb_formatted_code = \"# 1st, we need to choose variables that will be used in clustering\\n# num_col stores numerical columns\\nnum_col\";\n",
              "                var nbb_cells = Jupyter.notebook.get_cells();\n",
              "                for (var i = 0; i < nbb_cells.length; ++i) {\n",
              "                    if (nbb_cells[i].input_prompt_number == nbb_cell_id) {\n",
              "                        if (nbb_cells[i].get_text() == nbb_unformatted_code) {\n",
              "                             nbb_cells[i].set_text(nbb_formatted_code);\n",
              "                        }\n",
              "                        break;\n",
              "                    }\n",
              "                }\n",
              "            }, 500);\n",
              "            "
            ]
          },
          "metadata": {}
        }
      ]
    },
    {
      "cell_type": "code",
      "source": [
        "# Scaling\n",
        "scaler = StandardScaler()\n",
        "subset = data[num_col].copy()\n",
        "subset_scaled = scaler.fit_transform(subset)"
      ],
      "metadata": {
        "colab": {
          "base_uri": "https://localhost:8080/",
          "height": 17
        },
        "id": "Rpb96UH0Ukgi",
        "outputId": "012bbc5a-5b1a-4fd3-e494-3b12a1d6d45a"
      },
      "execution_count": null,
      "outputs": [
        {
          "output_type": "display_data",
          "data": {
            "text/plain": [
              "<IPython.core.display.Javascript object>"
            ],
            "application/javascript": [
              "\n",
              "            setTimeout(function() {\n",
              "                var nbb_cell_id = 83;\n",
              "                var nbb_unformatted_code = \"# 2nd, scaling is almost needed in any clustering project before performing clustering\\nscaler = StandardScaler()\\nsubset = data[num_col].copy()\\nsubset_scaled = scaler.fit_transform(subset)\";\n",
              "                var nbb_formatted_code = \"# 2nd, scaling is almost needed in any clustering project before performing clustering\\nscaler = StandardScaler()\\nsubset = data[num_col].copy()\\nsubset_scaled = scaler.fit_transform(subset)\";\n",
              "                var nbb_cells = Jupyter.notebook.get_cells();\n",
              "                for (var i = 0; i < nbb_cells.length; ++i) {\n",
              "                    if (nbb_cells[i].input_prompt_number == nbb_cell_id) {\n",
              "                        if (nbb_cells[i].get_text() == nbb_unformatted_code) {\n",
              "                             nbb_cells[i].set_text(nbb_formatted_code);\n",
              "                        }\n",
              "                        break;\n",
              "                    }\n",
              "                }\n",
              "            }, 500);\n",
              "            "
            ]
          },
          "metadata": {}
        }
      ]
    },
    {
      "cell_type": "code",
      "source": [
        "# Creating a dataframe of the scaled columns\n",
        "subset_scaled_df = pd.DataFrame(subset_scaled, columns=subset.columns)"
      ],
      "metadata": {
        "colab": {
          "base_uri": "https://localhost:8080/",
          "height": 17
        },
        "id": "ajYp_dtNUsHl",
        "outputId": "e1e83d23-13fb-4532-dc1d-48c95189605c"
      },
      "execution_count": null,
      "outputs": [
        {
          "output_type": "display_data",
          "data": {
            "text/plain": [
              "<IPython.core.display.Javascript object>"
            ],
            "application/javascript": [
              "\n",
              "            setTimeout(function() {\n",
              "                var nbb_cell_id = 84;\n",
              "                var nbb_unformatted_code = \"# 3rd, creating a dataframe of the scaled columns\\nsubset_scaled_df = pd.DataFrame(subset_scaled, columns=subset.columns)\";\n",
              "                var nbb_formatted_code = \"# 3rd, creating a dataframe of the scaled columns\\nsubset_scaled_df = pd.DataFrame(subset_scaled, columns=subset.columns)\";\n",
              "                var nbb_cells = Jupyter.notebook.get_cells();\n",
              "                for (var i = 0; i < nbb_cells.length; ++i) {\n",
              "                    if (nbb_cells[i].input_prompt_number == nbb_cell_id) {\n",
              "                        if (nbb_cells[i].get_text() == nbb_unformatted_code) {\n",
              "                             nbb_cells[i].set_text(nbb_formatted_code);\n",
              "                        }\n",
              "                        break;\n",
              "                    }\n",
              "                }\n",
              "            }, 500);\n",
              "            "
            ]
          },
          "metadata": {}
        }
      ]
    },
    {
      "cell_type": "markdown",
      "source": [
        "# Model Building"
      ],
      "metadata": {
        "id": "xyfP86uEUuLV"
      }
    },
    {
      "cell_type": "markdown",
      "source": [
        "###  Elbow Method for finding the best value for K"
      ],
      "metadata": {
        "id": "k--FMKLpUyQz"
      }
    },
    {
      "cell_type": "code",
      "source": [
        "clusters = range(1, 9)\n",
        "# creating 8 clusters\n",
        "meanDistortions = []\n",
        "\n",
        "for k in clusters:\n",
        "    model = KMeans(n_clusters=k)\n",
        "    model.fit(subset_scaled_df)\n",
        "    prediction = model.predict(subset_scaled_df)\n",
        "    distortion = (\n",
        "        sum(\n",
        "            np.min(cdist(subset_scaled_df, model.cluster_centers_, \"euclidean\"), axis=1)\n",
        "        )  # cdist calculate the minimum distance using euclidena measure between data points and centroid in\n",
        "        # every cluster and with the centroid of the neighboring cluster\n",
        "        / subset_scaled_df.shape[0]\n",
        "    )\n",
        "\n",
        "    # distorion in k-means is defined as the sum of the squared distances between\n",
        "    # each data point and the centroid within a cluster. The k-means method tries to minimize the distorion.\n",
        "    meanDistortions.append(distortion)\n",
        "\n",
        "    print(\"Number of Clusters:\", k, \"\\tAverage Distortion:\", distortion)"
      ],
      "metadata": {
        "colab": {
          "base_uri": "https://localhost:8080/",
          "height": 165
        },
        "id": "cWRopODYU03v",
        "outputId": "78b87fbe-1705-4a4c-fbe2-923a022f009c"
      },
      "execution_count": null,
      "outputs": [
        {
          "output_type": "stream",
          "name": "stdout",
          "text": [
            "Number of Clusters: 1 \tAverage Distortion: 2.087990295998642\n",
            "Number of Clusters: 2 \tAverage Distortion: 1.6030760049686552\n",
            "Number of Clusters: 3 \tAverage Distortion: 1.3542868697697457\n",
            "Number of Clusters: 4 \tAverage Distortion: 1.1658645562214658\n",
            "Number of Clusters: 5 \tAverage Distortion: 1.0463920035203713\n",
            "Number of Clusters: 6 \tAverage Distortion: 0.9095886756490557\n",
            "Number of Clusters: 7 \tAverage Distortion: 0.8046619356513329\n",
            "Number of Clusters: 8 \tAverage Distortion: 0.7161563518185236\n"
          ]
        },
        {
          "output_type": "display_data",
          "data": {
            "text/plain": [
              "<IPython.core.display.Javascript object>"
            ],
            "application/javascript": [
              "\n",
              "            setTimeout(function() {\n",
              "                var nbb_cell_id = 85;\n",
              "                var nbb_unformatted_code = \"clusters = range(1, 9)\\n# creating 8 clusters\\nmeanDistortions = []\\n\\nfor k in clusters:\\n    model = KMeans(n_clusters=k)\\n    model.fit(subset_scaled_df)\\n    prediction = model.predict(subset_scaled_df)\\n    distortion = (\\n        sum(\\n            np.min(cdist(subset_scaled_df, model.cluster_centers_, \\\"euclidean\\\"), axis=1)\\n        )  # cdist calculate the minimum distance using euclidena measure between data points and centroid in\\n        # every cluster and with the centroid of the neighboring cluster\\n        / subset_scaled_df.shape[0]\\n    )\\n\\n    # distorion in k-means is defined as the sum of the squared distances between\\n    # each data point and the centroid within a cluster. The k-means method tries to minimize the distorion.\\n    meanDistortions.append(distortion)\\n\\n    print(\\\"Number of Clusters:\\\", k, \\\"\\\\tAverage Distortion:\\\", distortion)\";\n",
              "                var nbb_formatted_code = \"clusters = range(1, 9)\\n# creating 8 clusters\\nmeanDistortions = []\\n\\nfor k in clusters:\\n    model = KMeans(n_clusters=k)\\n    model.fit(subset_scaled_df)\\n    prediction = model.predict(subset_scaled_df)\\n    distortion = (\\n        sum(\\n            np.min(cdist(subset_scaled_df, model.cluster_centers_, \\\"euclidean\\\"), axis=1)\\n        )  # cdist calculate the minimum distance using euclidena measure between data points and centroid in\\n        # every cluster and with the centroid of the neighboring cluster\\n        / subset_scaled_df.shape[0]\\n    )\\n\\n    # distorion in k-means is defined as the sum of the squared distances between\\n    # each data point and the centroid within a cluster. The k-means method tries to minimize the distorion.\\n    meanDistortions.append(distortion)\\n\\n    print(\\\"Number of Clusters:\\\", k, \\\"\\\\tAverage Distortion:\\\", distortion)\";\n",
              "                var nbb_cells = Jupyter.notebook.get_cells();\n",
              "                for (var i = 0; i < nbb_cells.length; ++i) {\n",
              "                    if (nbb_cells[i].input_prompt_number == nbb_cell_id) {\n",
              "                        if (nbb_cells[i].get_text() == nbb_unformatted_code) {\n",
              "                             nbb_cells[i].set_text(nbb_formatted_code);\n",
              "                        }\n",
              "                        break;\n",
              "                    }\n",
              "                }\n",
              "            }, 500);\n",
              "            "
            ]
          },
          "metadata": {}
        }
      ]
    },
    {
      "cell_type": "code",
      "source": [
        "# plotting the elbow method: a way of choosing a value for k = number of clusters\n",
        "plt.plot(clusters, meanDistortions, \"bx-\")\n",
        "plt.xlabel(\"k\")\n",
        "plt.ylabel(\"Average distortion\")\n",
        "plt.title(\"Selecting k with the Elbow Method\")\n",
        "plt.show()"
      ],
      "metadata": {
        "colab": {
          "base_uri": "https://localhost:8080/",
          "height": 386
        },
        "id": "jqbd7QThU39f",
        "outputId": "811c8218-d0d9-4844-a850-33e8b210ef1f"
      },
      "execution_count": null,
      "outputs": [
        {
          "output_type": "display_data",
          "data": {
            "text/plain": [
              "<Figure size 576x396 with 1 Axes>"
            ],
            "image/png": "[encoded data removed]"
          },
          "metadata": {}
        },
        {
          "output_type": "display_data",
          "data": {
            "text/plain": [
              "<IPython.core.display.Javascript object>"
            ],
            "application/javascript": [
              "\n",
              "            setTimeout(function() {\n",
              "                var nbb_cell_id = 86;\n",
              "                var nbb_unformatted_code = \"# plotting the elbow method: a way of choosing a value for k = number of clusters\\nplt.plot(clusters, meanDistortions, \\\"bx-\\\")\\nplt.xlabel(\\\"k\\\")\\nplt.ylabel(\\\"Average distortion\\\")\\nplt.title(\\\"Selecting k with the Elbow Method\\\")\\nplt.show()\";\n",
              "                var nbb_formatted_code = \"# plotting the elbow method: a way of choosing a value for k = number of clusters\\nplt.plot(clusters, meanDistortions, \\\"bx-\\\")\\nplt.xlabel(\\\"k\\\")\\nplt.ylabel(\\\"Average distortion\\\")\\nplt.title(\\\"Selecting k with the Elbow Method\\\")\\nplt.show()\";\n",
              "                var nbb_cells = Jupyter.notebook.get_cells();\n",
              "                for (var i = 0; i < nbb_cells.length; ++i) {\n",
              "                    if (nbb_cells[i].input_prompt_number == nbb_cell_id) {\n",
              "                        if (nbb_cells[i].get_text() == nbb_unformatted_code) {\n",
              "                             nbb_cells[i].set_text(nbb_formatted_code);\n",
              "                        }\n",
              "                        break;\n",
              "                    }\n",
              "                }\n",
              "            }, 500);\n",
              "            "
            ]
          },
          "metadata": {}
        }
      ]
    },
    {
      "cell_type": "markdown",
      "source": [
        "Observation:\n",
        "\n",
        "* Proper value for k appears to be 3 or 4."
      ],
      "metadata": {
        "id": "NTZP7cu2Vk9_"
      }
    },
    {
      "cell_type": "code",
      "source": [
        "# let's check out the KElbow Visualizer\n",
        "model = KMeans(random_state=1)\n",
        "visualizer = KElbowVisualizer(model, k=(1, 10))\n",
        "visualizer.fit(subset_scaled_df)  # Fit the data to the visualizer\n",
        "visualizer.show()  # Finalize and render the figure"
      ],
      "metadata": {
        "colab": {
          "base_uri": "https://localhost:8080/",
          "height": 404
        },
        "id": "3SmKhJnZVj4o",
        "outputId": "b6b2b0e9-8e4c-4d02-8e22-bc8889973549"
      },
      "execution_count": null,
      "outputs": [
        {
          "output_type": "display_data",
          "data": {
            "text/plain": [
              "<Figure size 576x396 with 2 Axes>"
            ],
            "image/png": "[encoded data removed]"
          },
          "metadata": {}
        },
        {
          "output_type": "execute_result",
          "data": {
            "text/plain": [
              "<matplotlib.axes._subplots.AxesSubplot at 0x7f6756780f50>"
            ]
          },
          "metadata": {},
          "execution_count": 87
        },
        {
          "output_type": "display_data",
          "data": {
            "text/plain": [
              "<IPython.core.display.Javascript object>"
            ],
            "application/javascript": [
              "\n",
              "            setTimeout(function() {\n",
              "                var nbb_cell_id = 87;\n",
              "                var nbb_unformatted_code = \"# let's check out the KElbow Visualizer\\nmodel = KMeans(random_state=1)\\nvisualizer = KElbowVisualizer(model, k=(1, 10))\\nvisualizer.fit(subset_scaled_df)  # Fit the data to the visualizer\\nvisualizer.show()  # Finalize and render the figure\";\n",
              "                var nbb_formatted_code = \"# let's check out the KElbow Visualizer\\nmodel = KMeans(random_state=1)\\nvisualizer = KElbowVisualizer(model, k=(1, 10))\\nvisualizer.fit(subset_scaled_df)  # Fit the data to the visualizer\\nvisualizer.show()  # Finalize and render the figure\";\n",
              "                var nbb_cells = Jupyter.notebook.get_cells();\n",
              "                for (var i = 0; i < nbb_cells.length; ++i) {\n",
              "                    if (nbb_cells[i].input_prompt_number == nbb_cell_id) {\n",
              "                        if (nbb_cells[i].get_text() == nbb_unformatted_code) {\n",
              "                             nbb_cells[i].set_text(nbb_formatted_code);\n",
              "                        }\n",
              "                        break;\n",
              "                    }\n",
              "                }\n",
              "            }, 500);\n",
              "            "
            ]
          },
          "metadata": {}
        }
      ]
    },
    {
      "cell_type": "markdown",
      "source": [
        "* Appropriate value for k appears to be 4 based on the KElbow KMean Clustering plot.  "
      ],
      "metadata": {
        "id": "Looh1K1r38up"
      }
    },
    {
      "cell_type": "markdown",
      "source": [
        "### Checking the silhouette scores to find the best value for K "
      ],
      "metadata": {
        "id": "I1ViX0tmV286"
      }
    },
    {
      "cell_type": "code",
      "source": [
        "# let's check the silhouette visualizer out\n",
        "sil_score = []\n",
        "cluster_list = list(range(2, 10))\n",
        "for n_clusters in cluster_list:\n",
        "    clusterer = KMeans(n_clusters=n_clusters)\n",
        "    preds = clusterer.fit_predict((subset_scaled_df))\n",
        "    # centers = clusterer.cluster_centers_\n",
        "    score = silhouette_score(subset_scaled_df, preds)\n",
        "    sil_score.append(score)\n",
        "    print(\"For n_clusters = {}, the silhouette score is {})\".format(n_clusters, score))\n",
        "\n",
        "plt.plot(cluster_list, sil_score)\n",
        "plt.show()"
      ],
      "metadata": {
        "colab": {
          "base_uri": "https://localhost:8080/",
          "height": 501
        },
        "id": "ukrKR8v4V6JO",
        "outputId": "bcb4ff0a-5b97-410b-cc56-932c6a4e415b"
      },
      "execution_count": null,
      "outputs": [
        {
          "output_type": "stream",
          "name": "stdout",
          "text": [
            "For n_clusters = 2, the silhouette score is 0.3347415593639785)\n",
            "For n_clusters = 3, the silhouette score is 0.2896589939792401)\n",
            "For n_clusters = 4, the silhouette score is 0.3490226771698325)\n",
            "For n_clusters = 5, the silhouette score is 0.3578484211066675)\n",
            "For n_clusters = 6, the silhouette score is 0.3434990793023485)\n",
            "For n_clusters = 7, the silhouette score is 0.3661442615367182)\n",
            "For n_clusters = 8, the silhouette score is 0.4047546863059053)\n",
            "For n_clusters = 9, the silhouette score is 0.39102713851068926)\n"
          ]
        },
        {
          "output_type": "display_data",
          "data": {
            "text/plain": [
              "<Figure size 576x396 with 1 Axes>"
            ],
            "image/png": "[encoded data removed]"
          },
          "metadata": {}
        },
        {
          "output_type": "display_data",
          "data": {
            "text/plain": [
              "<IPython.core.display.Javascript object>"
            ],
            "application/javascript": [
              "\n",
              "            setTimeout(function() {\n",
              "                var nbb_cell_id = 88;\n",
              "                var nbb_unformatted_code = \"# let's check the silhouette visualizer out\\nsil_score = []\\ncluster_list = list(range(2, 10))\\nfor n_clusters in cluster_list:\\n    clusterer = KMeans(n_clusters=n_clusters)\\n    preds = clusterer.fit_predict((subset_scaled_df))\\n    # centers = clusterer.cluster_centers_\\n    score = silhouette_score(subset_scaled_df, preds)\\n    sil_score.append(score)\\n    print(\\\"For n_clusters = {}, the silhouette score is {})\\\".format(n_clusters, score))\\n\\nplt.plot(cluster_list, sil_score)\\nplt.show()\";\n",
              "                var nbb_formatted_code = \"# let's check the silhouette visualizer out\\nsil_score = []\\ncluster_list = list(range(2, 10))\\nfor n_clusters in cluster_list:\\n    clusterer = KMeans(n_clusters=n_clusters)\\n    preds = clusterer.fit_predict((subset_scaled_df))\\n    # centers = clusterer.cluster_centers_\\n    score = silhouette_score(subset_scaled_df, preds)\\n    sil_score.append(score)\\n    print(\\\"For n_clusters = {}, the silhouette score is {})\\\".format(n_clusters, score))\\n\\nplt.plot(cluster_list, sil_score)\\nplt.show()\";\n",
              "                var nbb_cells = Jupyter.notebook.get_cells();\n",
              "                for (var i = 0; i < nbb_cells.length; ++i) {\n",
              "                    if (nbb_cells[i].input_prompt_number == nbb_cell_id) {\n",
              "                        if (nbb_cells[i].get_text() == nbb_unformatted_code) {\n",
              "                             nbb_cells[i].set_text(nbb_formatted_code);\n",
              "                        }\n",
              "                        break;\n",
              "                    }\n",
              "                }\n",
              "            }, 500);\n",
              "            "
            ]
          },
          "metadata": {}
        }
      ]
    },
    {
      "cell_type": "markdown",
      "source": [
        "Observation:\n",
        "\n",
        "* Silhouette score for 4 is much higher than for 3."
      ],
      "metadata": {
        "id": "p28UtApfWFo2"
      }
    },
    {
      "cell_type": "code",
      "source": [
        "# Instantiate the clustering model and visualizer\n",
        "model = KMeans(3, random_state=1)\n",
        "visualizer = SilhouetteVisualizer(model)\n",
        "visualizer.fit(subset_scaled_df)  # Fit the data to the visualizer\n",
        "visualizer.show()  # Finalize and render the figure"
      ],
      "metadata": {
        "colab": {
          "base_uri": "https://localhost:8080/",
          "height": 404
        },
        "id": "CSX_U_A_WGVZ",
        "outputId": "7b56e547-0cd1-4869-c183-bce9a6a51061"
      },
      "execution_count": null,
      "outputs": [
        {
          "output_type": "display_data",
          "data": {
            "text/plain": [
              "<Figure size 576x396 with 1 Axes>"
            ],
            "image/png": "[encoded data removed]"
          },
          "metadata": {}
        },
        {
          "output_type": "execute_result",
          "data": {
            "text/plain": [
              "<matplotlib.axes._subplots.AxesSubplot at 0x7f675651f250>"
            ]
          },
          "metadata": {},
          "execution_count": 89
        },
        {
          "output_type": "display_data",
          "data": {
            "text/plain": [
              "<IPython.core.display.Javascript object>"
            ],
            "application/javascript": [
              "\n",
              "            setTimeout(function() {\n",
              "                var nbb_cell_id = 89;\n",
              "                var nbb_unformatted_code = \"# Instantiate the clustering model and visualizer\\nmodel = KMeans(3, random_state=1)\\nvisualizer = SilhouetteVisualizer(model)\\nvisualizer.fit(subset_scaled_df)  # Fit the data to the visualizer\\nvisualizer.show()  # Finalize and render the figure\";\n",
              "                var nbb_formatted_code = \"# Instantiate the clustering model and visualizer\\nmodel = KMeans(3, random_state=1)\\nvisualizer = SilhouetteVisualizer(model)\\nvisualizer.fit(subset_scaled_df)  # Fit the data to the visualizer\\nvisualizer.show()  # Finalize and render the figure\";\n",
              "                var nbb_cells = Jupyter.notebook.get_cells();\n",
              "                for (var i = 0; i < nbb_cells.length; ++i) {\n",
              "                    if (nbb_cells[i].input_prompt_number == nbb_cell_id) {\n",
              "                        if (nbb_cells[i].get_text() == nbb_unformatted_code) {\n",
              "                             nbb_cells[i].set_text(nbb_formatted_code);\n",
              "                        }\n",
              "                        break;\n",
              "                    }\n",
              "                }\n",
              "            }, 500);\n",
              "            "
            ]
          },
          "metadata": {}
        }
      ]
    },
    {
      "cell_type": "code",
      "source": [
        "# finding optimal no. of clusters with silhouette coefficients\n",
        "visualizer = SilhouetteVisualizer(KMeans(4, random_state=1))\n",
        "visualizer.fit(subset_scaled_df)\n",
        "visualizer.show()"
      ],
      "metadata": {
        "colab": {
          "base_uri": "https://localhost:8080/",
          "height": 404
        },
        "id": "weYq8NXuWMQ-",
        "outputId": "dc95b401-4ac8-48f4-9b5e-e06c738354e7"
      },
      "execution_count": null,
      "outputs": [
        {
          "output_type": "display_data",
          "data": {
            "text/plain": [
              "<Figure size 576x396 with 1 Axes>"
            ],
            "image/png": "[encoded data removed]"
          },
          "metadata": {}
        },
        {
          "output_type": "execute_result",
          "data": {
            "text/plain": [
              "<matplotlib.axes._subplots.AxesSubplot at 0x7f67564fcad0>"
            ]
          },
          "metadata": {},
          "execution_count": 90
        },
        {
          "output_type": "display_data",
          "data": {
            "text/plain": [
              "<IPython.core.display.Javascript object>"
            ],
            "application/javascript": [
              "\n",
              "            setTimeout(function() {\n",
              "                var nbb_cell_id = 90;\n",
              "                var nbb_unformatted_code = \"# finding optimal no. of clusters with silhouette coefficients\\nvisualizer = SilhouetteVisualizer(KMeans(4, random_state=1))\\nvisualizer.fit(subset_scaled_df)\\nvisualizer.show()\";\n",
              "                var nbb_formatted_code = \"# finding optimal no. of clusters with silhouette coefficients\\nvisualizer = SilhouetteVisualizer(KMeans(4, random_state=1))\\nvisualizer.fit(subset_scaled_df)\\nvisualizer.show()\";\n",
              "                var nbb_cells = Jupyter.notebook.get_cells();\n",
              "                for (var i = 0; i < nbb_cells.length; ++i) {\n",
              "                    if (nbb_cells[i].input_prompt_number == nbb_cell_id) {\n",
              "                        if (nbb_cells[i].get_text() == nbb_unformatted_code) {\n",
              "                             nbb_cells[i].set_text(nbb_formatted_code);\n",
              "                        }\n",
              "                        break;\n",
              "                    }\n",
              "                }\n",
              "            }, 500);\n",
              "            "
            ]
          },
          "metadata": {}
        }
      ]
    },
    {
      "cell_type": "code",
      "source": [
        "# finding optimal no. of clusters with silhouette coefficients\n",
        "visualizer = SilhouetteVisualizer(KMeans(5, random_state=1))\n",
        "visualizer.fit(subset_scaled_df)\n",
        "visualizer.show()"
      ],
      "metadata": {
        "colab": {
          "base_uri": "https://localhost:8080/",
          "height": 404
        },
        "id": "teofiVtHWQOZ",
        "outputId": "dc96d5e4-d899-4e44-82a9-b2b789dca68c"
      },
      "execution_count": null,
      "outputs": [
        {
          "output_type": "display_data",
          "data": {
            "text/plain": [
              "<Figure size 576x396 with 1 Axes>"
            ],
            "image/png": "[encoded data removed]"
          },
          "metadata": {}
        },
        {
          "output_type": "execute_result",
          "data": {
            "text/plain": [
              "<matplotlib.axes._subplots.AxesSubplot at 0x7f6756433210>"
            ]
          },
          "metadata": {},
          "execution_count": 91
        },
        {
          "output_type": "display_data",
          "data": {
            "text/plain": [
              "<IPython.core.display.Javascript object>"
            ],
            "application/javascript": [
              "\n",
              "            setTimeout(function() {\n",
              "                var nbb_cell_id = 91;\n",
              "                var nbb_unformatted_code = \"# finding optimal no. of clusters with silhouette coefficients\\nvisualizer = SilhouetteVisualizer(KMeans(5, random_state=1))\\nvisualizer.fit(subset_scaled_df)\\nvisualizer.show()\";\n",
              "                var nbb_formatted_code = \"# finding optimal no. of clusters with silhouette coefficients\\nvisualizer = SilhouetteVisualizer(KMeans(5, random_state=1))\\nvisualizer.fit(subset_scaled_df)\\nvisualizer.show()\";\n",
              "                var nbb_cells = Jupyter.notebook.get_cells();\n",
              "                for (var i = 0; i < nbb_cells.length; ++i) {\n",
              "                    if (nbb_cells[i].input_prompt_number == nbb_cell_id) {\n",
              "                        if (nbb_cells[i].get_text() == nbb_unformatted_code) {\n",
              "                             nbb_cells[i].set_text(nbb_formatted_code);\n",
              "                        }\n",
              "                        break;\n",
              "                    }\n",
              "                }\n",
              "            }, 500);\n",
              "            "
            ]
          },
          "metadata": {}
        }
      ]
    },
    {
      "cell_type": "code",
      "source": [
        "# finding optimal no. of clusters with silhouette coefficients\n",
        "visualizer = SilhouetteVisualizer(KMeans(6, random_state=1))\n",
        "visualizer.fit(subset_scaled_df)\n",
        "visualizer.show()"
      ],
      "metadata": {
        "colab": {
          "base_uri": "https://localhost:8080/",
          "height": 404
        },
        "id": "9e1ISXDrWWvy",
        "outputId": "c5f4c979-7e21-474c-b49f-40ca3ab7b691"
      },
      "execution_count": null,
      "outputs": [
        {
          "output_type": "display_data",
          "data": {
            "text/plain": [
              "<Figure size 576x396 with 1 Axes>"
            ],
            "image/png": "[encoded data removed]"
          },
          "metadata": {}
        },
        {
          "output_type": "execute_result",
          "data": {
            "text/plain": [
              "<matplotlib.axes._subplots.AxesSubplot at 0x7f67563fe550>"
            ]
          },
          "metadata": {},
          "execution_count": 92
        },
        {
          "output_type": "display_data",
          "data": {
            "text/plain": [
              "<IPython.core.display.Javascript object>"
            ],
            "application/javascript": [
              "\n",
              "            setTimeout(function() {\n",
              "                var nbb_cell_id = 92;\n",
              "                var nbb_unformatted_code = \"# finding optimal no. of clusters with silhouette coefficients\\nvisualizer = SilhouetteVisualizer(KMeans(6, random_state=1))\\nvisualizer.fit(subset_scaled_df)\\nvisualizer.show()\";\n",
              "                var nbb_formatted_code = \"# finding optimal no. of clusters with silhouette coefficients\\nvisualizer = SilhouetteVisualizer(KMeans(6, random_state=1))\\nvisualizer.fit(subset_scaled_df)\\nvisualizer.show()\";\n",
              "                var nbb_cells = Jupyter.notebook.get_cells();\n",
              "                for (var i = 0; i < nbb_cells.length; ++i) {\n",
              "                    if (nbb_cells[i].input_prompt_number == nbb_cell_id) {\n",
              "                        if (nbb_cells[i].get_text() == nbb_unformatted_code) {\n",
              "                             nbb_cells[i].set_text(nbb_formatted_code);\n",
              "                        }\n",
              "                        break;\n",
              "                    }\n",
              "                }\n",
              "            }, 500);\n",
              "            "
            ]
          },
          "metadata": {}
        }
      ]
    },
    {
      "cell_type": "markdown",
      "source": [
        "## Running the model using the best value of K"
      ],
      "metadata": {
        "id": "yIYC5kQwXE2s"
      }
    },
    {
      "cell_type": "code",
      "source": [
        "# let's take 4 as number of clusters\n",
        "kmeans = KMeans(n_clusters=4, random_state=0)\n",
        "kmeans.fit(subset_scaled_df)"
      ],
      "metadata": {
        "colab": {
          "base_uri": "https://localhost:8080/",
          "height": 35
        },
        "id": "B9rGYWWjXGur",
        "outputId": "8cdd3c57-714d-44de-b80b-c6a98e02198b"
      },
      "execution_count": null,
      "outputs": [
        {
          "output_type": "execute_result",
          "data": {
            "text/plain": [
              "KMeans(n_clusters=4, random_state=0)"
            ]
          },
          "metadata": {},
          "execution_count": 99
        },
        {
          "output_type": "display_data",
          "data": {
            "text/plain": [
              "<IPython.core.display.Javascript object>"
            ],
            "application/javascript": [
              "\n",
              "            setTimeout(function() {\n",
              "                var nbb_cell_id = 99;\n",
              "                var nbb_unformatted_code = \"# let's take 4 as number of clusters\\nkmeans = KMeans(n_clusters=4, random_state=0)\\nkmeans.fit(subset_scaled_df)\";\n",
              "                var nbb_formatted_code = \"# let's take 4 as number of clusters\\nkmeans = KMeans(n_clusters=4, random_state=0)\\nkmeans.fit(subset_scaled_df)\";\n",
              "                var nbb_cells = Jupyter.notebook.get_cells();\n",
              "                for (var i = 0; i < nbb_cells.length; ++i) {\n",
              "                    if (nbb_cells[i].input_prompt_number == nbb_cell_id) {\n",
              "                        if (nbb_cells[i].get_text() == nbb_unformatted_code) {\n",
              "                             nbb_cells[i].set_text(nbb_formatted_code);\n",
              "                        }\n",
              "                        break;\n",
              "                    }\n",
              "                }\n",
              "            }, 500);\n",
              "            "
            ]
          },
          "metadata": {}
        }
      ]
    },
    {
      "cell_type": "code",
      "source": [
        "# adding kmeans cluster labels to the original and scaled dataframes\n",
        "\n",
        "data[\"K_means_segments\"] = kmeans.labels_\n",
        "subset_scaled_df[\"K_means_segments\"] = kmeans.labels_"
      ],
      "metadata": {
        "colab": {
          "base_uri": "https://localhost:8080/",
          "height": 17
        },
        "id": "PekST8QzXKWb",
        "outputId": "e0afa378-9b31-4699-dcdb-e5dad682e1ad"
      },
      "execution_count": null,
      "outputs": [
        {
          "output_type": "display_data",
          "data": {
            "text/plain": [
              "<IPython.core.display.Javascript object>"
            ],
            "application/javascript": [
              "\n",
              "            setTimeout(function() {\n",
              "                var nbb_cell_id = 100;\n",
              "                var nbb_unformatted_code = \"# adding kmeans cluster labels to the original and scaled dataframes\\n\\ndata[\\\"K_means_segments\\\"] = kmeans.labels_\\nsubset_scaled_df[\\\"K_means_segments\\\"] = kmeans.labels_\";\n",
              "                var nbb_formatted_code = \"# adding kmeans cluster labels to the original and scaled dataframes\\n\\ndata[\\\"K_means_segments\\\"] = kmeans.labels_\\nsubset_scaled_df[\\\"K_means_segments\\\"] = kmeans.labels_\";\n",
              "                var nbb_cells = Jupyter.notebook.get_cells();\n",
              "                for (var i = 0; i < nbb_cells.length; ++i) {\n",
              "                    if (nbb_cells[i].input_prompt_number == nbb_cell_id) {\n",
              "                        if (nbb_cells[i].get_text() == nbb_unformatted_code) {\n",
              "                             nbb_cells[i].set_text(nbb_formatted_code);\n",
              "                        }\n",
              "                        break;\n",
              "                    }\n",
              "                }\n",
              "            }, 500);\n",
              "            "
            ]
          },
          "metadata": {}
        }
      ]
    },
    {
      "cell_type": "markdown",
      "source": [
        "## Cluster Profiling"
      ],
      "metadata": {
        "id": "QfSyy3RgXLuF"
      }
    },
    {
      "cell_type": "code",
      "source": [
        "# adding kmeans cluster labels to the original dataframe\n",
        "cluster_profile = data.groupby(\"K_means_segments\").mean()"
      ],
      "metadata": {
        "colab": {
          "base_uri": "https://localhost:8080/",
          "height": 17
        },
        "id": "LkiWlYIwXPPv",
        "outputId": "c1758b1e-ea6d-4dbe-dc6f-76a8e28bfc0d"
      },
      "execution_count": null,
      "outputs": [
        {
          "output_type": "display_data",
          "data": {
            "text/plain": [
              "<IPython.core.display.Javascript object>"
            ],
            "application/javascript": [
              "\n",
              "            setTimeout(function() {\n",
              "                var nbb_cell_id = 101;\n",
              "                var nbb_unformatted_code = \"# adding kmeans cluster labels to the original dataframe\\ncluster_profile = data.groupby(\\\"K_means_segments\\\").mean()\";\n",
              "                var nbb_formatted_code = \"# adding kmeans cluster labels to the original dataframe\\ncluster_profile = data.groupby(\\\"K_means_segments\\\").mean()\";\n",
              "                var nbb_cells = Jupyter.notebook.get_cells();\n",
              "                for (var i = 0; i < nbb_cells.length; ++i) {\n",
              "                    if (nbb_cells[i].input_prompt_number == nbb_cell_id) {\n",
              "                        if (nbb_cells[i].get_text() == nbb_unformatted_code) {\n",
              "                             nbb_cells[i].set_text(nbb_formatted_code);\n",
              "                        }\n",
              "                        break;\n",
              "                    }\n",
              "                }\n",
              "            }, 500);\n",
              "            "
            ]
          },
          "metadata": {}
        }
      ]
    },
    {
      "cell_type": "code",
      "source": [
        "# let's display cluster profiles\n",
        "cluster_profile.style.highlight_max(color=\"lightgreen\", axis=0)"
      ],
      "metadata": {
        "colab": {
          "base_uri": "https://localhost:8080/",
          "height": 206
        },
        "id": "sI3F9GFEXRc3",
        "outputId": "1daa1e89-eb81-4244-f461-a606c2a234db"
      },
      "execution_count": null,
      "outputs": [
        {
          "output_type": "execute_result",
          "data": {
            "text/plain": [
              "<pandas.io.formats.style.Styler at 0x7f67564921d0>"
            ],
            "text/html": [
              "<style type=\"text/css\">\n",
              "#T_841b1_row1_col0, #T_841b1_row1_col2, #T_841b1_row1_col3, #T_841b1_row2_col1, #T_841b1_row3_col4 {\n",
              "  background-color: lightgreen;\n",
              "}\n",
              "</style>\n",
              "<table id=\"T_841b1_\" class=\"dataframe\">\n",
              "  <thead>\n",
              "    <tr>\n",
              "      <th class=\"blank level0\" >&nbsp;</th>\n",
              "      <th class=\"col_heading level0 col0\" >Teaching</th>\n",
              "      <th class=\"col_heading level0 col1\" >Fees</th>\n",
              "      <th class=\"col_heading level0 col2\" >Placements</th>\n",
              "      <th class=\"col_heading level0 col3\" >Internship</th>\n",
              "      <th class=\"col_heading level0 col4\" >Infrastructure</th>\n",
              "    </tr>\n",
              "    <tr>\n",
              "      <th class=\"index_name level0\" >K_means_segments</th>\n",
              "      <th class=\"blank col0\" >&nbsp;</th>\n",
              "      <th class=\"blank col1\" >&nbsp;</th>\n",
              "      <th class=\"blank col2\" >&nbsp;</th>\n",
              "      <th class=\"blank col3\" >&nbsp;</th>\n",
              "      <th class=\"blank col4\" >&nbsp;</th>\n",
              "    </tr>\n",
              "  </thead>\n",
              "  <tbody>\n",
              "    <tr>\n",
              "      <th id=\"T_841b1_level0_row0\" class=\"row_heading level0 row0\" >0</th>\n",
              "      <td id=\"T_841b1_row0_col0\" class=\"data row0 col0\" >2.125000</td>\n",
              "      <td id=\"T_841b1_row0_col1\" class=\"data row0 col1\" >3.125000</td>\n",
              "      <td id=\"T_841b1_row0_col2\" class=\"data row0 col2\" >1.375000</td>\n",
              "      <td id=\"T_841b1_row0_col3\" class=\"data row0 col3\" >1.750000</td>\n",
              "      <td id=\"T_841b1_row0_col4\" class=\"data row0 col4\" >2.000000</td>\n",
              "    </tr>\n",
              "    <tr>\n",
              "      <th id=\"T_841b1_level0_row1\" class=\"row_heading level0 row1\" >1</th>\n",
              "      <td id=\"T_841b1_row1_col0\" class=\"data row1 col0\" >4.000000</td>\n",
              "      <td id=\"T_841b1_row1_col1\" class=\"data row1 col1\" >3.625000</td>\n",
              "      <td id=\"T_841b1_row1_col2\" class=\"data row1 col2\" >4.375000</td>\n",
              "      <td id=\"T_841b1_row1_col3\" class=\"data row1 col3\" >4.375000</td>\n",
              "      <td id=\"T_841b1_row1_col4\" class=\"data row1 col4\" >4.250000</td>\n",
              "    </tr>\n",
              "    <tr>\n",
              "      <th id=\"T_841b1_level0_row2\" class=\"row_heading level0 row2\" >2</th>\n",
              "      <td id=\"T_841b1_row2_col0\" class=\"data row2 col0\" >2.750000</td>\n",
              "      <td id=\"T_841b1_row2_col1\" class=\"data row2 col1\" >4.625000</td>\n",
              "      <td id=\"T_841b1_row2_col2\" class=\"data row2 col2\" >3.375000</td>\n",
              "      <td id=\"T_841b1_row2_col3\" class=\"data row2 col3\" >2.500000</td>\n",
              "      <td id=\"T_841b1_row2_col4\" class=\"data row2 col4\" >3.500000</td>\n",
              "    </tr>\n",
              "    <tr>\n",
              "      <th id=\"T_841b1_level0_row3\" class=\"row_heading level0 row3\" >3</th>\n",
              "      <td id=\"T_841b1_row3_col0\" class=\"data row3 col0\" >1.000000</td>\n",
              "      <td id=\"T_841b1_row3_col1\" class=\"data row3 col1\" >1.000000</td>\n",
              "      <td id=\"T_841b1_row3_col2\" class=\"data row3 col2\" >1.000000</td>\n",
              "      <td id=\"T_841b1_row3_col3\" class=\"data row3 col3\" >1.500000</td>\n",
              "      <td id=\"T_841b1_row3_col4\" class=\"data row3 col4\" >5.000000</td>\n",
              "    </tr>\n",
              "  </tbody>\n",
              "</table>\n"
            ]
          },
          "metadata": {},
          "execution_count": 102
        },
        {
          "output_type": "display_data",
          "data": {
            "text/plain": [
              "<IPython.core.display.Javascript object>"
            ],
            "application/javascript": [
              "\n",
              "            setTimeout(function() {\n",
              "                var nbb_cell_id = 102;\n",
              "                var nbb_unformatted_code = \"# let's display cluster profiles\\ncluster_profile.style.highlight_max(color=\\\"lightgreen\\\", axis=0)\";\n",
              "                var nbb_formatted_code = \"# let's display cluster profiles\\ncluster_profile.style.highlight_max(color=\\\"lightgreen\\\", axis=0)\";\n",
              "                var nbb_cells = Jupyter.notebook.get_cells();\n",
              "                for (var i = 0; i < nbb_cells.length; ++i) {\n",
              "                    if (nbb_cells[i].input_prompt_number == nbb_cell_id) {\n",
              "                        if (nbb_cells[i].get_text() == nbb_unformatted_code) {\n",
              "                             nbb_cells[i].set_text(nbb_formatted_code);\n",
              "                        }\n",
              "                        break;\n",
              "                    }\n",
              "                }\n",
              "            }, 500);\n",
              "            "
            ]
          },
          "metadata": {}
        }
      ]
    },
    {
      "cell_type": "code",
      "source": [
        "fig, axes = plt.subplots(1, 5, figsize=(16, 6))\n",
        "fig.suptitle(\"Boxplot of scaled numerical variables for each cluster\", fontsize=20)\n",
        "counter = 0\n",
        "for ii in range(5):\n",
        "    sns.boxplot(\n",
        "        ax=axes[ii],\n",
        "        y=data[num_col[counter]],\n",
        "        x=data[\"K_means_segments\"],\n",
        "    )\n",
        "    counter = counter + 1\n",
        "\n",
        "fig.tight_layout(pad=2.0)"
      ],
      "metadata": {
        "colab": {
          "base_uri": "https://localhost:8080/",
          "height": 430
        },
        "id": "W2d8shC8Yc_o",
        "outputId": "0c4ddc22-c9f8-4806-87a8-bbbe6704a0aa"
      },
      "execution_count": null,
      "outputs": [
        {
          "output_type": "display_data",
          "data": {
            "text/plain": [
              "<Figure size 1152x432 with 5 Axes>"
            ],
            "image/png": "[encoded data removed]"
          },
          "metadata": {}
        },
        {
          "output_type": "display_data",
          "data": {
            "text/plain": [
              "<IPython.core.display.Javascript object>"
            ],
            "application/javascript": [
              "\n",
              "            setTimeout(function() {\n",
              "                var nbb_cell_id = 103;\n",
              "                var nbb_unformatted_code = \"fig, axes = plt.subplots(1, 5, figsize=(16, 6))\\nfig.suptitle(\\\"Boxplot of scaled numerical variables for each cluster\\\", fontsize=20)\\ncounter = 0\\nfor ii in range(5):\\n    sns.boxplot(\\n        ax=axes[ii],\\n        y=data[num_col[counter]],\\n        x=data[\\\"K_means_segments\\\"],\\n    )\\n    counter = counter + 1\\n\\nfig.tight_layout(pad=2.0)\";\n",
              "                var nbb_formatted_code = \"fig, axes = plt.subplots(1, 5, figsize=(16, 6))\\nfig.suptitle(\\\"Boxplot of scaled numerical variables for each cluster\\\", fontsize=20)\\ncounter = 0\\nfor ii in range(5):\\n    sns.boxplot(\\n        ax=axes[ii],\\n        y=data[num_col[counter]],\\n        x=data[\\\"K_means_segments\\\"],\\n    )\\n    counter = counter + 1\\n\\nfig.tight_layout(pad=2.0)\";\n",
              "                var nbb_cells = Jupyter.notebook.get_cells();\n",
              "                for (var i = 0; i < nbb_cells.length; ++i) {\n",
              "                    if (nbb_cells[i].input_prompt_number == nbb_cell_id) {\n",
              "                        if (nbb_cells[i].get_text() == nbb_unformatted_code) {\n",
              "                             nbb_cells[i].set_text(nbb_formatted_code);\n",
              "                        }\n",
              "                        break;\n",
              "                    }\n",
              "                }\n",
              "            }, 500);\n",
              "            "
            ]
          },
          "metadata": {}
        }
      ]
    },
    {
      "cell_type": "markdown",
      "source": [
        "# Insights for each cluster\n",
        "\n",
        "* **Cluster 0:**\n",
        "\n",
        "  * Teaching ratings in this cluster have median between 2 and 3.\n",
        "  * Fees ratings have median between 3 and 3.5.\n",
        "  * Placemnets ratings is low, ranging between 1 and 2.\n",
        "  * Internship ratings are at 2\n",
        "  * Median for Infrastructure ratings is between 2 and 3.\n",
        "\n",
        "\n",
        "\n",
        "  * **Cluster 1:**\n",
        "\n",
        "    * Teaching ratings in this cluster are the highest with average of 4.5.\n",
        "    * Fees ratings have median between 3.5 and 4.\n",
        "    * Placemnets ratings average are at 4.3.\n",
        "    * Internship ratings are between 4 and 5.\n",
        "    * Median for Infrastructure ratings is between 4.5 and 5.\n",
        "\n",
        "  * **Cluster 2:**\n",
        "\n",
        "    * Teaching ratings in this cluster are between 2.75 and 3.\n",
        "    * Fees ratings are between 4 and 5.\n",
        "    * Placemnets ratings are between 3 and 4.\n",
        "    * Median for Internship ratings are between 2.5 and 3.\n",
        "    * Median for Infrastructure ratings is between 3 and 4.\n",
        "\n",
        "  * **Cluster 2:**\n",
        "\n",
        "    * Median for Teaching ratings in this cluster is almost 0.\n",
        "    * Median for Fees ratings is also close to 0.\n",
        "    * Placemnets ratings median falls close to 0.\n",
        "    * Median for Internship ratings are between 1.5 and 2.\n",
        "    * Median for Infrastructure ratings is almost 5.\n",
        "\n",
        "\n"
      ],
      "metadata": {
        "id": "RTc5PDGXYoEk"
      }
    },
    {
      "cell_type": "markdown",
      "source": [
        "**Comparing Cluster vs Engineering Colleges**"
      ],
      "metadata": {
        "id": "OyWte0h-Yvfb"
      }
    },
    {
      "cell_type": "code",
      "source": [
        "pd.crosstab(data.K_means_segments, data.Engg_College).style.highlight_max(\n",
        "    color=\"lightgreen\", axis=0\n",
        ")"
      ],
      "metadata": {
        "colab": {
          "base_uri": "https://localhost:8080/",
          "height": 206
        },
        "id": "ijBDEU2GYxrf",
        "outputId": "6c5ca679-14b5-4d0a-9bfc-6acfb91518b6"
      },
      "execution_count": null,
      "outputs": [
        {
          "output_type": "execute_result",
          "data": {
            "text/plain": [
              "<pandas.io.formats.style.Styler at 0x7f67566e4310>"
            ],
            "text/html": [
              "<style type=\"text/css\">\n",
              "#T_57a1e_row0_col6, #T_57a1e_row0_col12, #T_57a1e_row0_col14, #T_57a1e_row0_col15, #T_57a1e_row0_col16, #T_57a1e_row0_col20, #T_57a1e_row0_col21, #T_57a1e_row0_col22, #T_57a1e_row1_col0, #T_57a1e_row1_col1, #T_57a1e_row1_col2, #T_57a1e_row1_col3, #T_57a1e_row1_col7, #T_57a1e_row1_col8, #T_57a1e_row1_col9, #T_57a1e_row1_col10, #T_57a1e_row2_col4, #T_57a1e_row2_col5, #T_57a1e_row2_col11, #T_57a1e_row2_col13, #T_57a1e_row2_col17, #T_57a1e_row2_col18, #T_57a1e_row2_col19, #T_57a1e_row2_col25, #T_57a1e_row3_col23, #T_57a1e_row3_col24 {\n",
              "  background-color: lightgreen;\n",
              "}\n",
              "</style>\n",
              "<table id=\"T_57a1e_\" class=\"dataframe\">\n",
              "  <thead>\n",
              "    <tr>\n",
              "      <th class=\"index_name level0\" >Engg_College</th>\n",
              "      <th class=\"col_heading level0 col0\" >A</th>\n",
              "      <th class=\"col_heading level0 col1\" >B</th>\n",
              "      <th class=\"col_heading level0 col2\" >C</th>\n",
              "      <th class=\"col_heading level0 col3\" >D</th>\n",
              "      <th class=\"col_heading level0 col4\" >E</th>\n",
              "      <th class=\"col_heading level0 col5\" >F</th>\n",
              "      <th class=\"col_heading level0 col6\" >G</th>\n",
              "      <th class=\"col_heading level0 col7\" >H</th>\n",
              "      <th class=\"col_heading level0 col8\" >I</th>\n",
              "      <th class=\"col_heading level0 col9\" >J</th>\n",
              "      <th class=\"col_heading level0 col10\" >K</th>\n",
              "      <th class=\"col_heading level0 col11\" >L</th>\n",
              "      <th class=\"col_heading level0 col12\" >M</th>\n",
              "      <th class=\"col_heading level0 col13\" >N</th>\n",
              "      <th class=\"col_heading level0 col14\" >O</th>\n",
              "      <th class=\"col_heading level0 col15\" >P</th>\n",
              "      <th class=\"col_heading level0 col16\" >Q</th>\n",
              "      <th class=\"col_heading level0 col17\" >R</th>\n",
              "      <th class=\"col_heading level0 col18\" >S</th>\n",
              "      <th class=\"col_heading level0 col19\" >T</th>\n",
              "      <th class=\"col_heading level0 col20\" >U</th>\n",
              "      <th class=\"col_heading level0 col21\" >V</th>\n",
              "      <th class=\"col_heading level0 col22\" >W</th>\n",
              "      <th class=\"col_heading level0 col23\" >X</th>\n",
              "      <th class=\"col_heading level0 col24\" >Y</th>\n",
              "      <th class=\"col_heading level0 col25\" >Z</th>\n",
              "    </tr>\n",
              "    <tr>\n",
              "      <th class=\"index_name level0\" >K_means_segments</th>\n",
              "      <th class=\"blank col0\" >&nbsp;</th>\n",
              "      <th class=\"blank col1\" >&nbsp;</th>\n",
              "      <th class=\"blank col2\" >&nbsp;</th>\n",
              "      <th class=\"blank col3\" >&nbsp;</th>\n",
              "      <th class=\"blank col4\" >&nbsp;</th>\n",
              "      <th class=\"blank col5\" >&nbsp;</th>\n",
              "      <th class=\"blank col6\" >&nbsp;</th>\n",
              "      <th class=\"blank col7\" >&nbsp;</th>\n",
              "      <th class=\"blank col8\" >&nbsp;</th>\n",
              "      <th class=\"blank col9\" >&nbsp;</th>\n",
              "      <th class=\"blank col10\" >&nbsp;</th>\n",
              "      <th class=\"blank col11\" >&nbsp;</th>\n",
              "      <th class=\"blank col12\" >&nbsp;</th>\n",
              "      <th class=\"blank col13\" >&nbsp;</th>\n",
              "      <th class=\"blank col14\" >&nbsp;</th>\n",
              "      <th class=\"blank col15\" >&nbsp;</th>\n",
              "      <th class=\"blank col16\" >&nbsp;</th>\n",
              "      <th class=\"blank col17\" >&nbsp;</th>\n",
              "      <th class=\"blank col18\" >&nbsp;</th>\n",
              "      <th class=\"blank col19\" >&nbsp;</th>\n",
              "      <th class=\"blank col20\" >&nbsp;</th>\n",
              "      <th class=\"blank col21\" >&nbsp;</th>\n",
              "      <th class=\"blank col22\" >&nbsp;</th>\n",
              "      <th class=\"blank col23\" >&nbsp;</th>\n",
              "      <th class=\"blank col24\" >&nbsp;</th>\n",
              "      <th class=\"blank col25\" >&nbsp;</th>\n",
              "    </tr>\n",
              "  </thead>\n",
              "  <tbody>\n",
              "    <tr>\n",
              "      <th id=\"T_57a1e_level0_row0\" class=\"row_heading level0 row0\" >0</th>\n",
              "      <td id=\"T_57a1e_row0_col0\" class=\"data row0 col0\" >0</td>\n",
              "      <td id=\"T_57a1e_row0_col1\" class=\"data row0 col1\" >0</td>\n",
              "      <td id=\"T_57a1e_row0_col2\" class=\"data row0 col2\" >0</td>\n",
              "      <td id=\"T_57a1e_row0_col3\" class=\"data row0 col3\" >0</td>\n",
              "      <td id=\"T_57a1e_row0_col4\" class=\"data row0 col4\" >0</td>\n",
              "      <td id=\"T_57a1e_row0_col5\" class=\"data row0 col5\" >0</td>\n",
              "      <td id=\"T_57a1e_row0_col6\" class=\"data row0 col6\" >1</td>\n",
              "      <td id=\"T_57a1e_row0_col7\" class=\"data row0 col7\" >0</td>\n",
              "      <td id=\"T_57a1e_row0_col8\" class=\"data row0 col8\" >0</td>\n",
              "      <td id=\"T_57a1e_row0_col9\" class=\"data row0 col9\" >0</td>\n",
              "      <td id=\"T_57a1e_row0_col10\" class=\"data row0 col10\" >0</td>\n",
              "      <td id=\"T_57a1e_row0_col11\" class=\"data row0 col11\" >0</td>\n",
              "      <td id=\"T_57a1e_row0_col12\" class=\"data row0 col12\" >1</td>\n",
              "      <td id=\"T_57a1e_row0_col13\" class=\"data row0 col13\" >0</td>\n",
              "      <td id=\"T_57a1e_row0_col14\" class=\"data row0 col14\" >1</td>\n",
              "      <td id=\"T_57a1e_row0_col15\" class=\"data row0 col15\" >1</td>\n",
              "      <td id=\"T_57a1e_row0_col16\" class=\"data row0 col16\" >1</td>\n",
              "      <td id=\"T_57a1e_row0_col17\" class=\"data row0 col17\" >0</td>\n",
              "      <td id=\"T_57a1e_row0_col18\" class=\"data row0 col18\" >0</td>\n",
              "      <td id=\"T_57a1e_row0_col19\" class=\"data row0 col19\" >0</td>\n",
              "      <td id=\"T_57a1e_row0_col20\" class=\"data row0 col20\" >1</td>\n",
              "      <td id=\"T_57a1e_row0_col21\" class=\"data row0 col21\" >1</td>\n",
              "      <td id=\"T_57a1e_row0_col22\" class=\"data row0 col22\" >1</td>\n",
              "      <td id=\"T_57a1e_row0_col23\" class=\"data row0 col23\" >0</td>\n",
              "      <td id=\"T_57a1e_row0_col24\" class=\"data row0 col24\" >0</td>\n",
              "      <td id=\"T_57a1e_row0_col25\" class=\"data row0 col25\" >0</td>\n",
              "    </tr>\n",
              "    <tr>\n",
              "      <th id=\"T_57a1e_level0_row1\" class=\"row_heading level0 row1\" >1</th>\n",
              "      <td id=\"T_57a1e_row1_col0\" class=\"data row1 col0\" >1</td>\n",
              "      <td id=\"T_57a1e_row1_col1\" class=\"data row1 col1\" >1</td>\n",
              "      <td id=\"T_57a1e_row1_col2\" class=\"data row1 col2\" >1</td>\n",
              "      <td id=\"T_57a1e_row1_col3\" class=\"data row1 col3\" >1</td>\n",
              "      <td id=\"T_57a1e_row1_col4\" class=\"data row1 col4\" >0</td>\n",
              "      <td id=\"T_57a1e_row1_col5\" class=\"data row1 col5\" >0</td>\n",
              "      <td id=\"T_57a1e_row1_col6\" class=\"data row1 col6\" >0</td>\n",
              "      <td id=\"T_57a1e_row1_col7\" class=\"data row1 col7\" >1</td>\n",
              "      <td id=\"T_57a1e_row1_col8\" class=\"data row1 col8\" >1</td>\n",
              "      <td id=\"T_57a1e_row1_col9\" class=\"data row1 col9\" >1</td>\n",
              "      <td id=\"T_57a1e_row1_col10\" class=\"data row1 col10\" >1</td>\n",
              "      <td id=\"T_57a1e_row1_col11\" class=\"data row1 col11\" >0</td>\n",
              "      <td id=\"T_57a1e_row1_col12\" class=\"data row1 col12\" >0</td>\n",
              "      <td id=\"T_57a1e_row1_col13\" class=\"data row1 col13\" >0</td>\n",
              "      <td id=\"T_57a1e_row1_col14\" class=\"data row1 col14\" >0</td>\n",
              "      <td id=\"T_57a1e_row1_col15\" class=\"data row1 col15\" >0</td>\n",
              "      <td id=\"T_57a1e_row1_col16\" class=\"data row1 col16\" >0</td>\n",
              "      <td id=\"T_57a1e_row1_col17\" class=\"data row1 col17\" >0</td>\n",
              "      <td id=\"T_57a1e_row1_col18\" class=\"data row1 col18\" >0</td>\n",
              "      <td id=\"T_57a1e_row1_col19\" class=\"data row1 col19\" >0</td>\n",
              "      <td id=\"T_57a1e_row1_col20\" class=\"data row1 col20\" >0</td>\n",
              "      <td id=\"T_57a1e_row1_col21\" class=\"data row1 col21\" >0</td>\n",
              "      <td id=\"T_57a1e_row1_col22\" class=\"data row1 col22\" >0</td>\n",
              "      <td id=\"T_57a1e_row1_col23\" class=\"data row1 col23\" >0</td>\n",
              "      <td id=\"T_57a1e_row1_col24\" class=\"data row1 col24\" >0</td>\n",
              "      <td id=\"T_57a1e_row1_col25\" class=\"data row1 col25\" >0</td>\n",
              "    </tr>\n",
              "    <tr>\n",
              "      <th id=\"T_57a1e_level0_row2\" class=\"row_heading level0 row2\" >2</th>\n",
              "      <td id=\"T_57a1e_row2_col0\" class=\"data row2 col0\" >0</td>\n",
              "      <td id=\"T_57a1e_row2_col1\" class=\"data row2 col1\" >0</td>\n",
              "      <td id=\"T_57a1e_row2_col2\" class=\"data row2 col2\" >0</td>\n",
              "      <td id=\"T_57a1e_row2_col3\" class=\"data row2 col3\" >0</td>\n",
              "      <td id=\"T_57a1e_row2_col4\" class=\"data row2 col4\" >1</td>\n",
              "      <td id=\"T_57a1e_row2_col5\" class=\"data row2 col5\" >1</td>\n",
              "      <td id=\"T_57a1e_row2_col6\" class=\"data row2 col6\" >0</td>\n",
              "      <td id=\"T_57a1e_row2_col7\" class=\"data row2 col7\" >0</td>\n",
              "      <td id=\"T_57a1e_row2_col8\" class=\"data row2 col8\" >0</td>\n",
              "      <td id=\"T_57a1e_row2_col9\" class=\"data row2 col9\" >0</td>\n",
              "      <td id=\"T_57a1e_row2_col10\" class=\"data row2 col10\" >0</td>\n",
              "      <td id=\"T_57a1e_row2_col11\" class=\"data row2 col11\" >1</td>\n",
              "      <td id=\"T_57a1e_row2_col12\" class=\"data row2 col12\" >0</td>\n",
              "      <td id=\"T_57a1e_row2_col13\" class=\"data row2 col13\" >1</td>\n",
              "      <td id=\"T_57a1e_row2_col14\" class=\"data row2 col14\" >0</td>\n",
              "      <td id=\"T_57a1e_row2_col15\" class=\"data row2 col15\" >0</td>\n",
              "      <td id=\"T_57a1e_row2_col16\" class=\"data row2 col16\" >0</td>\n",
              "      <td id=\"T_57a1e_row2_col17\" class=\"data row2 col17\" >1</td>\n",
              "      <td id=\"T_57a1e_row2_col18\" class=\"data row2 col18\" >1</td>\n",
              "      <td id=\"T_57a1e_row2_col19\" class=\"data row2 col19\" >1</td>\n",
              "      <td id=\"T_57a1e_row2_col20\" class=\"data row2 col20\" >0</td>\n",
              "      <td id=\"T_57a1e_row2_col21\" class=\"data row2 col21\" >0</td>\n",
              "      <td id=\"T_57a1e_row2_col22\" class=\"data row2 col22\" >0</td>\n",
              "      <td id=\"T_57a1e_row2_col23\" class=\"data row2 col23\" >0</td>\n",
              "      <td id=\"T_57a1e_row2_col24\" class=\"data row2 col24\" >0</td>\n",
              "      <td id=\"T_57a1e_row2_col25\" class=\"data row2 col25\" >1</td>\n",
              "    </tr>\n",
              "    <tr>\n",
              "      <th id=\"T_57a1e_level0_row3\" class=\"row_heading level0 row3\" >3</th>\n",
              "      <td id=\"T_57a1e_row3_col0\" class=\"data row3 col0\" >0</td>\n",
              "      <td id=\"T_57a1e_row3_col1\" class=\"data row3 col1\" >0</td>\n",
              "      <td id=\"T_57a1e_row3_col2\" class=\"data row3 col2\" >0</td>\n",
              "      <td id=\"T_57a1e_row3_col3\" class=\"data row3 col3\" >0</td>\n",
              "      <td id=\"T_57a1e_row3_col4\" class=\"data row3 col4\" >0</td>\n",
              "      <td id=\"T_57a1e_row3_col5\" class=\"data row3 col5\" >0</td>\n",
              "      <td id=\"T_57a1e_row3_col6\" class=\"data row3 col6\" >0</td>\n",
              "      <td id=\"T_57a1e_row3_col7\" class=\"data row3 col7\" >0</td>\n",
              "      <td id=\"T_57a1e_row3_col8\" class=\"data row3 col8\" >0</td>\n",
              "      <td id=\"T_57a1e_row3_col9\" class=\"data row3 col9\" >0</td>\n",
              "      <td id=\"T_57a1e_row3_col10\" class=\"data row3 col10\" >0</td>\n",
              "      <td id=\"T_57a1e_row3_col11\" class=\"data row3 col11\" >0</td>\n",
              "      <td id=\"T_57a1e_row3_col12\" class=\"data row3 col12\" >0</td>\n",
              "      <td id=\"T_57a1e_row3_col13\" class=\"data row3 col13\" >0</td>\n",
              "      <td id=\"T_57a1e_row3_col14\" class=\"data row3 col14\" >0</td>\n",
              "      <td id=\"T_57a1e_row3_col15\" class=\"data row3 col15\" >0</td>\n",
              "      <td id=\"T_57a1e_row3_col16\" class=\"data row3 col16\" >0</td>\n",
              "      <td id=\"T_57a1e_row3_col17\" class=\"data row3 col17\" >0</td>\n",
              "      <td id=\"T_57a1e_row3_col18\" class=\"data row3 col18\" >0</td>\n",
              "      <td id=\"T_57a1e_row3_col19\" class=\"data row3 col19\" >0</td>\n",
              "      <td id=\"T_57a1e_row3_col20\" class=\"data row3 col20\" >0</td>\n",
              "      <td id=\"T_57a1e_row3_col21\" class=\"data row3 col21\" >0</td>\n",
              "      <td id=\"T_57a1e_row3_col22\" class=\"data row3 col22\" >0</td>\n",
              "      <td id=\"T_57a1e_row3_col23\" class=\"data row3 col23\" >1</td>\n",
              "      <td id=\"T_57a1e_row3_col24\" class=\"data row3 col24\" >1</td>\n",
              "      <td id=\"T_57a1e_row3_col25\" class=\"data row3 col25\" >0</td>\n",
              "    </tr>\n",
              "  </tbody>\n",
              "</table>\n"
            ]
          },
          "metadata": {},
          "execution_count": 104
        },
        {
          "output_type": "display_data",
          "data": {
            "text/plain": [
              "<IPython.core.display.Javascript object>"
            ],
            "application/javascript": [
              "\n",
              "            setTimeout(function() {\n",
              "                var nbb_cell_id = 104;\n",
              "                var nbb_unformatted_code = \"pd.crosstab(data.K_means_segments, data.Engg_College).style.highlight_max(\\n    color=\\\"lightgreen\\\", axis=0\\n)\";\n",
              "                var nbb_formatted_code = \"pd.crosstab(data.K_means_segments, data.Engg_College).style.highlight_max(\\n    color=\\\"lightgreen\\\", axis=0\\n)\";\n",
              "                var nbb_cells = Jupyter.notebook.get_cells();\n",
              "                for (var i = 0; i < nbb_cells.length; ++i) {\n",
              "                    if (nbb_cells[i].input_prompt_number == nbb_cell_id) {\n",
              "                        if (nbb_cells[i].get_text() == nbb_unformatted_code) {\n",
              "                             nbb_cells[i].set_text(nbb_formatted_code);\n",
              "                        }\n",
              "                        break;\n",
              "                    }\n",
              "                }\n",
              "            }, 500);\n",
              "            "
            ]
          },
          "metadata": {}
        }
      ]
    },
    {
      "cell_type": "markdown",
      "source": [
        "Observations:\n",
        "\n",
        "* Colleges X and Y have lowest Teaching, Fees, and Placements ratings.\n",
        "* X and Y colleges hae the highest infrastructure ratings.\n"
      ],
      "metadata": {
        "id": "kacMVf1rY_NC"
      }
    },
    {
      "cell_type": "markdown",
      "source": [
        "# Conclusion\n",
        "\n",
        "* Cluster 0 consists of colleges with somewhat lower ratings.\n",
        "* Colleges in Cluster 1 have the highest ratings on average.\n",
        "* Cluster 2 consists of colleges with high ratings in some categories and low in others.\n",
        "* Colleges in cluster 3 have 0 ratings for 3 categories. "
      ],
      "metadata": {
        "id": "DIAafUABZCvl"
      }
    }
  ]
}