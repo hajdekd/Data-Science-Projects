{
  "cells": [
    {
      "cell_type": "markdown",
      "metadata": {
        "id": "view-in-github",
        "colab_type": "text"
      },
      "source": [
        "<a href=\"https://colab.research.google.com/github/hajdekd/Data-Science-Projects/blob/main/Dalibor_Hajdek_Linear_Regression_Assignment.ipynb\" target=\"_parent\"><img src=\"https://colab.research.google.com/assets/colab-badge.svg\" alt=\"Open In Colab\"/></a>"
      ]
    },
    {
      "cell_type": "markdown",
      "metadata": {
        "id": "uH2iGj6G6BMP"
      },
      "source": [
        "# Linear Regression Assignment\n"
      ]
    },
    {
      "cell_type": "markdown",
      "metadata": {
        "id": "lFyYBAmD6BMR"
      },
      "source": [
        "# Context\n",
        "There is a huge demand for used cars after the COVID-19 pandemic. Dealership are still uncertain about both the pricing and supply of used cars compared to pre-COVID era. In this project, you will build a regression model to predict the future prices of used cars that a dealership can rely on the model prediction. "
      ]
    },
    {
      "cell_type": "markdown",
      "metadata": {
        "id": "MtQQSWQj6BMS"
      },
      "source": [
        "# Data Description  \n",
        "\n",
        "1. S.No. : Serial Number\n",
        "2. Name : Name of the car which includes Brand name and Model name\n",
        "3. Location : The location in which the car is being sold or is available for purchase Cities\n",
        "4. Year : Manufacturing year of the car\n",
        "5. Kilometers_driven : The total kilometers driven in the car by the previous owner(s) in KM.\n",
        "6. Fuel_Type : The type of fuel used by the car. (Petrol, Diesel, Electric, CNG, LPG)\n",
        "7. Transmission : The type of transmission used by the car. (Automatic / Manual)\n",
        "8. Owner : Type of ownership\n",
        "9. Mileage : The standard mileage offered by the car company in kmpl or km/kg\n",
        "0. Engine : The displacement volume of the engine in CC.\n",
        "1. Power : The maximum power of the engine in bhp.\n",
        "2. Seats : The number of seats in the car.\n",
        "3. New_Price : The price of a new car of the same model in INR Lakhs.(1 Lakh = 100, 000)\n",
        "4. Price : The price of the used car in INR Lakhs (1 Lakh = 100, 000)"
      ]
    },
    {
      "cell_type": "markdown",
      "metadata": {
        "id": "VX1QpCK66BMS"
      },
      "source": [
        "## Python Good Coding Practice"
      ]
    },
    {
      "cell_type": "code",
      "source": [
        "!pip install nb_black"
      ],
      "metadata": {
        "colab": {
          "base_uri": "https://localhost:8080/"
        },
        "id": "NxmQ3rUCkks8",
        "outputId": "0bb67e5c-7c15-4953-b5aa-9cc87efcb071"
      },
      "execution_count": null,
      "outputs": [
        {
          "output_type": "stream",
          "name": "stdout",
          "text": [
            "Looking in indexes: https://pypi.org/simple, https://us-python.pkg.dev/colab-wheels/public/simple/\n",
            "Collecting nb_black\n",
            "  Downloading nb_black-1.0.7.tar.gz (4.8 kB)\n",
            "Requirement already satisfied: ipython in /usr/local/lib/python3.7/dist-packages (from nb_black) (7.9.0)\n",
            "Collecting black>='19.3'\n",
            "  Downloading black-22.8.0-cp37-cp37m-manylinux_2_17_x86_64.manylinux2014_x86_64.whl (1.5 MB)\n",
            "\u001b[K     |████████████████████████████████| 1.5 MB 7.9 MB/s \n",
            "\u001b[?25hCollecting pathspec>=0.9.0\n",
            "  Downloading pathspec-0.10.1-py3-none-any.whl (27 kB)\n",
            "Requirement already satisfied: tomli>=1.1.0 in /usr/local/lib/python3.7/dist-packages (from black>='19.3'->nb_black) (2.0.1)\n",
            "Collecting mypy-extensions>=0.4.3\n",
            "  Downloading mypy_extensions-0.4.3-py2.py3-none-any.whl (4.5 kB)\n",
            "Collecting platformdirs>=2\n",
            "  Downloading platformdirs-2.5.2-py3-none-any.whl (14 kB)\n",
            "Requirement already satisfied: typing-extensions>=3.10.0.0 in /usr/local/lib/python3.7/dist-packages (from black>='19.3'->nb_black) (4.1.1)\n",
            "Collecting typed-ast>=1.4.2\n",
            "  Downloading typed_ast-1.5.4-cp37-cp37m-manylinux_2_5_x86_64.manylinux1_x86_64.manylinux_2_12_x86_64.manylinux2010_x86_64.whl (843 kB)\n",
            "\u001b[K     |████████████████████████████████| 843 kB 50.7 MB/s \n",
            "\u001b[?25hCollecting click>=8.0.0\n",
            "  Downloading click-8.1.3-py3-none-any.whl (96 kB)\n",
            "\u001b[K     |████████████████████████████████| 96 kB 7.2 MB/s \n",
            "\u001b[?25hRequirement already satisfied: importlib-metadata in /usr/local/lib/python3.7/dist-packages (from click>=8.0.0->black>='19.3'->nb_black) (4.12.0)\n",
            "Requirement already satisfied: zipp>=0.5 in /usr/local/lib/python3.7/dist-packages (from importlib-metadata->click>=8.0.0->black>='19.3'->nb_black) (3.8.1)\n",
            "Requirement already satisfied: pygments in /usr/local/lib/python3.7/dist-packages (from ipython->nb_black) (2.6.1)\n",
            "Requirement already satisfied: backcall in /usr/local/lib/python3.7/dist-packages (from ipython->nb_black) (0.2.0)\n",
            "Requirement already satisfied: pickleshare in /usr/local/lib/python3.7/dist-packages (from ipython->nb_black) (0.7.5)\n",
            "Collecting jedi>=0.10\n",
            "  Downloading jedi-0.18.1-py2.py3-none-any.whl (1.6 MB)\n",
            "\u001b[K     |████████████████████████████████| 1.6 MB 46.3 MB/s \n",
            "\u001b[?25hRequirement already satisfied: setuptools>=18.5 in /usr/local/lib/python3.7/dist-packages (from ipython->nb_black) (57.4.0)\n",
            "Requirement already satisfied: prompt-toolkit<2.1.0,>=2.0.0 in /usr/local/lib/python3.7/dist-packages (from ipython->nb_black) (2.0.10)\n",
            "Requirement already satisfied: traitlets>=4.2 in /usr/local/lib/python3.7/dist-packages (from ipython->nb_black) (5.1.1)\n",
            "Requirement already satisfied: pexpect in /usr/local/lib/python3.7/dist-packages (from ipython->nb_black) (4.8.0)\n",
            "Requirement already satisfied: decorator in /usr/local/lib/python3.7/dist-packages (from ipython->nb_black) (4.4.2)\n",
            "Requirement already satisfied: parso<0.9.0,>=0.8.0 in /usr/local/lib/python3.7/dist-packages (from jedi>=0.10->ipython->nb_black) (0.8.3)\n",
            "Requirement already satisfied: wcwidth in /usr/local/lib/python3.7/dist-packages (from prompt-toolkit<2.1.0,>=2.0.0->ipython->nb_black) (0.2.5)\n",
            "Requirement already satisfied: six>=1.9.0 in /usr/local/lib/python3.7/dist-packages (from prompt-toolkit<2.1.0,>=2.0.0->ipython->nb_black) (1.15.0)\n",
            "Requirement already satisfied: ptyprocess>=0.5 in /usr/local/lib/python3.7/dist-packages (from pexpect->ipython->nb_black) (0.7.0)\n",
            "Building wheels for collected packages: nb-black\n",
            "  Building wheel for nb-black (setup.py) ... \u001b[?25l\u001b[?25hdone\n",
            "  Created wheel for nb-black: filename=nb_black-1.0.7-py3-none-any.whl size=5297 sha256=f8dd39261da428457e0c3ce9b3f88f6add3fee4ba9852c071ef40b957bbd8aa4\n",
            "  Stored in directory: /root/.cache/pip/wheels/1e/b2/88/51c66d23ea5fd0d40ed50997555e15d981d92671376a9a412a\n",
            "Successfully built nb-black\n",
            "Installing collected packages: typed-ast, platformdirs, pathspec, mypy-extensions, jedi, click, black, nb-black\n",
            "  Attempting uninstall: click\n",
            "    Found existing installation: click 7.1.2\n",
            "    Uninstalling click-7.1.2:\n",
            "      Successfully uninstalled click-7.1.2\n",
            "\u001b[31mERROR: pip's dependency resolver does not currently take into account all the packages that are installed. This behaviour is the source of the following dependency conflicts.\n",
            "flask 1.1.4 requires click<8.0,>=5.1, but you have click 8.1.3 which is incompatible.\u001b[0m\n",
            "Successfully installed black-22.8.0 click-8.1.3 jedi-0.18.1 mypy-extensions-0.4.3 nb-black-1.0.7 pathspec-0.10.1 platformdirs-2.5.2 typed-ast-1.5.4\n"
          ]
        }
      ]
    },
    {
      "cell_type": "code",
      "execution_count": null,
      "metadata": {
        "colab": {
          "base_uri": "https://localhost:8080/",
          "height": 17
        },
        "id": "p7LchJC86BMT",
        "outputId": "8fe288dd-91d7-46c5-db4e-d471f1c27f6d"
      },
      "outputs": [
        {
          "output_type": "display_data",
          "data": {
            "text/plain": [
              "<IPython.core.display.Javascript object>"
            ],
            "application/javascript": [
              "\n",
              "            setTimeout(function() {\n",
              "                var nbb_cell_id = 61;\n",
              "                var nbb_unformatted_code = \"# Loading the nb_black to make Python code more structured automatically\\n%load_ext nb_black\";\n",
              "                var nbb_formatted_code = \"# Loading the nb_black to make Python code more structured automatically\\n%load_ext nb_black\";\n",
              "                var nbb_cells = Jupyter.notebook.get_cells();\n",
              "                for (var i = 0; i < nbb_cells.length; ++i) {\n",
              "                    if (nbb_cells[i].input_prompt_number == nbb_cell_id) {\n",
              "                        if (nbb_cells[i].get_text() == nbb_unformatted_code) {\n",
              "                             nbb_cells[i].set_text(nbb_formatted_code);\n",
              "                        }\n",
              "                        break;\n",
              "                    }\n",
              "                }\n",
              "            }, 500);\n",
              "            "
            ]
          },
          "metadata": {}
        }
      ],
      "source": [
        "# Loading the nb_black to make Python code more structured automatically\n",
        "%load_ext nb_black"
      ]
    },
    {
      "cell_type": "markdown",
      "metadata": {
        "id": "3eSt1JT06BMU"
      },
      "source": [
        "# Importing Needed Libraries"
      ]
    },
    {
      "cell_type": "code",
      "execution_count": null,
      "metadata": {
        "id": "mTXLuQ5z6BMU"
      },
      "outputs": [],
      "source": [
        "#Loading required libraries\n",
        "import pandas as pd\n",
        "import numpy as np\n",
        "import matplotlib.pyplot as plt\n",
        "import seaborn as sns\n",
        "\n",
        "%matplotlib inline\n",
        "sns.set()\n",
        "\n",
        "import warnings\n",
        "\n",
        "warnings.filterwarnings(\"ignore\")\n",
        "\n",
        "# removing the limit from the number of displayed columns and rows\n",
        "pd.set_option(\"display.max_columns\", None)\n",
        "\n",
        "# displaying 200 rows of the data frame, the default  is much smaller\n",
        "pd.set_option(\"display.max_rows\", 200)\n",
        "\n",
        "# building linear regression model for prediction\n",
        "from sklearn.linear_model import LinearRegression\n",
        "\n",
        "# checking model performance\n",
        "from sklearn.metrics import mean_squared_error, r2_score, mean_absolute_error"
      ]
    },
    {
      "cell_type": "markdown",
      "metadata": {
        "id": "RYMoUYMi6BMV"
      },
      "source": [
        "# Loading Data"
      ]
    },
    {
      "cell_type": "code",
      "source": [
        "#Mounting the drive\n",
        "from google.colab import drive\n",
        "drive.mount('/content/drive')"
      ],
      "metadata": {
        "id": "uhwdknWC6qB5",
        "colab": {
          "base_uri": "https://localhost:8080/"
        },
        "outputId": "17b6566a-89c7-4d76-d710-c21b5532c820"
      },
      "execution_count": null,
      "outputs": [
        {
          "output_type": "stream",
          "name": "stdout",
          "text": [
            "Mounted at /content/drive\n"
          ]
        }
      ]
    },
    {
      "cell_type": "code",
      "source": [
        "# Loading the data\n",
        "data = pd.read_csv('/content/drive/MyDrive/UsedCars.csv')"
      ],
      "metadata": {
        "id": "STFY7TyVGKH7"
      },
      "execution_count": null,
      "outputs": []
    },
    {
      "cell_type": "markdown",
      "metadata": {
        "id": "D6aR6oX56BMV"
      },
      "source": [
        "# Exploring the Data (EDA)"
      ]
    },
    {
      "cell_type": "code",
      "source": [
        "# Viewing first 5 rows of the dataset\n",
        "data.head()"
      ],
      "metadata": {
        "colab": {
          "base_uri": "https://localhost:8080/",
          "height": 206
        },
        "id": "M-VLmROqG6jQ",
        "outputId": "aeef3329-fbb5-4cb6-ac84-80ab9aa2c20b"
      },
      "execution_count": null,
      "outputs": [
        {
          "output_type": "execute_result",
          "data": {
            "text/plain": [
              "   S.No.                              Name    Location  Year  \\\n",
              "0      0            Maruti Wagon R LXI CNG      Mumbai  2010   \n",
              "1      1  Hyundai Creta 1.6 CRDi SX Option        Pune  2015   \n",
              "2      2                      Honda Jazz V     Chennai  2011   \n",
              "3      3                 Maruti Ertiga VDI     Chennai  2012   \n",
              "4      4   Audi A4 New 2.0 TDI Multitronic  Coimbatore  2013   \n",
              "\n",
              "   Kilometers_Driven Fuel_Type Transmission Owner_Type     Mileage   Engine  \\\n",
              "0              72000       CNG       Manual      First  26.6 km/kg   998 CC   \n",
              "1              41000    Diesel       Manual      First  19.67 kmpl  1582 CC   \n",
              "2              46000    Petrol       Manual      First   18.2 kmpl  1199 CC   \n",
              "3              87000    Diesel       Manual      First  20.77 kmpl  1248 CC   \n",
              "4              40670    Diesel    Automatic     Second   15.2 kmpl  1968 CC   \n",
              "\n",
              "       Power  Seats  New_Price  Price  \n",
              "0  58.16 bhp    5.0        NaN   1.75  \n",
              "1  126.2 bhp    5.0        NaN  12.50  \n",
              "2   88.7 bhp    5.0  8.61 Lakh   4.50  \n",
              "3  88.76 bhp    7.0        NaN   6.00  \n",
              "4  140.8 bhp    5.0        NaN  17.74  "
            ],
            "text/html": [
              "\n",
              "  <div id=\"df-6e5c7131-0e41-4cee-9afd-ea0a8af8db2b\">\n",
              "    <div class=\"colab-df-container\">\n",
              "      <div>\n",
              "<style scoped>\n",
              "    .dataframe tbody tr th:only-of-type {\n",
              "        vertical-align: middle;\n",
              "    }\n",
              "\n",
              "    .dataframe tbody tr th {\n",
              "        vertical-align: top;\n",
              "    }\n",
              "\n",
              "    .dataframe thead th {\n",
              "        text-align: right;\n",
              "    }\n",
              "</style>\n",
              "<table border=\"1\" class=\"dataframe\">\n",
              "  <thead>\n",
              "    <tr style=\"text-align: right;\">\n",
              "      <th></th>\n",
              "      <th>S.No.</th>\n",
              "      <th>Name</th>\n",
              "      <th>Location</th>\n",
              "      <th>Year</th>\n",
              "      <th>Kilometers_Driven</th>\n",
              "      <th>Fuel_Type</th>\n",
              "      <th>Transmission</th>\n",
              "      <th>Owner_Type</th>\n",
              "      <th>Mileage</th>\n",
              "      <th>Engine</th>\n",
              "      <th>Power</th>\n",
              "      <th>Seats</th>\n",
              "      <th>New_Price</th>\n",
              "      <th>Price</th>\n",
              "    </tr>\n",
              "  </thead>\n",
              "  <tbody>\n",
              "    <tr>\n",
              "      <th>0</th>\n",
              "      <td>0</td>\n",
              "      <td>Maruti Wagon R LXI CNG</td>\n",
              "      <td>Mumbai</td>\n",
              "      <td>2010</td>\n",
              "      <td>72000</td>\n",
              "      <td>CNG</td>\n",
              "      <td>Manual</td>\n",
              "      <td>First</td>\n",
              "      <td>26.6 km/kg</td>\n",
              "      <td>998 CC</td>\n",
              "      <td>58.16 bhp</td>\n",
              "      <td>5.0</td>\n",
              "      <td>NaN</td>\n",
              "      <td>1.75</td>\n",
              "    </tr>\n",
              "    <tr>\n",
              "      <th>1</th>\n",
              "      <td>1</td>\n",
              "      <td>Hyundai Creta 1.6 CRDi SX Option</td>\n",
              "      <td>Pune</td>\n",
              "      <td>2015</td>\n",
              "      <td>41000</td>\n",
              "      <td>Diesel</td>\n",
              "      <td>Manual</td>\n",
              "      <td>First</td>\n",
              "      <td>19.67 kmpl</td>\n",
              "      <td>1582 CC</td>\n",
              "      <td>126.2 bhp</td>\n",
              "      <td>5.0</td>\n",
              "      <td>NaN</td>\n",
              "      <td>12.50</td>\n",
              "    </tr>\n",
              "    <tr>\n",
              "      <th>2</th>\n",
              "      <td>2</td>\n",
              "      <td>Honda Jazz V</td>\n",
              "      <td>Chennai</td>\n",
              "      <td>2011</td>\n",
              "      <td>46000</td>\n",
              "      <td>Petrol</td>\n",
              "      <td>Manual</td>\n",
              "      <td>First</td>\n",
              "      <td>18.2 kmpl</td>\n",
              "      <td>1199 CC</td>\n",
              "      <td>88.7 bhp</td>\n",
              "      <td>5.0</td>\n",
              "      <td>8.61 Lakh</td>\n",
              "      <td>4.50</td>\n",
              "    </tr>\n",
              "    <tr>\n",
              "      <th>3</th>\n",
              "      <td>3</td>\n",
              "      <td>Maruti Ertiga VDI</td>\n",
              "      <td>Chennai</td>\n",
              "      <td>2012</td>\n",
              "      <td>87000</td>\n",
              "      <td>Diesel</td>\n",
              "      <td>Manual</td>\n",
              "      <td>First</td>\n",
              "      <td>20.77 kmpl</td>\n",
              "      <td>1248 CC</td>\n",
              "      <td>88.76 bhp</td>\n",
              "      <td>7.0</td>\n",
              "      <td>NaN</td>\n",
              "      <td>6.00</td>\n",
              "    </tr>\n",
              "    <tr>\n",
              "      <th>4</th>\n",
              "      <td>4</td>\n",
              "      <td>Audi A4 New 2.0 TDI Multitronic</td>\n",
              "      <td>Coimbatore</td>\n",
              "      <td>2013</td>\n",
              "      <td>40670</td>\n",
              "      <td>Diesel</td>\n",
              "      <td>Automatic</td>\n",
              "      <td>Second</td>\n",
              "      <td>15.2 kmpl</td>\n",
              "      <td>1968 CC</td>\n",
              "      <td>140.8 bhp</td>\n",
              "      <td>5.0</td>\n",
              "      <td>NaN</td>\n",
              "      <td>17.74</td>\n",
              "    </tr>\n",
              "  </tbody>\n",
              "</table>\n",
              "</div>\n",
              "      <button class=\"colab-df-convert\" onclick=\"convertToInteractive('df-6e5c7131-0e41-4cee-9afd-ea0a8af8db2b')\"\n",
              "              title=\"Convert this dataframe to an interactive table.\"\n",
              "              style=\"display:none;\">\n",
              "        \n",
              "  <svg xmlns=\"http://www.w3.org/2000/svg\" height=\"24px\"viewBox=\"0 0 24 24\"\n",
              "       width=\"24px\">\n",
              "    <path d=\"M0 0h24v24H0V0z\" fill=\"none\"/>\n",
              "    <path d=\"M18.56 5.44l.94 2.06.94-2.06 2.06-.94-2.06-.94-.94-2.06-.94 2.06-2.06.94zm-11 1L8.5 8.5l.94-2.06 2.06-.94-2.06-.94L8.5 2.5l-.94 2.06-2.06.94zm10 10l.94 2.06.94-2.06 2.06-.94-2.06-.94-.94-2.06-.94 2.06-2.06.94z\"/><path d=\"M17.41 7.96l-1.37-1.37c-.4-.4-.92-.59-1.43-.59-.52 0-1.04.2-1.43.59L10.3 9.45l-7.72 7.72c-.78.78-.78 2.05 0 2.83L4 21.41c.39.39.9.59 1.41.59.51 0 1.02-.2 1.41-.59l7.78-7.78 2.81-2.81c.8-.78.8-2.07 0-2.86zM5.41 20L4 18.59l7.72-7.72 1.47 1.35L5.41 20z\"/>\n",
              "  </svg>\n",
              "      </button>\n",
              "      \n",
              "  <style>\n",
              "    .colab-df-container {\n",
              "      display:flex;\n",
              "      flex-wrap:wrap;\n",
              "      gap: 12px;\n",
              "    }\n",
              "\n",
              "    .colab-df-convert {\n",
              "      background-color: #E8F0FE;\n",
              "      border: none;\n",
              "      border-radius: 50%;\n",
              "      cursor: pointer;\n",
              "      display: none;\n",
              "      fill: #1967D2;\n",
              "      height: 32px;\n",
              "      padding: 0 0 0 0;\n",
              "      width: 32px;\n",
              "    }\n",
              "\n",
              "    .colab-df-convert:hover {\n",
              "      background-color: #E2EBFA;\n",
              "      box-shadow: 0px 1px 2px rgba(60, 64, 67, 0.3), 0px 1px 3px 1px rgba(60, 64, 67, 0.15);\n",
              "      fill: #174EA6;\n",
              "    }\n",
              "\n",
              "    [theme=dark] .colab-df-convert {\n",
              "      background-color: #3B4455;\n",
              "      fill: #D2E3FC;\n",
              "    }\n",
              "\n",
              "    [theme=dark] .colab-df-convert:hover {\n",
              "      background-color: #434B5C;\n",
              "      box-shadow: 0px 1px 3px 1px rgba(0, 0, 0, 0.15);\n",
              "      filter: drop-shadow(0px 1px 2px rgba(0, 0, 0, 0.3));\n",
              "      fill: #FFFFFF;\n",
              "    }\n",
              "  </style>\n",
              "\n",
              "      <script>\n",
              "        const buttonEl =\n",
              "          document.querySelector('#df-6e5c7131-0e41-4cee-9afd-ea0a8af8db2b button.colab-df-convert');\n",
              "        buttonEl.style.display =\n",
              "          google.colab.kernel.accessAllowed ? 'block' : 'none';\n",
              "\n",
              "        async function convertToInteractive(key) {\n",
              "          const element = document.querySelector('#df-6e5c7131-0e41-4cee-9afd-ea0a8af8db2b');\n",
              "          const dataTable =\n",
              "            await google.colab.kernel.invokeFunction('convertToInteractive',\n",
              "                                                     [key], {});\n",
              "          if (!dataTable) return;\n",
              "\n",
              "          const docLinkHtml = 'Like what you see? Visit the ' +\n",
              "            '<a target=\"_blank\" href=https://colab.research.google.com/notebooks/data_table.ipynb>data table notebook</a>'\n",
              "            + ' to learn more about interactive tables.';\n",
              "          element.innerHTML = '';\n",
              "          dataTable['output_type'] = 'display_data';\n",
              "          await google.colab.output.renderOutput(dataTable, element);\n",
              "          const docLink = document.createElement('div');\n",
              "          docLink.innerHTML = docLinkHtml;\n",
              "          element.appendChild(docLink);\n",
              "        }\n",
              "      </script>\n",
              "    </div>\n",
              "  </div>\n",
              "  "
            ]
          },
          "metadata": {},
          "execution_count": 4
        }
      ]
    },
    {
      "cell_type": "code",
      "source": [
        "# Viewing last 5 rows of the dataset\n",
        "data.tail()"
      ],
      "metadata": {
        "colab": {
          "base_uri": "https://localhost:8080/",
          "height": 206
        },
        "id": "ETLT-AJxHFEX",
        "outputId": "1a809510-56a6-478c-cbb4-6886097006e7"
      },
      "execution_count": null,
      "outputs": [
        {
          "output_type": "execute_result",
          "data": {
            "text/plain": [
              "      S.No.                                               Name   Location  \\\n",
              "7248   7248                  Volkswagen Vento Diesel Trendline  Hyderabad   \n",
              "7249   7249                             Volkswagen Polo GT TSI     Mumbai   \n",
              "7250   7250                             Nissan Micra Diesel XV    Kolkata   \n",
              "7251   7251                             Volkswagen Polo GT TSI       Pune   \n",
              "7252   7252  Mercedes-Benz E-Class 2009-2013 E 220 CDI Avan...      Kochi   \n",
              "\n",
              "      Year  Kilometers_Driven Fuel_Type Transmission Owner_Type     Mileage  \\\n",
              "7248  2011              89411    Diesel       Manual      First  20.54 kmpl   \n",
              "7249  2015              59000    Petrol    Automatic      First  17.21 kmpl   \n",
              "7250  2012              28000    Diesel       Manual      First  23.08 kmpl   \n",
              "7251  2013              52262    Petrol    Automatic      Third   17.2 kmpl   \n",
              "7252  2014              72443    Diesel    Automatic      First   10.0 kmpl   \n",
              "\n",
              "       Engine      Power  Seats New_Price  Price  \n",
              "7248  1598 CC  103.6 bhp    5.0       NaN    NaN  \n",
              "7249  1197 CC  103.6 bhp    5.0       NaN    NaN  \n",
              "7250  1461 CC   63.1 bhp    5.0       NaN    NaN  \n",
              "7251  1197 CC  103.6 bhp    5.0       NaN    NaN  \n",
              "7252  2148 CC    170 bhp    5.0       NaN    NaN  "
            ],
            "text/html": [
              "\n",
              "  <div id=\"df-084adf97-a59e-42ff-bedd-836dd10093da\">\n",
              "    <div class=\"colab-df-container\">\n",
              "      <div>\n",
              "<style scoped>\n",
              "    .dataframe tbody tr th:only-of-type {\n",
              "        vertical-align: middle;\n",
              "    }\n",
              "\n",
              "    .dataframe tbody tr th {\n",
              "        vertical-align: top;\n",
              "    }\n",
              "\n",
              "    .dataframe thead th {\n",
              "        text-align: right;\n",
              "    }\n",
              "</style>\n",
              "<table border=\"1\" class=\"dataframe\">\n",
              "  <thead>\n",
              "    <tr style=\"text-align: right;\">\n",
              "      <th></th>\n",
              "      <th>S.No.</th>\n",
              "      <th>Name</th>\n",
              "      <th>Location</th>\n",
              "      <th>Year</th>\n",
              "      <th>Kilometers_Driven</th>\n",
              "      <th>Fuel_Type</th>\n",
              "      <th>Transmission</th>\n",
              "      <th>Owner_Type</th>\n",
              "      <th>Mileage</th>\n",
              "      <th>Engine</th>\n",
              "      <th>Power</th>\n",
              "      <th>Seats</th>\n",
              "      <th>New_Price</th>\n",
              "      <th>Price</th>\n",
              "    </tr>\n",
              "  </thead>\n",
              "  <tbody>\n",
              "    <tr>\n",
              "      <th>7248</th>\n",
              "      <td>7248</td>\n",
              "      <td>Volkswagen Vento Diesel Trendline</td>\n",
              "      <td>Hyderabad</td>\n",
              "      <td>2011</td>\n",
              "      <td>89411</td>\n",
              "      <td>Diesel</td>\n",
              "      <td>Manual</td>\n",
              "      <td>First</td>\n",
              "      <td>20.54 kmpl</td>\n",
              "      <td>1598 CC</td>\n",
              "      <td>103.6 bhp</td>\n",
              "      <td>5.0</td>\n",
              "      <td>NaN</td>\n",
              "      <td>NaN</td>\n",
              "    </tr>\n",
              "    <tr>\n",
              "      <th>7249</th>\n",
              "      <td>7249</td>\n",
              "      <td>Volkswagen Polo GT TSI</td>\n",
              "      <td>Mumbai</td>\n",
              "      <td>2015</td>\n",
              "      <td>59000</td>\n",
              "      <td>Petrol</td>\n",
              "      <td>Automatic</td>\n",
              "      <td>First</td>\n",
              "      <td>17.21 kmpl</td>\n",
              "      <td>1197 CC</td>\n",
              "      <td>103.6 bhp</td>\n",
              "      <td>5.0</td>\n",
              "      <td>NaN</td>\n",
              "      <td>NaN</td>\n",
              "    </tr>\n",
              "    <tr>\n",
              "      <th>7250</th>\n",
              "      <td>7250</td>\n",
              "      <td>Nissan Micra Diesel XV</td>\n",
              "      <td>Kolkata</td>\n",
              "      <td>2012</td>\n",
              "      <td>28000</td>\n",
              "      <td>Diesel</td>\n",
              "      <td>Manual</td>\n",
              "      <td>First</td>\n",
              "      <td>23.08 kmpl</td>\n",
              "      <td>1461 CC</td>\n",
              "      <td>63.1 bhp</td>\n",
              "      <td>5.0</td>\n",
              "      <td>NaN</td>\n",
              "      <td>NaN</td>\n",
              "    </tr>\n",
              "    <tr>\n",
              "      <th>7251</th>\n",
              "      <td>7251</td>\n",
              "      <td>Volkswagen Polo GT TSI</td>\n",
              "      <td>Pune</td>\n",
              "      <td>2013</td>\n",
              "      <td>52262</td>\n",
              "      <td>Petrol</td>\n",
              "      <td>Automatic</td>\n",
              "      <td>Third</td>\n",
              "      <td>17.2 kmpl</td>\n",
              "      <td>1197 CC</td>\n",
              "      <td>103.6 bhp</td>\n",
              "      <td>5.0</td>\n",
              "      <td>NaN</td>\n",
              "      <td>NaN</td>\n",
              "    </tr>\n",
              "    <tr>\n",
              "      <th>7252</th>\n",
              "      <td>7252</td>\n",
              "      <td>Mercedes-Benz E-Class 2009-2013 E 220 CDI Avan...</td>\n",
              "      <td>Kochi</td>\n",
              "      <td>2014</td>\n",
              "      <td>72443</td>\n",
              "      <td>Diesel</td>\n",
              "      <td>Automatic</td>\n",
              "      <td>First</td>\n",
              "      <td>10.0 kmpl</td>\n",
              "      <td>2148 CC</td>\n",
              "      <td>170 bhp</td>\n",
              "      <td>5.0</td>\n",
              "      <td>NaN</td>\n",
              "      <td>NaN</td>\n",
              "    </tr>\n",
              "  </tbody>\n",
              "</table>\n",
              "</div>\n",
              "      <button class=\"colab-df-convert\" onclick=\"convertToInteractive('df-084adf97-a59e-42ff-bedd-836dd10093da')\"\n",
              "              title=\"Convert this dataframe to an interactive table.\"\n",
              "              style=\"display:none;\">\n",
              "        \n",
              "  <svg xmlns=\"http://www.w3.org/2000/svg\" height=\"24px\"viewBox=\"0 0 24 24\"\n",
              "       width=\"24px\">\n",
              "    <path d=\"M0 0h24v24H0V0z\" fill=\"none\"/>\n",
              "    <path d=\"M18.56 5.44l.94 2.06.94-2.06 2.06-.94-2.06-.94-.94-2.06-.94 2.06-2.06.94zm-11 1L8.5 8.5l.94-2.06 2.06-.94-2.06-.94L8.5 2.5l-.94 2.06-2.06.94zm10 10l.94 2.06.94-2.06 2.06-.94-2.06-.94-.94-2.06-.94 2.06-2.06.94z\"/><path d=\"M17.41 7.96l-1.37-1.37c-.4-.4-.92-.59-1.43-.59-.52 0-1.04.2-1.43.59L10.3 9.45l-7.72 7.72c-.78.78-.78 2.05 0 2.83L4 21.41c.39.39.9.59 1.41.59.51 0 1.02-.2 1.41-.59l7.78-7.78 2.81-2.81c.8-.78.8-2.07 0-2.86zM5.41 20L4 18.59l7.72-7.72 1.47 1.35L5.41 20z\"/>\n",
              "  </svg>\n",
              "      </button>\n",
              "      \n",
              "  <style>\n",
              "    .colab-df-container {\n",
              "      display:flex;\n",
              "      flex-wrap:wrap;\n",
              "      gap: 12px;\n",
              "    }\n",
              "\n",
              "    .colab-df-convert {\n",
              "      background-color: #E8F0FE;\n",
              "      border: none;\n",
              "      border-radius: 50%;\n",
              "      cursor: pointer;\n",
              "      display: none;\n",
              "      fill: #1967D2;\n",
              "      height: 32px;\n",
              "      padding: 0 0 0 0;\n",
              "      width: 32px;\n",
              "    }\n",
              "\n",
              "    .colab-df-convert:hover {\n",
              "      background-color: #E2EBFA;\n",
              "      box-shadow: 0px 1px 2px rgba(60, 64, 67, 0.3), 0px 1px 3px 1px rgba(60, 64, 67, 0.15);\n",
              "      fill: #174EA6;\n",
              "    }\n",
              "\n",
              "    [theme=dark] .colab-df-convert {\n",
              "      background-color: #3B4455;\n",
              "      fill: #D2E3FC;\n",
              "    }\n",
              "\n",
              "    [theme=dark] .colab-df-convert:hover {\n",
              "      background-color: #434B5C;\n",
              "      box-shadow: 0px 1px 3px 1px rgba(0, 0, 0, 0.15);\n",
              "      filter: drop-shadow(0px 1px 2px rgba(0, 0, 0, 0.3));\n",
              "      fill: #FFFFFF;\n",
              "    }\n",
              "  </style>\n",
              "\n",
              "      <script>\n",
              "        const buttonEl =\n",
              "          document.querySelector('#df-084adf97-a59e-42ff-bedd-836dd10093da button.colab-df-convert');\n",
              "        buttonEl.style.display =\n",
              "          google.colab.kernel.accessAllowed ? 'block' : 'none';\n",
              "\n",
              "        async function convertToInteractive(key) {\n",
              "          const element = document.querySelector('#df-084adf97-a59e-42ff-bedd-836dd10093da');\n",
              "          const dataTable =\n",
              "            await google.colab.kernel.invokeFunction('convertToInteractive',\n",
              "                                                     [key], {});\n",
              "          if (!dataTable) return;\n",
              "\n",
              "          const docLinkHtml = 'Like what you see? Visit the ' +\n",
              "            '<a target=\"_blank\" href=https://colab.research.google.com/notebooks/data_table.ipynb>data table notebook</a>'\n",
              "            + ' to learn more about interactive tables.';\n",
              "          element.innerHTML = '';\n",
              "          dataTable['output_type'] = 'display_data';\n",
              "          await google.colab.output.renderOutput(dataTable, element);\n",
              "          const docLink = document.createElement('div');\n",
              "          docLink.innerHTML = docLinkHtml;\n",
              "          element.appendChild(docLink);\n",
              "        }\n",
              "      </script>\n",
              "    </div>\n",
              "  </div>\n",
              "  "
            ]
          },
          "metadata": {},
          "execution_count": 5
        }
      ]
    },
    {
      "cell_type": "code",
      "source": [
        "#Getting the shape of the dataset\n",
        "data.shape"
      ],
      "metadata": {
        "colab": {
          "base_uri": "https://localhost:8080/"
        },
        "id": "4NjwUq5cHE7h",
        "outputId": "12652872-a5bd-401b-c09b-44a0b06ca792"
      },
      "execution_count": null,
      "outputs": [
        {
          "output_type": "execute_result",
          "data": {
            "text/plain": [
              "(7253, 14)"
            ]
          },
          "metadata": {},
          "execution_count": 6
        }
      ]
    },
    {
      "cell_type": "markdown",
      "source": [
        "Observation:\n",
        "\n",
        "* The dataset has 7253 rows and 14 columns\n",
        "\n",
        "\n",
        "\n",
        "\n",
        "\n",
        "\n"
      ],
      "metadata": {
        "id": "51J5hcYvsL_V"
      }
    },
    {
      "cell_type": "code",
      "source": [
        "#Printing the columns \n",
        "print(data.columns)"
      ],
      "metadata": {
        "colab": {
          "base_uri": "https://localhost:8080/"
        },
        "id": "SYp6EIV2HEy5",
        "outputId": "82222832-75ff-4562-d846-bbb6749c3790"
      },
      "execution_count": null,
      "outputs": [
        {
          "output_type": "stream",
          "name": "stdout",
          "text": [
            "Index(['S.No.', 'Name', 'Location', 'Year', 'Kilometers_Driven', 'Fuel_Type',\n",
            "       'Transmission', 'Owner_Type', 'Mileage', 'Engine', 'Power', 'Seats',\n",
            "       'New_Price', 'Price'],\n",
            "      dtype='object')\n"
          ]
        }
      ]
    },
    {
      "cell_type": "code",
      "source": [
        "#Printing the data info\n",
        "data.info()"
      ],
      "metadata": {
        "colab": {
          "base_uri": "https://localhost:8080/"
        },
        "id": "XyPOTU5FHr1a",
        "outputId": "903d015d-20c2-40ce-8f74-3503d3ae1983"
      },
      "execution_count": null,
      "outputs": [
        {
          "output_type": "stream",
          "name": "stdout",
          "text": [
            "<class 'pandas.core.frame.DataFrame'>\n",
            "RangeIndex: 7253 entries, 0 to 7252\n",
            "Data columns (total 14 columns):\n",
            " #   Column             Non-Null Count  Dtype  \n",
            "---  ------             --------------  -----  \n",
            " 0   S.No.              7253 non-null   int64  \n",
            " 1   Name               7253 non-null   object \n",
            " 2   Location           7253 non-null   object \n",
            " 3   Year               7253 non-null   int64  \n",
            " 4   Kilometers_Driven  7253 non-null   int64  \n",
            " 5   Fuel_Type          7253 non-null   object \n",
            " 6   Transmission       7253 non-null   object \n",
            " 7   Owner_Type         7253 non-null   object \n",
            " 8   Mileage            7251 non-null   object \n",
            " 9   Engine             7207 non-null   object \n",
            " 10  Power              7207 non-null   object \n",
            " 11  Seats              7200 non-null   float64\n",
            " 12  New_Price          1006 non-null   object \n",
            " 13  Price              6019 non-null   float64\n",
            "dtypes: float64(2), int64(3), object(9)\n",
            "memory usage: 793.4+ KB\n"
          ]
        }
      ]
    },
    {
      "cell_type": "markdown",
      "source": [
        "Observation:\n",
        "\n",
        "* Dependent variable is Price and it is float type. \n",
        "* Name, Location, Fuel_Type, Transmission, Owner_Type, Mileage, Engine, Power and New_Price are of  object type.\n",
        "* S.No., Year, Kilometers_Driven and Seats are numeric type."
      ],
      "metadata": {
        "id": "B4gWatWssycB"
      }
    },
    {
      "cell_type": "code",
      "source": [
        "#Getting the summary of the numerical varaibles\n",
        "data.describe()"
      ],
      "metadata": {
        "colab": {
          "base_uri": "https://localhost:8080/",
          "height": 300
        },
        "id": "YSWhu7BhveQo",
        "outputId": "6c90e320-f7fb-411a-99f5-66aa6c07716a"
      },
      "execution_count": null,
      "outputs": [
        {
          "output_type": "execute_result",
          "data": {
            "text/plain": [
              "             S.No.         Year  Kilometers_Driven        Seats        Price\n",
              "count  7253.000000  7253.000000       7.253000e+03  7200.000000  6019.000000\n",
              "mean   3626.000000  2013.365366       5.869906e+04     5.279722     9.479468\n",
              "std    2093.905084     3.254421       8.442772e+04     0.811660    11.187917\n",
              "min       0.000000  1996.000000       1.710000e+02     0.000000     0.440000\n",
              "25%    1813.000000  2011.000000       3.400000e+04     5.000000     3.500000\n",
              "50%    3626.000000  2014.000000       5.341600e+04     5.000000     5.640000\n",
              "75%    5439.000000  2016.000000       7.300000e+04     5.000000     9.950000\n",
              "max    7252.000000  2019.000000       6.500000e+06    10.000000   160.000000"
            ],
            "text/html": [
              "\n",
              "  <div id=\"df-8e4ced99-5a69-4646-8624-edae632308b0\">\n",
              "    <div class=\"colab-df-container\">\n",
              "      <div>\n",
              "<style scoped>\n",
              "    .dataframe tbody tr th:only-of-type {\n",
              "        vertical-align: middle;\n",
              "    }\n",
              "\n",
              "    .dataframe tbody tr th {\n",
              "        vertical-align: top;\n",
              "    }\n",
              "\n",
              "    .dataframe thead th {\n",
              "        text-align: right;\n",
              "    }\n",
              "</style>\n",
              "<table border=\"1\" class=\"dataframe\">\n",
              "  <thead>\n",
              "    <tr style=\"text-align: right;\">\n",
              "      <th></th>\n",
              "      <th>S.No.</th>\n",
              "      <th>Year</th>\n",
              "      <th>Kilometers_Driven</th>\n",
              "      <th>Seats</th>\n",
              "      <th>Price</th>\n",
              "    </tr>\n",
              "  </thead>\n",
              "  <tbody>\n",
              "    <tr>\n",
              "      <th>count</th>\n",
              "      <td>7253.000000</td>\n",
              "      <td>7253.000000</td>\n",
              "      <td>7.253000e+03</td>\n",
              "      <td>7200.000000</td>\n",
              "      <td>6019.000000</td>\n",
              "    </tr>\n",
              "    <tr>\n",
              "      <th>mean</th>\n",
              "      <td>3626.000000</td>\n",
              "      <td>2013.365366</td>\n",
              "      <td>5.869906e+04</td>\n",
              "      <td>5.279722</td>\n",
              "      <td>9.479468</td>\n",
              "    </tr>\n",
              "    <tr>\n",
              "      <th>std</th>\n",
              "      <td>2093.905084</td>\n",
              "      <td>3.254421</td>\n",
              "      <td>8.442772e+04</td>\n",
              "      <td>0.811660</td>\n",
              "      <td>11.187917</td>\n",
              "    </tr>\n",
              "    <tr>\n",
              "      <th>min</th>\n",
              "      <td>0.000000</td>\n",
              "      <td>1996.000000</td>\n",
              "      <td>1.710000e+02</td>\n",
              "      <td>0.000000</td>\n",
              "      <td>0.440000</td>\n",
              "    </tr>\n",
              "    <tr>\n",
              "      <th>25%</th>\n",
              "      <td>1813.000000</td>\n",
              "      <td>2011.000000</td>\n",
              "      <td>3.400000e+04</td>\n",
              "      <td>5.000000</td>\n",
              "      <td>3.500000</td>\n",
              "    </tr>\n",
              "    <tr>\n",
              "      <th>50%</th>\n",
              "      <td>3626.000000</td>\n",
              "      <td>2014.000000</td>\n",
              "      <td>5.341600e+04</td>\n",
              "      <td>5.000000</td>\n",
              "      <td>5.640000</td>\n",
              "    </tr>\n",
              "    <tr>\n",
              "      <th>75%</th>\n",
              "      <td>5439.000000</td>\n",
              "      <td>2016.000000</td>\n",
              "      <td>7.300000e+04</td>\n",
              "      <td>5.000000</td>\n",
              "      <td>9.950000</td>\n",
              "    </tr>\n",
              "    <tr>\n",
              "      <th>max</th>\n",
              "      <td>7252.000000</td>\n",
              "      <td>2019.000000</td>\n",
              "      <td>6.500000e+06</td>\n",
              "      <td>10.000000</td>\n",
              "      <td>160.000000</td>\n",
              "    </tr>\n",
              "  </tbody>\n",
              "</table>\n",
              "</div>\n",
              "      <button class=\"colab-df-convert\" onclick=\"convertToInteractive('df-8e4ced99-5a69-4646-8624-edae632308b0')\"\n",
              "              title=\"Convert this dataframe to an interactive table.\"\n",
              "              style=\"display:none;\">\n",
              "        \n",
              "  <svg xmlns=\"http://www.w3.org/2000/svg\" height=\"24px\"viewBox=\"0 0 24 24\"\n",
              "       width=\"24px\">\n",
              "    <path d=\"M0 0h24v24H0V0z\" fill=\"none\"/>\n",
              "    <path d=\"M18.56 5.44l.94 2.06.94-2.06 2.06-.94-2.06-.94-.94-2.06-.94 2.06-2.06.94zm-11 1L8.5 8.5l.94-2.06 2.06-.94-2.06-.94L8.5 2.5l-.94 2.06-2.06.94zm10 10l.94 2.06.94-2.06 2.06-.94-2.06-.94-.94-2.06-.94 2.06-2.06.94z\"/><path d=\"M17.41 7.96l-1.37-1.37c-.4-.4-.92-.59-1.43-.59-.52 0-1.04.2-1.43.59L10.3 9.45l-7.72 7.72c-.78.78-.78 2.05 0 2.83L4 21.41c.39.39.9.59 1.41.59.51 0 1.02-.2 1.41-.59l7.78-7.78 2.81-2.81c.8-.78.8-2.07 0-2.86zM5.41 20L4 18.59l7.72-7.72 1.47 1.35L5.41 20z\"/>\n",
              "  </svg>\n",
              "      </button>\n",
              "      \n",
              "  <style>\n",
              "    .colab-df-container {\n",
              "      display:flex;\n",
              "      flex-wrap:wrap;\n",
              "      gap: 12px;\n",
              "    }\n",
              "\n",
              "    .colab-df-convert {\n",
              "      background-color: #E8F0FE;\n",
              "      border: none;\n",
              "      border-radius: 50%;\n",
              "      cursor: pointer;\n",
              "      display: none;\n",
              "      fill: #1967D2;\n",
              "      height: 32px;\n",
              "      padding: 0 0 0 0;\n",
              "      width: 32px;\n",
              "    }\n",
              "\n",
              "    .colab-df-convert:hover {\n",
              "      background-color: #E2EBFA;\n",
              "      box-shadow: 0px 1px 2px rgba(60, 64, 67, 0.3), 0px 1px 3px 1px rgba(60, 64, 67, 0.15);\n",
              "      fill: #174EA6;\n",
              "    }\n",
              "\n",
              "    [theme=dark] .colab-df-convert {\n",
              "      background-color: #3B4455;\n",
              "      fill: #D2E3FC;\n",
              "    }\n",
              "\n",
              "    [theme=dark] .colab-df-convert:hover {\n",
              "      background-color: #434B5C;\n",
              "      box-shadow: 0px 1px 3px 1px rgba(0, 0, 0, 0.15);\n",
              "      filter: drop-shadow(0px 1px 2px rgba(0, 0, 0, 0.3));\n",
              "      fill: #FFFFFF;\n",
              "    }\n",
              "  </style>\n",
              "\n",
              "      <script>\n",
              "        const buttonEl =\n",
              "          document.querySelector('#df-8e4ced99-5a69-4646-8624-edae632308b0 button.colab-df-convert');\n",
              "        buttonEl.style.display =\n",
              "          google.colab.kernel.accessAllowed ? 'block' : 'none';\n",
              "\n",
              "        async function convertToInteractive(key) {\n",
              "          const element = document.querySelector('#df-8e4ced99-5a69-4646-8624-edae632308b0');\n",
              "          const dataTable =\n",
              "            await google.colab.kernel.invokeFunction('convertToInteractive',\n",
              "                                                     [key], {});\n",
              "          if (!dataTable) return;\n",
              "\n",
              "          const docLinkHtml = 'Like what you see? Visit the ' +\n",
              "            '<a target=\"_blank\" href=https://colab.research.google.com/notebooks/data_table.ipynb>data table notebook</a>'\n",
              "            + ' to learn more about interactive tables.';\n",
              "          element.innerHTML = '';\n",
              "          dataTable['output_type'] = 'display_data';\n",
              "          await google.colab.output.renderOutput(dataTable, element);\n",
              "          const docLink = document.createElement('div');\n",
              "          docLink.innerHTML = docLinkHtml;\n",
              "          element.appendChild(docLink);\n",
              "        }\n",
              "      </script>\n",
              "    </div>\n",
              "  </div>\n",
              "  "
            ]
          },
          "metadata": {},
          "execution_count": 9
        }
      ]
    },
    {
      "cell_type": "markdown",
      "source": [
        "Observation:\n",
        "\n",
        "* Price ranges from 0.44 to 160.00.\n",
        "* Vast majority of the cars come with 5 seats.\n",
        "* The average for kilometers driven is around 59 000 kilometers."
      ],
      "metadata": {
        "id": "3VqRSc3mv2nh"
      }
    },
    {
      "cell_type": "code",
      "source": [
        "#Checking the dataset for missing values\n",
        "data.isnull().sum()"
      ],
      "metadata": {
        "colab": {
          "base_uri": "https://localhost:8080/"
        },
        "id": "O3d4jC3YHryW",
        "outputId": "113bd428-d1e0-456b-e9f4-8c04ea31afae"
      },
      "execution_count": null,
      "outputs": [
        {
          "output_type": "execute_result",
          "data": {
            "text/plain": [
              "S.No.                   0\n",
              "Name                    0\n",
              "Location                0\n",
              "Year                    0\n",
              "Kilometers_Driven       0\n",
              "Fuel_Type               0\n",
              "Transmission            0\n",
              "Owner_Type              0\n",
              "Mileage                 2\n",
              "Engine                 46\n",
              "Power                  46\n",
              "Seats                  53\n",
              "New_Price            6247\n",
              "Price                1234\n",
              "dtype: int64"
            ]
          },
          "metadata": {},
          "execution_count": 10
        }
      ]
    },
    {
      "cell_type": "markdown",
      "source": [
        "Observation:\n",
        "\n",
        "* Mileage has 2 missing values\n",
        "* Engine has 46 missing values\n",
        "* Power has 46 missing values\n",
        "* Seats has 53 missing values\n",
        "* New_Price has 6247 missing values\n",
        "* Price has 1234 missing values"
      ],
      "metadata": {
        "id": "ByKNbsncueGt"
      }
    },
    {
      "cell_type": "markdown",
      "metadata": {
        "id": "yjggwHyh6BMV"
      },
      "source": [
        "# Data Pre-processing"
      ]
    },
    {
      "cell_type": "code",
      "source": [
        "#Droping irrelevant columns\n",
        "data.drop([\"Name\",\"S.No.\", \"New_Price\"], axis=1, inplace=True)"
      ],
      "metadata": {
        "id": "Oh2R-95hieV1"
      },
      "execution_count": null,
      "outputs": []
    },
    {
      "cell_type": "code",
      "source": [
        "#Filling the missing values\n",
        "data = data.ffill().dropna()"
      ],
      "metadata": {
        "id": "M8MFJXkTEn09"
      },
      "execution_count": null,
      "outputs": []
    },
    {
      "cell_type": "code",
      "source": [
        "#Checking the dataset agian for missing values\n",
        "data.isnull().sum()"
      ],
      "metadata": {
        "colab": {
          "base_uri": "https://localhost:8080/"
        },
        "id": "Smbowd3VEnx0",
        "outputId": "84399b9f-a9c4-4fd0-a661-20049ca9b95e"
      },
      "execution_count": null,
      "outputs": [
        {
          "output_type": "execute_result",
          "data": {
            "text/plain": [
              "Location             0\n",
              "Year                 0\n",
              "Kilometers_Driven    0\n",
              "Fuel_Type            0\n",
              "Transmission         0\n",
              "Owner_Type           0\n",
              "Mileage              0\n",
              "Engine               0\n",
              "Power                0\n",
              "Seats                0\n",
              "Price                0\n",
              "dtype: int64"
            ]
          },
          "metadata": {},
          "execution_count": 13
        }
      ]
    },
    {
      "cell_type": "code",
      "source": [
        "#Dropping some undefined values from Power variable\n",
        "data.drop(index=data[data['Power'] == 'null bhp'].index, inplace=True)"
      ],
      "metadata": {
        "id": "8BG-pvBbPRAX"
      },
      "execution_count": null,
      "outputs": []
    },
    {
      "cell_type": "code",
      "source": [
        "#Removing everything but numerical values from Mileage, Engine and Power columns\n",
        "data['Mileage'] = data['Mileage'].str.replace(r\"[a-zA-Z-/]\",'')\n",
        "data['Engine'] = data['Engine'].str.replace(r\"[a-zA-Z-/]\",'')\n",
        "data['Power'] = data['Power'].str.replace(r\"[a-zA-Z%-/]\",'')"
      ],
      "metadata": {
        "id": "OoMHvEaEEnlG"
      },
      "execution_count": null,
      "outputs": []
    },
    {
      "cell_type": "code",
      "source": [
        "#Converting Mileage, Engine and Power to numerical data types\n",
        "data['Mileage'] = data['Mileage'].astype(float).round(2)\n",
        "data['Engine'] = data['Engine'].astype(int)\n",
        "data['Power'] = data['Power'].astype(float).round(2)"
      ],
      "metadata": {
        "id": "g0qOvUlS6wg0"
      },
      "execution_count": null,
      "outputs": []
    },
    {
      "cell_type": "code",
      "source": [
        "#Getting the datset info after the conversion\n",
        "data.info()"
      ],
      "metadata": {
        "colab": {
          "base_uri": "https://localhost:8080/"
        },
        "id": "9wcbkCG47ykI",
        "outputId": "67e30f4a-74bd-4c0c-8148-1442b0ea3560"
      },
      "execution_count": null,
      "outputs": [
        {
          "output_type": "stream",
          "name": "stdout",
          "text": [
            "<class 'pandas.core.frame.DataFrame'>\n",
            "Int64Index: 7123 entries, 0 to 7252\n",
            "Data columns (total 11 columns):\n",
            " #   Column             Non-Null Count  Dtype  \n",
            "---  ------             --------------  -----  \n",
            " 0   Location           7123 non-null   object \n",
            " 1   Year               7123 non-null   int64  \n",
            " 2   Kilometers_Driven  7123 non-null   int64  \n",
            " 3   Fuel_Type          7123 non-null   object \n",
            " 4   Transmission       7123 non-null   object \n",
            " 5   Owner_Type         7123 non-null   object \n",
            " 6   Mileage            7123 non-null   float64\n",
            " 7   Engine             7123 non-null   int64  \n",
            " 8   Power              7123 non-null   float64\n",
            " 9   Seats              7123 non-null   float64\n",
            " 10  Price              7123 non-null   float64\n",
            "dtypes: float64(4), int64(3), object(4)\n",
            "memory usage: 667.8+ KB\n"
          ]
        }
      ]
    },
    {
      "cell_type": "markdown",
      "metadata": {
        "id": "4_z1_iB56BMW"
      },
      "source": [
        "# Data Visualization"
      ]
    },
    {
      "cell_type": "markdown",
      "metadata": {
        "id": "K2qtpFMr6BMW"
      },
      "source": [
        "## Univariate Analysis"
      ]
    },
    {
      "cell_type": "code",
      "execution_count": null,
      "metadata": {
        "id": "DQKJmFX96BMW"
      },
      "outputs": [],
      "source": [
        "# This function takes the numerical column as the input and returns the\n",
        "# boxplots and histograms for the variable.\n",
        "\n",
        "\n",
        "def histogram_boxplot(feature, figsize=(15, 10), bins=None):\n",
        "    \"\"\"Boxplot and histogram combined\n",
        "    feature: 1-d feature array\n",
        "    figsize: size of fig (default (9,8))\n",
        "    bins: number of bins (default None / auto)\n",
        "    \"\"\"\n",
        "    f2, (ax_box2, ax_hist2) = plt.subplots(\n",
        "        nrows=2,  # Number of rows of the subplot grid= 2\n",
        "        sharex=True,  # x-axis will be shared among all subplots\n",
        "        gridspec_kw={\"height_ratios\": (0.25, 0.75)},\n",
        "        figsize=figsize,\n",
        "    )  # creating the 2 subplots\n",
        "    sns.boxplot(\n",
        "        feature, ax=ax_box2, showmeans=True, color=\"green\"\n",
        "    )  # boxplot will be created and a star will indicate the mean value of the column\n",
        "    sns.distplot(\n",
        "        feature, kde=F, ax=ax_hist2, bins=bins, palette=\"winter\"\n",
        "    ) if bins else sns.distplot(\n",
        "        feature, kde=False, ax=ax_hist2\n",
        "    )  # For histogram\n",
        "    ax_hist2.axvline(\n",
        "        feature.mean(), color=\"red\", linestyle=\"--\"\n",
        "    )  # Add mean to the histogram\n",
        "    ax_hist2.axvline(\n",
        "        feature.median(), color=\"black\", linestyle=\"-\"\n",
        "    )  # Add median to the histogram"
      ]
    },
    {
      "cell_type": "markdown",
      "source": [
        "Price (the target variable)"
      ],
      "metadata": {
        "id": "ZVlZ1poR0Dtp"
      }
    },
    {
      "cell_type": "code",
      "source": [
        "histogram_boxplot(data[\"Price\"])"
      ],
      "metadata": {
        "colab": {
          "base_uri": "https://localhost:8080/",
          "height": 611
        },
        "id": "UGULBAEBokFr",
        "outputId": "cdbaf887-4953-4ce7-d5b9-084b81d458b9"
      },
      "execution_count": null,
      "outputs": [
        {
          "output_type": "display_data",
          "data": {
            "text/plain": [
              "<Figure size 1080x720 with 2 Axes>"
            ],
            "image/png": "[encoded data removed]"
          },
          "metadata": {}
        }
      ]
    },
    {
      "cell_type": "markdown",
      "source": [
        "Observation: \n",
        "\n",
        "*  The distribution is right-skewed with majority of values between 0 to 5000."
      ],
      "metadata": {
        "id": "R8F0tV4n0Jm-"
      }
    },
    {
      "cell_type": "markdown",
      "source": [
        "Year"
      ],
      "metadata": {
        "id": "6lJFXl2M0KQU"
      }
    },
    {
      "cell_type": "code",
      "source": [
        "histogram_boxplot(data[\"Year\"])"
      ],
      "metadata": {
        "colab": {
          "base_uri": "https://localhost:8080/",
          "height": 611
        },
        "id": "U8Fdg-DvokB8",
        "outputId": "f114c011-0978-4eaf-b4f4-f5e6b5917d3c"
      },
      "execution_count": null,
      "outputs": [
        {
          "output_type": "display_data",
          "data": {
            "text/plain": [
              "<Figure size 1080x720 with 2 Axes>"
            ],
            "image/png": "[encoded data removed]"
          },
          "metadata": {}
        }
      ]
    },
    {
      "cell_type": "markdown",
      "source": [
        "Observation:\n",
        "\n",
        "*  The sistribution is left-skewed with most cars made at 2015."
      ],
      "metadata": {
        "id": "6AGpiCE30S_J"
      }
    },
    {
      "cell_type": "markdown",
      "source": [
        "Kilometers Driven"
      ],
      "metadata": {
        "id": "Fp30L61e0S1Y"
      }
    },
    {
      "cell_type": "code",
      "source": [
        "histogram_boxplot(data[\"Kilometers_Driven\"])"
      ],
      "metadata": {
        "colab": {
          "base_uri": "https://localhost:8080/",
          "height": 611
        },
        "id": "aBHSos5doj_s",
        "outputId": "ebcf4dd8-05a8-48e3-f123-c0f86e77b572"
      },
      "execution_count": null,
      "outputs": [
        {
          "output_type": "display_data",
          "data": {
            "text/plain": [
              "<Figure size 1080x720 with 2 Axes>"
            ],
            "image/png": "[encoded data removed]"
          },
          "metadata": {}
        }
      ]
    },
    {
      "cell_type": "markdown",
      "source": [
        "Observation:\n",
        "\n",
        "*  The distribution is heavily right-skewed."
      ],
      "metadata": {
        "id": "0xbE1Qqt0Yb2"
      }
    },
    {
      "cell_type": "markdown",
      "source": [
        "Seats"
      ],
      "metadata": {
        "id": "fYaXeOpk0YYz"
      }
    },
    {
      "cell_type": "code",
      "source": [
        "histogram_boxplot(data[\"Seats\"])"
      ],
      "metadata": {
        "colab": {
          "base_uri": "https://localhost:8080/",
          "height": 611
        },
        "id": "RJc8U4e2oj9F",
        "outputId": "2f9c0b4d-9f93-4caf-c224-e120a388107a"
      },
      "execution_count": null,
      "outputs": [
        {
          "output_type": "display_data",
          "data": {
            "text/plain": [
              "<Figure size 1080x720 with 2 Axes>"
            ],
            "image/png": "[encoded data removed]"
          },
          "metadata": {}
        }
      ]
    },
    {
      "cell_type": "markdown",
      "source": [
        "Observation:\n",
        "\n",
        "*  The distribution shows that most cars are with 5 seats."
      ],
      "metadata": {
        "id": "Lkz3YgQL0bde"
      }
    },
    {
      "cell_type": "markdown",
      "source": [
        "Mileage"
      ],
      "metadata": {
        "id": "egMDOQ3y0ba0"
      }
    },
    {
      "cell_type": "code",
      "source": [
        "histogram_boxplot(data[\"Mileage\"])"
      ],
      "metadata": {
        "colab": {
          "base_uri": "https://localhost:8080/",
          "height": 611
        },
        "id": "TAkZUnHC9ts2",
        "outputId": "873980f2-fed3-4fab-be01-dc9bcdaa9deb"
      },
      "execution_count": null,
      "outputs": [
        {
          "output_type": "display_data",
          "data": {
            "text/plain": [
              "<Figure size 1080x720 with 2 Axes>"
            ],
            "image/png": "[encoded data removed]"
          },
          "metadata": {}
        }
      ]
    },
    {
      "cell_type": "markdown",
      "source": [
        "Observation:\n",
        "\n",
        "*  The mileage is relatively normally distributed."
      ],
      "metadata": {
        "id": "eW7D1-w-0ejW"
      }
    },
    {
      "cell_type": "markdown",
      "source": [
        "Engine"
      ],
      "metadata": {
        "id": "HTWLdpyI0egj"
      }
    },
    {
      "cell_type": "code",
      "source": [
        "histogram_boxplot(data[\"Engine\"])"
      ],
      "metadata": {
        "colab": {
          "base_uri": "https://localhost:8080/",
          "height": 611
        },
        "id": "1yN0MQfR9tqS",
        "outputId": "c13d4603-7d9e-426a-a633-2dbca680d11d"
      },
      "execution_count": null,
      "outputs": [
        {
          "output_type": "display_data",
          "data": {
            "text/plain": [
              "<Figure size 1080x720 with 2 Axes>"
            ],
            "image/png": "[encoded data removed]"
          },
          "metadata": {}
        }
      ]
    },
    {
      "cell_type": "markdown",
      "source": [
        "Observation:\n",
        "\n",
        "* The distribution is right-skewed. "
      ],
      "metadata": {
        "id": "lLNmmrWX0hnE"
      }
    },
    {
      "cell_type": "markdown",
      "source": [
        "Power"
      ],
      "metadata": {
        "id": "SZor6FTH0hkC"
      }
    },
    {
      "cell_type": "code",
      "source": [
        "histogram_boxplot(data[\"Power\"])"
      ],
      "metadata": {
        "colab": {
          "base_uri": "https://localhost:8080/",
          "height": 611
        },
        "id": "_7SFazd49tnJ",
        "outputId": "d14cf21f-340d-4a6f-edbc-113a410b1852"
      },
      "execution_count": null,
      "outputs": [
        {
          "output_type": "display_data",
          "data": {
            "text/plain": [
              "<Figure size 1080x720 with 2 Axes>"
            ],
            "image/png": "[encoded data removed]"
          },
          "metadata": {}
        }
      ]
    },
    {
      "cell_type": "markdown",
      "source": [
        "Observation:\n",
        "\n",
        "*  The distribution is heavily right-skewed. "
      ],
      "metadata": {
        "id": "iGe0Law54Hwp"
      }
    },
    {
      "cell_type": "markdown",
      "source": [
        "Categorical Variables"
      ],
      "metadata": {
        "id": "JDTBA10puAs5"
      }
    },
    {
      "cell_type": "code",
      "source": [
        "# Function to create barplots that indicate percentage for each category.\n",
        "\n",
        "def perc_on_bar(data, z):\n",
        "    \"\"\"\n",
        "    plot\n",
        "    feature: categorical feature\n",
        "    the function won't work if a column is passed in hue parameter\n",
        "    \"\"\"\n",
        "\n",
        "    total = len(data[z])  # length of the column\n",
        "    plt.figure(figsize=(15, 5))\n",
        "    plt.xticks(rotation=45)\n",
        "    ax = sns.countplot(data[z], palette=\"Paired\")\n",
        "    for p in ax.patches:\n",
        "        percentage = \"{:.1f}%\".format(\n",
        "            100 * p.get_height() / total\n",
        "        )  # percentage of each class of the category\n",
        "        x = p.get_x() + p.get_width() / 2 - 0.05  # width of the plot\n",
        "        y = p.get_y() + p.get_height()  # hieght of the plot\n",
        "\n",
        "        ax.annotate(percentage, (x, y), size=10)  # annotate the percantage\n",
        "    plt.show()  # show the plot"
      ],
      "metadata": {
        "id": "gpN3B0DQoj6L"
      },
      "execution_count": null,
      "outputs": []
    },
    {
      "cell_type": "markdown",
      "source": [
        "Fuel Type"
      ],
      "metadata": {
        "id": "dw6sMVjc4Su2"
      }
    },
    {
      "cell_type": "code",
      "source": [
        "perc_on_bar(data, \"Fuel_Type\")"
      ],
      "metadata": {
        "colab": {
          "base_uri": "https://localhost:8080/",
          "height": 366
        },
        "id": "NMCQ8ZQzoj3k",
        "outputId": "8973ec87-566d-44fc-9e69-a98544e836f3"
      },
      "execution_count": null,
      "outputs": [
        {
          "output_type": "display_data",
          "data": {
            "text/plain": [
              "<Figure size 1080x360 with 1 Axes>"
            ],
            "image/png": "[encoded data removed]"
          },
          "metadata": {}
        }
      ]
    },
    {
      "cell_type": "markdown",
      "source": [
        "Observation:\n",
        "\n",
        "* The distribution of fuel type shows that most cars in the data set are using disel followed by those that run on petrol."
      ],
      "metadata": {
        "id": "pfAmhit84WMp"
      }
    },
    {
      "cell_type": "markdown",
      "source": [
        "Transmission"
      ],
      "metadata": {
        "id": "hhwjOHoC4o4z"
      }
    },
    {
      "cell_type": "code",
      "source": [
        "perc_on_bar(data, \"Transmission\")"
      ],
      "metadata": {
        "colab": {
          "base_uri": "https://localhost:8080/",
          "height": 376
        },
        "id": "gnILdHdXoj08",
        "outputId": "74c86ef2-269d-474e-e93b-614609d883c2"
      },
      "execution_count": null,
      "outputs": [
        {
          "output_type": "display_data",
          "data": {
            "text/plain": [
              "<Figure size 1080x360 with 1 Axes>"
            ],
            "image/png": "[encoded data removed]"
          },
          "metadata": {}
        }
      ]
    },
    {
      "cell_type": "markdown",
      "source": [
        "Observation:\n",
        "\n",
        "*  The distribution indicates that most cars are with manual transmission. "
      ],
      "metadata": {
        "id": "l8yubbA84sI7"
      }
    },
    {
      "cell_type": "markdown",
      "source": [
        "Onwer Type"
      ],
      "metadata": {
        "id": "tnZ1VpR95DHs"
      }
    },
    {
      "cell_type": "code",
      "source": [
        "perc_on_bar(data, \"Owner_Type\")"
      ],
      "metadata": {
        "colab": {
          "base_uri": "https://localhost:8080/",
          "height": 397
        },
        "id": "oErB2AY6ojx1",
        "outputId": "79aa49f9-a2fb-4699-f8cb-f892ac37e8ba"
      },
      "execution_count": null,
      "outputs": [
        {
          "output_type": "display_data",
          "data": {
            "text/plain": [
              "<Figure size 1080x360 with 1 Axes>"
            ],
            "image/png": "[encoded data removed]"
          },
          "metadata": {}
        }
      ]
    },
    {
      "cell_type": "markdown",
      "source": [
        "Observation:\n",
        "\n",
        "*  The distribution shows that most cars in the data set had only single owner."
      ],
      "metadata": {
        "id": "vFS327-v5GsP"
      }
    },
    {
      "cell_type": "markdown",
      "source": [
        "Location"
      ],
      "metadata": {
        "id": "_tebeYqs5T1j"
      }
    },
    {
      "cell_type": "code",
      "source": [
        "perc_on_bar(data, \"Location\")"
      ],
      "metadata": {
        "colab": {
          "base_uri": "https://localhost:8080/",
          "height": 383
        },
        "id": "SwyDHZapcep4",
        "outputId": "66cfc5b3-5e18-47ac-edd4-604dd149c4f8"
      },
      "execution_count": null,
      "outputs": [
        {
          "output_type": "display_data",
          "data": {
            "text/plain": [
              "<Figure size 1080x360 with 1 Axes>"
            ],
            "image/png": "[encoded data removed]"
          },
          "metadata": {}
        }
      ]
    },
    {
      "cell_type": "markdown",
      "source": [
        "Observation:\n",
        "\n",
        "*  The distribution of Location shows that most cars are available in Mumbai follwoed by Hyderabad and Kochi. "
      ],
      "metadata": {
        "id": "jGTy4AcN5WDZ"
      }
    },
    {
      "cell_type": "markdown",
      "metadata": {
        "id": "gAVwNj-T6BMW"
      },
      "source": [
        "## Bivariate analysis"
      ]
    },
    {
      "cell_type": "code",
      "source": [
        "# creating a list of non-tag columns\n",
        "corr_cols = [item for item in data.columns if \"tag\" not in item]\n",
        "print(corr_cols)"
      ],
      "metadata": {
        "colab": {
          "base_uri": "https://localhost:8080/"
        },
        "id": "KjRA0rzheVTO",
        "outputId": "2c165534-98f4-46c7-8fbe-8bc8ae67edce"
      },
      "execution_count": null,
      "outputs": [
        {
          "output_type": "stream",
          "name": "stdout",
          "text": [
            "['Location', 'Year', 'Kilometers_Driven', 'Fuel_Type', 'Transmission', 'Owner_Type', 'Mileage', 'Engine', 'Power', 'Seats', 'Price']\n"
          ]
        }
      ]
    },
    {
      "cell_type": "code",
      "source": [
        "plt.figure(figsize=(12, 7))\n",
        "sns.heatmap(\n",
        "    data[corr_cols].corr(), annot=True, vmin=-1, vmax=1, fmt=\".2f\", cmap=\"Spectral\"\n",
        ")\n",
        "plt.show()"
      ],
      "metadata": {
        "colab": {
          "base_uri": "https://localhost:8080/",
          "height": 436
        },
        "id": "eV29nRQbeeBJ",
        "outputId": "107c0fb3-36cc-403d-abaf-33457db94524"
      },
      "execution_count": null,
      "outputs": [
        {
          "output_type": "display_data",
          "data": {
            "text/plain": [
              "<Figure size 864x504 with 2 Axes>"
            ],
            "image/png": "[encoded data removed]"
          },
          "metadata": {}
        }
      ]
    },
    {
      "cell_type": "markdown",
      "source": [
        "Observation:\n",
        "\n",
        "*  The two variables with highest correlation are Price and Engine.\n",
        "*  The next highest correlation is between Engine and Seats.\n",
        "* The two variables with weakest correlation are Mileage and Engine. "
      ],
      "metadata": {
        "id": "9RjU8LD450uC"
      }
    },
    {
      "cell_type": "markdown",
      "source": [
        "Examining the Price variable (target) with some of the categorical columns"
      ],
      "metadata": {
        "id": "52kWjxNReK6y"
      }
    },
    {
      "cell_type": "markdown",
      "source": [
        "Fuel_Type vs Price"
      ],
      "metadata": {
        "id": "qhuj6x3peTl7"
      }
    },
    {
      "cell_type": "code",
      "source": [
        "plt.figure(figsize=(10, 5))\n",
        "sns.boxplot(x=\"Fuel_Type\", y=\"Price\", data=data)"
      ],
      "metadata": {
        "colab": {
          "base_uri": "https://localhost:8080/",
          "height": 357
        },
        "id": "gWLnlEqBeTBd",
        "outputId": "33df0397-57a8-486d-cbd4-265d32f9ad0a"
      },
      "execution_count": null,
      "outputs": [
        {
          "output_type": "execute_result",
          "data": {
            "text/plain": [
              "<matplotlib.axes._subplots.AxesSubplot at 0x7fbf0b6f7250>"
            ]
          },
          "metadata": {},
          "execution_count": 33
        },
        {
          "output_type": "display_data",
          "data": {
            "text/plain": [
              "<Figure size 720x360 with 1 Axes>"
            ],
            "image/png": "[encoded data removed]"
          },
          "metadata": {}
        }
      ]
    },
    {
      "cell_type": "markdown",
      "source": [
        "Observation:\n",
        "\n",
        "*  Electric cars have highest price."
      ],
      "metadata": {
        "id": "8Y12LNRm6se7"
      }
    },
    {
      "cell_type": "markdown",
      "source": [
        "Transmission vs Price"
      ],
      "metadata": {
        "id": "tA-18w0afDI2"
      }
    },
    {
      "cell_type": "code",
      "source": [
        "plt.figure(figsize=(10, 5))\n",
        "sns.boxplot(x=\"Transmission\", y=\"Price\", data=data)"
      ],
      "metadata": {
        "colab": {
          "base_uri": "https://localhost:8080/",
          "height": 357
        },
        "id": "TxbJsrGFfLj4",
        "outputId": "b01efab7-7a0e-4940-b2e4-39b7fe5d44dc"
      },
      "execution_count": null,
      "outputs": [
        {
          "output_type": "execute_result",
          "data": {
            "text/plain": [
              "<matplotlib.axes._subplots.AxesSubplot at 0x7fbf0ba12810>"
            ]
          },
          "metadata": {},
          "execution_count": 34
        },
        {
          "output_type": "display_data",
          "data": {
            "text/plain": [
              "<Figure size 720x360 with 1 Axes>"
            ],
            "image/png": "[encoded data removed]"
          },
          "metadata": {}
        }
      ]
    },
    {
      "cell_type": "markdown",
      "source": [
        "Observation:\n",
        "\n",
        "* Cars with manual transmission have lower price than those with automatic."
      ],
      "metadata": {
        "id": "T-a5p4Ie7U2S"
      }
    },
    {
      "cell_type": "markdown",
      "source": [
        "Owner_Type vs Price"
      ],
      "metadata": {
        "id": "FdfLWvoRfXOg"
      }
    },
    {
      "cell_type": "code",
      "source": [
        "plt.figure(figsize=(10, 5))\n",
        "sns.boxplot(x=\"Owner_Type\", y=\"Price\", data=data)"
      ],
      "metadata": {
        "colab": {
          "base_uri": "https://localhost:8080/",
          "height": 357
        },
        "id": "a6TsaVpxffr9",
        "outputId": "30709e98-8f4e-455f-9d2f-52da3a5c2ba0"
      },
      "execution_count": null,
      "outputs": [
        {
          "output_type": "execute_result",
          "data": {
            "text/plain": [
              "<matplotlib.axes._subplots.AxesSubplot at 0x7fbf0bba8410>"
            ]
          },
          "metadata": {},
          "execution_count": 35
        },
        {
          "output_type": "display_data",
          "data": {
            "text/plain": [
              "<Figure size 720x360 with 1 Axes>"
            ],
            "image/png": "[encoded data removed]"
          },
          "metadata": {}
        }
      ]
    },
    {
      "cell_type": "markdown",
      "source": [
        "Observation:\n",
        "\n",
        "* As cars have more owners, the price appears to be lower."
      ],
      "metadata": {
        "id": "6Rs30DPX7YzV"
      }
    },
    {
      "cell_type": "markdown",
      "source": [
        "Location vs Price"
      ],
      "metadata": {
        "id": "rxV79uKifqm4"
      }
    },
    {
      "cell_type": "code",
      "source": [
        "plt.figure(figsize=(15, 5))\n",
        "sns.boxplot(x=\"Location\", y=\"Price\", data=data)"
      ],
      "metadata": {
        "colab": {
          "base_uri": "https://localhost:8080/",
          "height": 357
        },
        "id": "povJ7ErRfxkk",
        "outputId": "dec9b934-d684-4382-d09e-b4adc3dfbc6a"
      },
      "execution_count": null,
      "outputs": [
        {
          "output_type": "execute_result",
          "data": {
            "text/plain": [
              "<matplotlib.axes._subplots.AxesSubplot at 0x7fbf0f452390>"
            ]
          },
          "metadata": {},
          "execution_count": 36
        },
        {
          "output_type": "display_data",
          "data": {
            "text/plain": [
              "<Figure size 1080x360 with 1 Axes>"
            ],
            "image/png": "[encoded data removed]"
          },
          "metadata": {}
        }
      ]
    },
    {
      "cell_type": "markdown",
      "source": [
        "Observation:\n",
        "\n",
        "* Cars in Bangalore and Coimbatore have higher price than in other cities. "
      ],
      "metadata": {
        "id": "LZ6s5FLB7tOy"
      }
    },
    {
      "cell_type": "markdown",
      "metadata": {
        "id": "nBKMrcaU6BMX"
      },
      "source": [
        "# Log Transformations"
      ]
    },
    {
      "cell_type": "markdown",
      "metadata": {
        "id": "5lL52OFU6BMX"
      },
      "source": [
        "### Checking numeric columns for skewness\n",
        "- Some columns are very skewed and will likely behave better on the log scale"
      ]
    },
    {
      "cell_type": "markdown",
      "metadata": {
        "id": "64fXBDDB6BMX"
      },
      "source": [
        "### Skewness before log transformations"
      ]
    },
    {
      "cell_type": "code",
      "execution_count": null,
      "metadata": {
        "id": "DaLiD1zJ6BMX",
        "outputId": "8394a046-6c49-401c-ba44-6143b16044ef",
        "colab": {
          "base_uri": "https://localhost:8080/",
          "height": 820
        }
      },
      "outputs": [
        {
          "output_type": "display_data",
          "data": {
            "text/plain": [
              "<Figure size 1080x3240 with 7 Axes>"
            ],
            "image/png": "[encoded data removed]"
          },
          "metadata": {}
        }
      ],
      "source": [
        "# creating a list of numeric columns\n",
        "num_cols = [item for item in data.select_dtypes(include=np.number).columns]\n",
        "\n",
        "\n",
        "# now, let's plot a histogram of all numeric columns\n",
        "plt.figure(figsize=(15, 45))\n",
        "\n",
        "for i in range(len(num_cols)):\n",
        "    plt.subplot(12, 3, i + 1)\n",
        "    plt.hist(data[num_cols[i]], bins=50)\n",
        "    # sns.histplot(data=df3, x=dist_cols[i], kde=True)\n",
        "    plt.tight_layout()\n",
        "    plt.title(num_cols[i], fontsize=25)\n",
        "\n",
        "plt.show()"
      ]
    },
    {
      "cell_type": "markdown",
      "metadata": {
        "id": "W11rp4_96BMX"
      },
      "source": [
        "- As seen, most of the columns have a very skewed distribution\n",
        "- Since Mileage and Seats have normal distributions, and Price being the target variable, we can apply the log transformation to the rest columns to deal with skewness in the data"
      ]
    },
    {
      "cell_type": "code",
      "execution_count": null,
      "metadata": {
        "id": "Zgurz10r6BMY"
      },
      "outputs": [],
      "source": [
        "# creating a list of skewed columns\n",
        "num_cols.remove(\"Mileage\")\n",
        "num_cols.remove(\"Price\")\n",
        "num_cols.remove(\"Seats\")"
      ]
    },
    {
      "cell_type": "code",
      "execution_count": null,
      "metadata": {
        "id": "_QlFQZ3B6BMY",
        "outputId": "f7101aef-aea5-420a-c2e1-b1fa2f6cfa20",
        "colab": {
          "base_uri": "https://localhost:8080/"
        }
      },
      "outputs": [
        {
          "output_type": "execute_result",
          "data": {
            "text/plain": [
              "['Year', 'Kilometers_Driven', 'Engine', 'Power']"
            ]
          },
          "metadata": {},
          "execution_count": 55
        }
      ],
      "source": [
        "num_cols"
      ]
    },
    {
      "cell_type": "code",
      "execution_count": null,
      "metadata": {
        "id": "8i_uq92J6BMY",
        "outputId": "6e493174-ff9b-477f-ec0a-834f2272aee4",
        "colab": {
          "base_uri": "https://localhost:8080/",
          "height": 206
        }
      },
      "outputs": [
        {
          "output_type": "execute_result",
          "data": {
            "text/plain": [
              "     Location Fuel_Type Transmission Owner_Type  Mileage  Seats  Price  \\\n",
              "0      Mumbai       CNG       Manual      First    26.60    5.0   1.75   \n",
              "1        Pune    Diesel       Manual      First    19.67    5.0  12.50   \n",
              "2     Chennai    Petrol       Manual      First    18.20    5.0   4.50   \n",
              "3     Chennai    Diesel       Manual      First    20.77    7.0   6.00   \n",
              "4  Coimbatore    Diesel    Automatic     Second    15.20    5.0  17.74   \n",
              "\n",
              "   Year_log  Kilometers_Driven_log  Engine_log  Power_log  \n",
              "0  7.606387              11.184435    6.906755   8.668540  \n",
              "1  7.608871              10.621352    7.367077   7.141245  \n",
              "2  7.606885              10.736418    7.090077   6.788972  \n",
              "3  7.607381              11.373675    7.130099   9.091219  \n",
              "4  7.607878              10.613271    7.585281   7.250636  "
            ],
            "text/html": [
              "\n",
              "  <div id=\"df-b709455c-cb12-4fc6-bab2-83ce24aedaac\">\n",
              "    <div class=\"colab-df-container\">\n",
              "      <div>\n",
              "<style scoped>\n",
              "    .dataframe tbody tr th:only-of-type {\n",
              "        vertical-align: middle;\n",
              "    }\n",
              "\n",
              "    .dataframe tbody tr th {\n",
              "        vertical-align: top;\n",
              "    }\n",
              "\n",
              "    .dataframe thead th {\n",
              "        text-align: right;\n",
              "    }\n",
              "</style>\n",
              "<table border=\"1\" class=\"dataframe\">\n",
              "  <thead>\n",
              "    <tr style=\"text-align: right;\">\n",
              "      <th></th>\n",
              "      <th>Location</th>\n",
              "      <th>Fuel_Type</th>\n",
              "      <th>Transmission</th>\n",
              "      <th>Owner_Type</th>\n",
              "      <th>Mileage</th>\n",
              "      <th>Seats</th>\n",
              "      <th>Price</th>\n",
              "      <th>Year_log</th>\n",
              "      <th>Kilometers_Driven_log</th>\n",
              "      <th>Engine_log</th>\n",
              "      <th>Power_log</th>\n",
              "    </tr>\n",
              "  </thead>\n",
              "  <tbody>\n",
              "    <tr>\n",
              "      <th>0</th>\n",
              "      <td>Mumbai</td>\n",
              "      <td>CNG</td>\n",
              "      <td>Manual</td>\n",
              "      <td>First</td>\n",
              "      <td>26.60</td>\n",
              "      <td>5.0</td>\n",
              "      <td>1.75</td>\n",
              "      <td>7.606387</td>\n",
              "      <td>11.184435</td>\n",
              "      <td>6.906755</td>\n",
              "      <td>8.668540</td>\n",
              "    </tr>\n",
              "    <tr>\n",
              "      <th>1</th>\n",
              "      <td>Pune</td>\n",
              "      <td>Diesel</td>\n",
              "      <td>Manual</td>\n",
              "      <td>First</td>\n",
              "      <td>19.67</td>\n",
              "      <td>5.0</td>\n",
              "      <td>12.50</td>\n",
              "      <td>7.608871</td>\n",
              "      <td>10.621352</td>\n",
              "      <td>7.367077</td>\n",
              "      <td>7.141245</td>\n",
              "    </tr>\n",
              "    <tr>\n",
              "      <th>2</th>\n",
              "      <td>Chennai</td>\n",
              "      <td>Petrol</td>\n",
              "      <td>Manual</td>\n",
              "      <td>First</td>\n",
              "      <td>18.20</td>\n",
              "      <td>5.0</td>\n",
              "      <td>4.50</td>\n",
              "      <td>7.606885</td>\n",
              "      <td>10.736418</td>\n",
              "      <td>7.090077</td>\n",
              "      <td>6.788972</td>\n",
              "    </tr>\n",
              "    <tr>\n",
              "      <th>3</th>\n",
              "      <td>Chennai</td>\n",
              "      <td>Diesel</td>\n",
              "      <td>Manual</td>\n",
              "      <td>First</td>\n",
              "      <td>20.77</td>\n",
              "      <td>7.0</td>\n",
              "      <td>6.00</td>\n",
              "      <td>7.607381</td>\n",
              "      <td>11.373675</td>\n",
              "      <td>7.130099</td>\n",
              "      <td>9.091219</td>\n",
              "    </tr>\n",
              "    <tr>\n",
              "      <th>4</th>\n",
              "      <td>Coimbatore</td>\n",
              "      <td>Diesel</td>\n",
              "      <td>Automatic</td>\n",
              "      <td>Second</td>\n",
              "      <td>15.20</td>\n",
              "      <td>5.0</td>\n",
              "      <td>17.74</td>\n",
              "      <td>7.607878</td>\n",
              "      <td>10.613271</td>\n",
              "      <td>7.585281</td>\n",
              "      <td>7.250636</td>\n",
              "    </tr>\n",
              "  </tbody>\n",
              "</table>\n",
              "</div>\n",
              "      <button class=\"colab-df-convert\" onclick=\"convertToInteractive('df-b709455c-cb12-4fc6-bab2-83ce24aedaac')\"\n",
              "              title=\"Convert this dataframe to an interactive table.\"\n",
              "              style=\"display:none;\">\n",
              "        \n",
              "  <svg xmlns=\"http://www.w3.org/2000/svg\" height=\"24px\"viewBox=\"0 0 24 24\"\n",
              "       width=\"24px\">\n",
              "    <path d=\"M0 0h24v24H0V0z\" fill=\"none\"/>\n",
              "    <path d=\"M18.56 5.44l.94 2.06.94-2.06 2.06-.94-2.06-.94-.94-2.06-.94 2.06-2.06.94zm-11 1L8.5 8.5l.94-2.06 2.06-.94-2.06-.94L8.5 2.5l-.94 2.06-2.06.94zm10 10l.94 2.06.94-2.06 2.06-.94-2.06-.94-.94-2.06-.94 2.06-2.06.94z\"/><path d=\"M17.41 7.96l-1.37-1.37c-.4-.4-.92-.59-1.43-.59-.52 0-1.04.2-1.43.59L10.3 9.45l-7.72 7.72c-.78.78-.78 2.05 0 2.83L4 21.41c.39.39.9.59 1.41.59.51 0 1.02-.2 1.41-.59l7.78-7.78 2.81-2.81c.8-.78.8-2.07 0-2.86zM5.41 20L4 18.59l7.72-7.72 1.47 1.35L5.41 20z\"/>\n",
              "  </svg>\n",
              "      </button>\n",
              "      \n",
              "  <style>\n",
              "    .colab-df-container {\n",
              "      display:flex;\n",
              "      flex-wrap:wrap;\n",
              "      gap: 12px;\n",
              "    }\n",
              "\n",
              "    .colab-df-convert {\n",
              "      background-color: #E8F0FE;\n",
              "      border: none;\n",
              "      border-radius: 50%;\n",
              "      cursor: pointer;\n",
              "      display: none;\n",
              "      fill: #1967D2;\n",
              "      height: 32px;\n",
              "      padding: 0 0 0 0;\n",
              "      width: 32px;\n",
              "    }\n",
              "\n",
              "    .colab-df-convert:hover {\n",
              "      background-color: #E2EBFA;\n",
              "      box-shadow: 0px 1px 2px rgba(60, 64, 67, 0.3), 0px 1px 3px 1px rgba(60, 64, 67, 0.15);\n",
              "      fill: #174EA6;\n",
              "    }\n",
              "\n",
              "    [theme=dark] .colab-df-convert {\n",
              "      background-color: #3B4455;\n",
              "      fill: #D2E3FC;\n",
              "    }\n",
              "\n",
              "    [theme=dark] .colab-df-convert:hover {\n",
              "      background-color: #434B5C;\n",
              "      box-shadow: 0px 1px 3px 1px rgba(0, 0, 0, 0.15);\n",
              "      filter: drop-shadow(0px 1px 2px rgba(0, 0, 0, 0.3));\n",
              "      fill: #FFFFFF;\n",
              "    }\n",
              "  </style>\n",
              "\n",
              "      <script>\n",
              "        const buttonEl =\n",
              "          document.querySelector('#df-b709455c-cb12-4fc6-bab2-83ce24aedaac button.colab-df-convert');\n",
              "        buttonEl.style.display =\n",
              "          google.colab.kernel.accessAllowed ? 'block' : 'none';\n",
              "\n",
              "        async function convertToInteractive(key) {\n",
              "          const element = document.querySelector('#df-b709455c-cb12-4fc6-bab2-83ce24aedaac');\n",
              "          const dataTable =\n",
              "            await google.colab.kernel.invokeFunction('convertToInteractive',\n",
              "                                                     [key], {});\n",
              "          if (!dataTable) return;\n",
              "\n",
              "          const docLinkHtml = 'Like what you see? Visit the ' +\n",
              "            '<a target=\"_blank\" href=https://colab.research.google.com/notebooks/data_table.ipynb>data table notebook</a>'\n",
              "            + ' to learn more about interactive tables.';\n",
              "          element.innerHTML = '';\n",
              "          dataTable['output_type'] = 'display_data';\n",
              "          await google.colab.output.renderOutput(dataTable, element);\n",
              "          const docLink = document.createElement('div');\n",
              "          docLink.innerHTML = docLinkHtml;\n",
              "          element.appendChild(docLink);\n",
              "        }\n",
              "      </script>\n",
              "    </div>\n",
              "  </div>\n",
              "  "
            ]
          },
          "metadata": {},
          "execution_count": 56
        }
      ],
      "source": [
        "# applying log transforms on num_cols columns\n",
        "\n",
        "for col in num_cols:\n",
        "    data[col + \"_log\"] = np.log(data[col] + 1)\n",
        "\n",
        "# dropping the original columns\n",
        "data.drop(num_cols, axis=1, inplace=True)\n",
        "data.head()"
      ]
    },
    {
      "cell_type": "code",
      "execution_count": null,
      "metadata": {
        "id": "02ncyBzc6BMY",
        "outputId": "0e60a01f-5b1f-4c0b-d5c4-7233cf3afcd8",
        "colab": {
          "base_uri": "https://localhost:8080/"
        }
      },
      "outputs": [
        {
          "output_type": "execute_result",
          "data": {
            "text/plain": [
              "(7123, 11)"
            ]
          },
          "metadata": {},
          "execution_count": 39
        }
      ],
      "source": [
        "data.shape"
      ]
    },
    {
      "cell_type": "markdown",
      "metadata": {
        "id": "LEp2UUXM6BMZ"
      },
      "source": [
        "### Skewness after applying log transformations"
      ]
    },
    {
      "cell_type": "code",
      "execution_count": null,
      "metadata": {
        "id": "OUxwxkyw6BMZ",
        "outputId": "380c56a3-adf4-48aa-fb50-2e08f74618a0",
        "colab": {
          "base_uri": "https://localhost:8080/",
          "height": 820
        }
      },
      "outputs": [
        {
          "output_type": "display_data",
          "data": {
            "text/plain": [
              "<Figure size 1080x3240 with 7 Axes>"
            ],
            "image/png": "[encoded data removed]"
          },
          "metadata": {}
        }
      ],
      "source": [
        "# creating a list of numeric columns\n",
        "num_cols = [item for item in data.select_dtypes(include=np.number).columns]\n",
        "\n",
        "\n",
        "# now, let's plot a histogram of all numeric columns\n",
        "plt.figure(figsize=(15, 45))\n",
        "\n",
        "for i in range(len(num_cols)):\n",
        "    plt.subplot(12, 3, i + 1)\n",
        "    plt.hist(data[num_cols[i]], bins=50)\n",
        "    # sns.histplot(data=df3, x=dist_cols[i], kde=True)\n",
        "    plt.tight_layout()\n",
        "    plt.title(num_cols[i], fontsize=25)\n",
        "\n",
        "plt.show()"
      ]
    },
    {
      "cell_type": "markdown",
      "metadata": {
        "id": "jXj7LwyX6BMZ"
      },
      "source": [
        "- The columns are still skewed, but not as heavily as before log transformations"
      ]
    },
    {
      "cell_type": "code",
      "execution_count": null,
      "metadata": {
        "id": "VP4oWqeY6BMZ",
        "outputId": "85b55994-f20d-4e19-82fc-cddb8a685d63",
        "colab": {
          "base_uri": "https://localhost:8080/",
          "height": 436
        }
      },
      "outputs": [
        {
          "output_type": "display_data",
          "data": {
            "text/plain": [
              "<Figure size 864x504 with 2 Axes>"
            ],
            "image/png": "[encoded data removed]"
          },
          "metadata": {}
        }
      ],
      "source": [
        "# checking correlations after applying log transformations\n",
        "plt.figure(figsize=(12, 7))\n",
        "sns.heatmap(data.corr(), annot=True, cmap= 'Spectral')\n",
        "plt.show()"
      ]
    },
    {
      "cell_type": "markdown",
      "metadata": {
        "id": "gu0voKCF6BMa"
      },
      "source": [
        "Observation:\n",
        "\n",
        "*  Engine log and Price have the highest correlation."
      ]
    },
    {
      "cell_type": "code",
      "execution_count": null,
      "metadata": {
        "id": "DGRqW72C6BMa",
        "outputId": "c0c169bd-bb70-488e-ef9b-46f4cd549649",
        "colab": {
          "base_uri": "https://localhost:8080/"
        }
      },
      "outputs": [
        {
          "output_type": "execute_result",
          "data": {
            "text/plain": [
              "(7123, 11)"
            ]
          },
          "metadata": {},
          "execution_count": 42
        }
      ],
      "source": [
        "data.shape"
      ]
    },
    {
      "cell_type": "markdown",
      "metadata": {
        "id": "Oy2Q8wJ26BMa"
      },
      "source": [
        "# Outliers "
      ]
    },
    {
      "cell_type": "code",
      "execution_count": null,
      "metadata": {
        "id": "DWx3_q1M6BMa",
        "outputId": "4e86604f-59b2-45a5-8744-9f74442291c4",
        "colab": {
          "base_uri": "https://localhost:8080/",
          "height": 551
        }
      },
      "outputs": [
        {
          "output_type": "display_data",
          "data": {
            "text/plain": [
              "<Figure size 432x288 with 1 Axes>"
            ],
            "image/png": "[encoded data removed]"
          },
          "metadata": {}
        },
        {
          "output_type": "display_data",
          "data": {
            "text/plain": [
              "<Figure size 432x288 with 1 Axes>"
            ],
            "image/png": "[encoded data removed]"
          },
          "metadata": {}
        }
      ],
      "source": [
        "def z_transform(x):\n",
        "    return (x - np.mean(x)) / np.std(x)\n",
        "\n",
        "\n",
        "np.random.seed(1)\n",
        "x1 = np.random.normal(size=1000)\n",
        "x2 = np.random.lognormal(size=1000)\n",
        "\n",
        "\n",
        "plt.hist(z_transform(x1))\n",
        "plt.title(\"z-transformed normal data\")\n",
        "plt.show()\n",
        "\n",
        "\n",
        "plt.hist(z_transform(x2))\n",
        "plt.title(\"z-transformed lognormal data\")\n",
        "plt.show()"
      ]
    },
    {
      "cell_type": "code",
      "execution_count": null,
      "metadata": {
        "id": "PSjP-5Xd6BMa",
        "outputId": "91c93989-a3f2-4142-b3f6-70fd97349c0d",
        "colab": {
          "base_uri": "https://localhost:8080/"
        }
      },
      "outputs": [
        {
          "output_type": "stream",
          "name": "stdout",
          "text": [
            "0.05\n",
            "0.132\n"
          ]
        }
      ],
      "source": [
        "def frac_outside_1pt5_IQR(x):\n",
        "    length = 1.5 * np.diff(np.quantile(x, [0.25, 0.75]))\n",
        "    return np.mean(np.abs(x - np.median(x)) > length)\n",
        "\n",
        "\n",
        "print(frac_outside_1pt5_IQR(x1))\n",
        "print(frac_outside_1pt5_IQR(x2))"
      ]
    },
    {
      "cell_type": "code",
      "execution_count": null,
      "metadata": {
        "id": "jqjcRarE6BMb",
        "outputId": "b71503d0-5876-4828-9714-b9e80aca0aeb",
        "colab": {
          "base_uri": "https://localhost:8080/",
          "height": 568
        }
      },
      "outputs": [
        {
          "output_type": "display_data",
          "data": {
            "text/plain": [
              "<Figure size 432x288 with 1 Axes>"
            ],
            "image/png": "[encoded data removed]"
          },
          "metadata": {}
        },
        {
          "output_type": "display_data",
          "data": {
            "text/plain": [
              "<Figure size 432x288 with 1 Axes>"
            ],
            "image/png": "[encoded data removed]"
          },
          "metadata": {}
        }
      ],
      "source": [
        "#Looking at the Price\n",
        "plt.hist(data[\"Price\"], 20)\n",
        "plt.title(\"Histogram of Price\")\n",
        "plt.show()\n",
        "\n",
        "sns.boxplot(data[\"Price\"])\n",
        "plt.title(\"Boxplot of Price\")\n",
        "plt.show()"
      ]
    },
    {
      "cell_type": "code",
      "execution_count": null,
      "metadata": {
        "id": "A1e3-f3u6BMb",
        "outputId": "b76acf10-4506-42f4-c71a-8e8108a57734",
        "colab": {
          "base_uri": "https://localhost:8080/"
        }
      },
      "outputs": [
        {
          "output_type": "stream",
          "name": "stdout",
          "text": [
            "Q1 = 2.5, Q3 = 8.5, 4*IQR = 24.0\n"
          ]
        },
        {
          "output_type": "execute_result",
          "data": {
            "text/plain": [
              "67      35.67\n",
              "75      29.50\n",
              "92      39.58\n",
              "134     54.00\n",
              "148     37.00\n",
              "        ...  \n",
              "5921    36.00\n",
              "5927    45.52\n",
              "5946    48.00\n",
              "5996    30.54\n",
              "6008    45.00\n",
              "Name: Price, Length: 398, dtype: float64"
            ]
          },
          "metadata": {},
          "execution_count": 46
        }
      ],
      "source": [
        "# Handling outliers to see the sensitivity to outliers\n",
        "quartiles = np.quantile(data[\"Price\"][data[\"Price\"].notnull()], [0.25, 0.75])\n",
        "power_4iqr = 4 * (quartiles[1] - quartiles[0])\n",
        "print(f\"Q1 = {quartiles[0]}, Q3 = {quartiles[1]}, 4*IQR = {power_4iqr}\")\n",
        "outlier_powers = data.loc[\n",
        "    np.abs(data[\"Price\"] - data[\"Price\"].median()) > power_4iqr, \"Price\"\n",
        "]\n",
        "outlier_powers"
      ]
    },
    {
      "cell_type": "markdown",
      "metadata": {
        "id": "B2dufBk46BMb"
      },
      "source": [
        "# Model Building"
      ]
    },
    {
      "cell_type": "markdown",
      "metadata": {
        "id": "Fo-OGMFr6BMc"
      },
      "source": [
        "### Defining independent and dependent variables"
      ]
    },
    {
      "cell_type": "code",
      "source": [
        "ind_vars = data.drop([\"Price\"], axis=1) # all variables are independent except for the Price\n",
        "dep_var = data[[\"Price\"]] # the only dependent variable is the Price, the target variable"
      ],
      "metadata": {
        "id": "AjnmSccugCcx"
      },
      "execution_count": null,
      "outputs": []
    },
    {
      "cell_type": "markdown",
      "metadata": {
        "id": "isFwzFk-6BMc"
      },
      "source": [
        "### Creating dummy variables"
      ]
    },
    {
      "cell_type": "code",
      "source": [
        "#Checking the dtype of the variable:\n",
        "data.info()"
      ],
      "metadata": {
        "colab": {
          "base_uri": "https://localhost:8080/"
        },
        "id": "SmyktQHkgSOa",
        "outputId": "672b9c80-a64b-40db-b4e4-acbf315638b3"
      },
      "execution_count": null,
      "outputs": [
        {
          "output_type": "stream",
          "name": "stdout",
          "text": [
            "<class 'pandas.core.frame.DataFrame'>\n",
            "Int64Index: 7123 entries, 0 to 7252\n",
            "Data columns (total 11 columns):\n",
            " #   Column             Non-Null Count  Dtype  \n",
            "---  ------             --------------  -----  \n",
            " 0   Location           7123 non-null   object \n",
            " 1   Year               7123 non-null   int64  \n",
            " 2   Kilometers_Driven  7123 non-null   int64  \n",
            " 3   Fuel_Type          7123 non-null   object \n",
            " 4   Transmission       7123 non-null   object \n",
            " 5   Owner_Type         7123 non-null   object \n",
            " 6   Mileage            7123 non-null   float64\n",
            " 7   Engine             7123 non-null   int64  \n",
            " 8   Power              7123 non-null   float64\n",
            " 9   Seats              7123 non-null   float64\n",
            " 10  Price              7123 non-null   float64\n",
            "dtypes: float64(4), int64(3), object(4)\n",
            "memory usage: 925.8+ KB\n"
          ]
        }
      ]
    },
    {
      "cell_type": "code",
      "source": [
        "# we will create dummy variables for the categorical columns to convert all object or category\n",
        "# get_dummies is a pandas function\n",
        "\n",
        "def encode_cat_vars(x):\n",
        "    x = pd.get_dummies(\n",
        "        x,\n",
        "        columns=x.select_dtypes(include=[\"object\", \"category\"]).columns.tolist(),\n",
        "        drop_first=True,\n",
        "    )\n",
        "    return x\n",
        "\n",
        "\n",
        "ind_vars_num = encode_cat_vars(ind_vars)\n",
        "ind_vars_num.head()"
      ],
      "metadata": {
        "colab": {
          "base_uri": "https://localhost:8080/",
          "height": 287
        },
        "id": "f9wmLjxogfob",
        "outputId": "03bd3362-21d6-473e-ee95-1c9624a32485"
      },
      "execution_count": null,
      "outputs": [
        {
          "output_type": "execute_result",
          "data": {
            "text/plain": [
              "   Year  Kilometers_Driven  Mileage  Engine   Power  Seats  \\\n",
              "0  2010              72000    26.60     998  5816.0    5.0   \n",
              "1  2015              41000    19.67    1582  1262.0    5.0   \n",
              "2  2011              46000    18.20    1199   887.0    5.0   \n",
              "3  2012              87000    20.77    1248  8876.0    7.0   \n",
              "4  2013              40670    15.20    1968  1408.0    5.0   \n",
              "\n",
              "   Location_Bangalore  Location_Chennai  Location_Coimbatore  Location_Delhi  \\\n",
              "0                   0                 0                    0               0   \n",
              "1                   0                 0                    0               0   \n",
              "2                   0                 1                    0               0   \n",
              "3                   0                 1                    0               0   \n",
              "4                   0                 0                    1               0   \n",
              "\n",
              "   Location_Hyderabad  Location_Jaipur  Location_Kochi  Location_Kolkata  \\\n",
              "0                   0                0               0                 0   \n",
              "1                   0                0               0                 0   \n",
              "2                   0                0               0                 0   \n",
              "3                   0                0               0                 0   \n",
              "4                   0                0               0                 0   \n",
              "\n",
              "   Location_Mumbai  Location_Pune  Fuel_Type_Diesel  Fuel_Type_Electric  \\\n",
              "0                1              0                 0                   0   \n",
              "1                0              1                 1                   0   \n",
              "2                0              0                 0                   0   \n",
              "3                0              0                 1                   0   \n",
              "4                0              0                 1                   0   \n",
              "\n",
              "   Fuel_Type_LPG  Fuel_Type_Petrol  Transmission_Manual  \\\n",
              "0              0                 0                    1   \n",
              "1              0                 0                    1   \n",
              "2              0                 1                    1   \n",
              "3              0                 0                    1   \n",
              "4              0                 0                    0   \n",
              "\n",
              "   Owner_Type_Fourth & Above  Owner_Type_Second  Owner_Type_Third  \n",
              "0                          0                  0                 0  \n",
              "1                          0                  0                 0  \n",
              "2                          0                  0                 0  \n",
              "3                          0                  0                 0  \n",
              "4                          0                  1                 0  "
            ],
            "text/html": [
              "\n",
              "  <div id=\"df-6c491732-5e4f-493b-9dc5-c4bf4c75e261\">\n",
              "    <div class=\"colab-df-container\">\n",
              "      <div>\n",
              "<style scoped>\n",
              "    .dataframe tbody tr th:only-of-type {\n",
              "        vertical-align: middle;\n",
              "    }\n",
              "\n",
              "    .dataframe tbody tr th {\n",
              "        vertical-align: top;\n",
              "    }\n",
              "\n",
              "    .dataframe thead th {\n",
              "        text-align: right;\n",
              "    }\n",
              "</style>\n",
              "<table border=\"1\" class=\"dataframe\">\n",
              "  <thead>\n",
              "    <tr style=\"text-align: right;\">\n",
              "      <th></th>\n",
              "      <th>Year</th>\n",
              "      <th>Kilometers_Driven</th>\n",
              "      <th>Mileage</th>\n",
              "      <th>Engine</th>\n",
              "      <th>Power</th>\n",
              "      <th>Seats</th>\n",
              "      <th>Location_Bangalore</th>\n",
              "      <th>Location_Chennai</th>\n",
              "      <th>Location_Coimbatore</th>\n",
              "      <th>Location_Delhi</th>\n",
              "      <th>Location_Hyderabad</th>\n",
              "      <th>Location_Jaipur</th>\n",
              "      <th>Location_Kochi</th>\n",
              "      <th>Location_Kolkata</th>\n",
              "      <th>Location_Mumbai</th>\n",
              "      <th>Location_Pune</th>\n",
              "      <th>Fuel_Type_Diesel</th>\n",
              "      <th>Fuel_Type_Electric</th>\n",
              "      <th>Fuel_Type_LPG</th>\n",
              "      <th>Fuel_Type_Petrol</th>\n",
              "      <th>Transmission_Manual</th>\n",
              "      <th>Owner_Type_Fourth &amp; Above</th>\n",
              "      <th>Owner_Type_Second</th>\n",
              "      <th>Owner_Type_Third</th>\n",
              "    </tr>\n",
              "  </thead>\n",
              "  <tbody>\n",
              "    <tr>\n",
              "      <th>0</th>\n",
              "      <td>2010</td>\n",
              "      <td>72000</td>\n",
              "      <td>26.60</td>\n",
              "      <td>998</td>\n",
              "      <td>5816.0</td>\n",
              "      <td>5.0</td>\n",
              "      <td>0</td>\n",
              "      <td>0</td>\n",
              "      <td>0</td>\n",
              "      <td>0</td>\n",
              "      <td>0</td>\n",
              "      <td>0</td>\n",
              "      <td>0</td>\n",
              "      <td>0</td>\n",
              "      <td>1</td>\n",
              "      <td>0</td>\n",
              "      <td>0</td>\n",
              "      <td>0</td>\n",
              "      <td>0</td>\n",
              "      <td>0</td>\n",
              "      <td>1</td>\n",
              "      <td>0</td>\n",
              "      <td>0</td>\n",
              "      <td>0</td>\n",
              "    </tr>\n",
              "    <tr>\n",
              "      <th>1</th>\n",
              "      <td>2015</td>\n",
              "      <td>41000</td>\n",
              "      <td>19.67</td>\n",
              "      <td>1582</td>\n",
              "      <td>1262.0</td>\n",
              "      <td>5.0</td>\n",
              "      <td>0</td>\n",
              "      <td>0</td>\n",
              "      <td>0</td>\n",
              "      <td>0</td>\n",
              "      <td>0</td>\n",
              "      <td>0</td>\n",
              "      <td>0</td>\n",
              "      <td>0</td>\n",
              "      <td>0</td>\n",
              "      <td>1</td>\n",
              "      <td>1</td>\n",
              "      <td>0</td>\n",
              "      <td>0</td>\n",
              "      <td>0</td>\n",
              "      <td>1</td>\n",
              "      <td>0</td>\n",
              "      <td>0</td>\n",
              "      <td>0</td>\n",
              "    </tr>\n",
              "    <tr>\n",
              "      <th>2</th>\n",
              "      <td>2011</td>\n",
              "      <td>46000</td>\n",
              "      <td>18.20</td>\n",
              "      <td>1199</td>\n",
              "      <td>887.0</td>\n",
              "      <td>5.0</td>\n",
              "      <td>0</td>\n",
              "      <td>1</td>\n",
              "      <td>0</td>\n",
              "      <td>0</td>\n",
              "      <td>0</td>\n",
              "      <td>0</td>\n",
              "      <td>0</td>\n",
              "      <td>0</td>\n",
              "      <td>0</td>\n",
              "      <td>0</td>\n",
              "      <td>0</td>\n",
              "      <td>0</td>\n",
              "      <td>0</td>\n",
              "      <td>1</td>\n",
              "      <td>1</td>\n",
              "      <td>0</td>\n",
              "      <td>0</td>\n",
              "      <td>0</td>\n",
              "    </tr>\n",
              "    <tr>\n",
              "      <th>3</th>\n",
              "      <td>2012</td>\n",
              "      <td>87000</td>\n",
              "      <td>20.77</td>\n",
              "      <td>1248</td>\n",
              "      <td>8876.0</td>\n",
              "      <td>7.0</td>\n",
              "      <td>0</td>\n",
              "      <td>1</td>\n",
              "      <td>0</td>\n",
              "      <td>0</td>\n",
              "      <td>0</td>\n",
              "      <td>0</td>\n",
              "      <td>0</td>\n",
              "      <td>0</td>\n",
              "      <td>0</td>\n",
              "      <td>0</td>\n",
              "      <td>1</td>\n",
              "      <td>0</td>\n",
              "      <td>0</td>\n",
              "      <td>0</td>\n",
              "      <td>1</td>\n",
              "      <td>0</td>\n",
              "      <td>0</td>\n",
              "      <td>0</td>\n",
              "    </tr>\n",
              "    <tr>\n",
              "      <th>4</th>\n",
              "      <td>2013</td>\n",
              "      <td>40670</td>\n",
              "      <td>15.20</td>\n",
              "      <td>1968</td>\n",
              "      <td>1408.0</td>\n",
              "      <td>5.0</td>\n",
              "      <td>0</td>\n",
              "      <td>0</td>\n",
              "      <td>1</td>\n",
              "      <td>0</td>\n",
              "      <td>0</td>\n",
              "      <td>0</td>\n",
              "      <td>0</td>\n",
              "      <td>0</td>\n",
              "      <td>0</td>\n",
              "      <td>0</td>\n",
              "      <td>1</td>\n",
              "      <td>0</td>\n",
              "      <td>0</td>\n",
              "      <td>0</td>\n",
              "      <td>0</td>\n",
              "      <td>0</td>\n",
              "      <td>1</td>\n",
              "      <td>0</td>\n",
              "    </tr>\n",
              "  </tbody>\n",
              "</table>\n",
              "</div>\n",
              "      <button class=\"colab-df-convert\" onclick=\"convertToInteractive('df-6c491732-5e4f-493b-9dc5-c4bf4c75e261')\"\n",
              "              title=\"Convert this dataframe to an interactive table.\"\n",
              "              style=\"display:none;\">\n",
              "        \n",
              "  <svg xmlns=\"http://www.w3.org/2000/svg\" height=\"24px\"viewBox=\"0 0 24 24\"\n",
              "       width=\"24px\">\n",
              "    <path d=\"M0 0h24v24H0V0z\" fill=\"none\"/>\n",
              "    <path d=\"M18.56 5.44l.94 2.06.94-2.06 2.06-.94-2.06-.94-.94-2.06-.94 2.06-2.06.94zm-11 1L8.5 8.5l.94-2.06 2.06-.94-2.06-.94L8.5 2.5l-.94 2.06-2.06.94zm10 10l.94 2.06.94-2.06 2.06-.94-2.06-.94-.94-2.06-.94 2.06-2.06.94z\"/><path d=\"M17.41 7.96l-1.37-1.37c-.4-.4-.92-.59-1.43-.59-.52 0-1.04.2-1.43.59L10.3 9.45l-7.72 7.72c-.78.78-.78 2.05 0 2.83L4 21.41c.39.39.9.59 1.41.59.51 0 1.02-.2 1.41-.59l7.78-7.78 2.81-2.81c.8-.78.8-2.07 0-2.86zM5.41 20L4 18.59l7.72-7.72 1.47 1.35L5.41 20z\"/>\n",
              "  </svg>\n",
              "      </button>\n",
              "      \n",
              "  <style>\n",
              "    .colab-df-container {\n",
              "      display:flex;\n",
              "      flex-wrap:wrap;\n",
              "      gap: 12px;\n",
              "    }\n",
              "\n",
              "    .colab-df-convert {\n",
              "      background-color: #E8F0FE;\n",
              "      border: none;\n",
              "      border-radius: 50%;\n",
              "      cursor: pointer;\n",
              "      display: none;\n",
              "      fill: #1967D2;\n",
              "      height: 32px;\n",
              "      padding: 0 0 0 0;\n",
              "      width: 32px;\n",
              "    }\n",
              "\n",
              "    .colab-df-convert:hover {\n",
              "      background-color: #E2EBFA;\n",
              "      box-shadow: 0px 1px 2px rgba(60, 64, 67, 0.3), 0px 1px 3px 1px rgba(60, 64, 67, 0.15);\n",
              "      fill: #174EA6;\n",
              "    }\n",
              "\n",
              "    [theme=dark] .colab-df-convert {\n",
              "      background-color: #3B4455;\n",
              "      fill: #D2E3FC;\n",
              "    }\n",
              "\n",
              "    [theme=dark] .colab-df-convert:hover {\n",
              "      background-color: #434B5C;\n",
              "      box-shadow: 0px 1px 3px 1px rgba(0, 0, 0, 0.15);\n",
              "      filter: drop-shadow(0px 1px 2px rgba(0, 0, 0, 0.3));\n",
              "      fill: #FFFFFF;\n",
              "    }\n",
              "  </style>\n",
              "\n",
              "      <script>\n",
              "        const buttonEl =\n",
              "          document.querySelector('#df-6c491732-5e4f-493b-9dc5-c4bf4c75e261 button.colab-df-convert');\n",
              "        buttonEl.style.display =\n",
              "          google.colab.kernel.accessAllowed ? 'block' : 'none';\n",
              "\n",
              "        async function convertToInteractive(key) {\n",
              "          const element = document.querySelector('#df-6c491732-5e4f-493b-9dc5-c4bf4c75e261');\n",
              "          const dataTable =\n",
              "            await google.colab.kernel.invokeFunction('convertToInteractive',\n",
              "                                                     [key], {});\n",
              "          if (!dataTable) return;\n",
              "\n",
              "          const docLinkHtml = 'Like what you see? Visit the ' +\n",
              "            '<a target=\"_blank\" href=https://colab.research.google.com/notebooks/data_table.ipynb>data table notebook</a>'\n",
              "            + ' to learn more about interactive tables.';\n",
              "          element.innerHTML = '';\n",
              "          dataTable['output_type'] = 'display_data';\n",
              "          await google.colab.output.renderOutput(dataTable, element);\n",
              "          const docLink = document.createElement('div');\n",
              "          docLink.innerHTML = docLinkHtml;\n",
              "          element.appendChild(docLink);\n",
              "        }\n",
              "      </script>\n",
              "    </div>\n",
              "  </div>\n",
              "  "
            ]
          },
          "metadata": {},
          "execution_count": 49
        }
      ]
    },
    {
      "cell_type": "markdown",
      "metadata": {
        "id": "oKHCnqQH6BMc"
      },
      "source": [
        "### Splitting data into train and test "
      ]
    },
    {
      "cell_type": "code",
      "source": [
        "#Splitting data \n",
        "from sklearn.model_selection import train_test_split\n",
        "x_train, x_test, y_train, y_test = train_test_split(ind_vars_num, dep_var, test_size=0.3, random_state=1)"
      ],
      "metadata": {
        "id": "qOfS_-47hqXK"
      },
      "execution_count": null,
      "outputs": []
    },
    {
      "cell_type": "code",
      "source": [
        "#Printing number of rows for Train and Test data\n",
        "print(\"Number of rows in train data =\", x_train.shape[0])\n",
        "print(\"Number of rows in train data =\", x_test.shape[0])"
      ],
      "metadata": {
        "colab": {
          "base_uri": "https://localhost:8080/"
        },
        "id": "dy51iBAZhp7Z",
        "outputId": "f9ca39d6-d496-4cf6-d5a4-43f3a2e734d8"
      },
      "execution_count": null,
      "outputs": [
        {
          "output_type": "stream",
          "name": "stdout",
          "text": [
            "Number of rows in train data = 4986\n",
            "Number of rows in train data = 2137\n"
          ]
        }
      ]
    },
    {
      "cell_type": "markdown",
      "metadata": {
        "id": "1LXNRiuO6BMc"
      },
      "source": [
        "### Fitting a linear model"
      ]
    },
    {
      "cell_type": "code",
      "source": [
        "lin_reg_model = LinearRegression()\n",
        "lin_reg_model.fit(x_train, y_train)"
      ],
      "metadata": {
        "colab": {
          "base_uri": "https://localhost:8080/"
        },
        "id": "C77jBZ6Oh1M6",
        "outputId": "a4bd590a-1280-4467-9fee-5dd2d6a183e9"
      },
      "execution_count": null,
      "outputs": [
        {
          "output_type": "execute_result",
          "data": {
            "text/plain": [
              "LinearRegression()"
            ]
          },
          "metadata": {},
          "execution_count": 52
        }
      ]
    },
    {
      "cell_type": "markdown",
      "source": [
        "Examining the coefficients for each variable in the model"
      ],
      "metadata": {
        "id": "RiQEoSQLiNjh"
      }
    },
    {
      "cell_type": "code",
      "source": [
        "coef_df = pd.DataFrame(\n",
        "    np.append(lin_reg_model.coef_.flatten(), lin_reg_model.intercept_),\n",
        "    index=x_train.columns.tolist() + [\"Intercept\"],\n",
        "    columns=[\"Coefficients\"],\n",
        ")\n",
        "coef_df"
      ],
      "metadata": {
        "colab": {
          "base_uri": "https://localhost:8080/",
          "height": 833
        },
        "id": "ACBFP-BEiOjy",
        "outputId": "b2e2c3b5-51ec-4856-cda3-cbe761281f3d"
      },
      "execution_count": null,
      "outputs": [
        {
          "output_type": "execute_result",
          "data": {
            "text/plain": [
              "                           Coefficients\n",
              "Year                       9.402641e-01\n",
              "Kilometers_Driven          1.823491e-06\n",
              "Mileage                   -1.163745e-01\n",
              "Engine                     9.126831e-03\n",
              "Power                      5.099917e-05\n",
              "Seats                     -2.199491e+00\n",
              "Location_Bangalore         1.739718e+00\n",
              "Location_Chennai           6.153799e-01\n",
              "Location_Coimbatore        1.046570e+00\n",
              "Location_Delhi            -4.044820e-01\n",
              "Location_Hyderabad         1.126154e+00\n",
              "Location_Jaipur            3.108788e-01\n",
              "Location_Kochi             2.881972e-02\n",
              "Location_Kolkata          -9.922679e-01\n",
              "Location_Mumbai           -4.181193e-01\n",
              "Location_Pune              7.767771e-02\n",
              "Fuel_Type_Diesel          -8.905455e-01\n",
              "Fuel_Type_Electric        -7.216450e-16\n",
              "Fuel_Type_LPG              3.982576e-01\n",
              "Fuel_Type_Petrol          -1.959107e+00\n",
              "Transmission_Manual       -4.665764e+00\n",
              "Owner_Type_Fourth & Above -1.410739e+00\n",
              "Owner_Type_Second         -4.240044e-01\n",
              "Owner_Type_Third          -1.511731e-01\n",
              "Intercept                 -1.881617e+03"
            ],
            "text/html": [
              "\n",
              "  <div id=\"df-4a59f7a3-1198-40e7-9062-dd49dc2c361b\">\n",
              "    <div class=\"colab-df-container\">\n",
              "      <div>\n",
              "<style scoped>\n",
              "    .dataframe tbody tr th:only-of-type {\n",
              "        vertical-align: middle;\n",
              "    }\n",
              "\n",
              "    .dataframe tbody tr th {\n",
              "        vertical-align: top;\n",
              "    }\n",
              "\n",
              "    .dataframe thead th {\n",
              "        text-align: right;\n",
              "    }\n",
              "</style>\n",
              "<table border=\"1\" class=\"dataframe\">\n",
              "  <thead>\n",
              "    <tr style=\"text-align: right;\">\n",
              "      <th></th>\n",
              "      <th>Coefficients</th>\n",
              "    </tr>\n",
              "  </thead>\n",
              "  <tbody>\n",
              "    <tr>\n",
              "      <th>Year</th>\n",
              "      <td>9.402641e-01</td>\n",
              "    </tr>\n",
              "    <tr>\n",
              "      <th>Kilometers_Driven</th>\n",
              "      <td>1.823491e-06</td>\n",
              "    </tr>\n",
              "    <tr>\n",
              "      <th>Mileage</th>\n",
              "      <td>-1.163745e-01</td>\n",
              "    </tr>\n",
              "    <tr>\n",
              "      <th>Engine</th>\n",
              "      <td>9.126831e-03</td>\n",
              "    </tr>\n",
              "    <tr>\n",
              "      <th>Power</th>\n",
              "      <td>5.099917e-05</td>\n",
              "    </tr>\n",
              "    <tr>\n",
              "      <th>Seats</th>\n",
              "      <td>-2.199491e+00</td>\n",
              "    </tr>\n",
              "    <tr>\n",
              "      <th>Location_Bangalore</th>\n",
              "      <td>1.739718e+00</td>\n",
              "    </tr>\n",
              "    <tr>\n",
              "      <th>Location_Chennai</th>\n",
              "      <td>6.153799e-01</td>\n",
              "    </tr>\n",
              "    <tr>\n",
              "      <th>Location_Coimbatore</th>\n",
              "      <td>1.046570e+00</td>\n",
              "    </tr>\n",
              "    <tr>\n",
              "      <th>Location_Delhi</th>\n",
              "      <td>-4.044820e-01</td>\n",
              "    </tr>\n",
              "    <tr>\n",
              "      <th>Location_Hyderabad</th>\n",
              "      <td>1.126154e+00</td>\n",
              "    </tr>\n",
              "    <tr>\n",
              "      <th>Location_Jaipur</th>\n",
              "      <td>3.108788e-01</td>\n",
              "    </tr>\n",
              "    <tr>\n",
              "      <th>Location_Kochi</th>\n",
              "      <td>2.881972e-02</td>\n",
              "    </tr>\n",
              "    <tr>\n",
              "      <th>Location_Kolkata</th>\n",
              "      <td>-9.922679e-01</td>\n",
              "    </tr>\n",
              "    <tr>\n",
              "      <th>Location_Mumbai</th>\n",
              "      <td>-4.181193e-01</td>\n",
              "    </tr>\n",
              "    <tr>\n",
              "      <th>Location_Pune</th>\n",
              "      <td>7.767771e-02</td>\n",
              "    </tr>\n",
              "    <tr>\n",
              "      <th>Fuel_Type_Diesel</th>\n",
              "      <td>-8.905455e-01</td>\n",
              "    </tr>\n",
              "    <tr>\n",
              "      <th>Fuel_Type_Electric</th>\n",
              "      <td>-7.216450e-16</td>\n",
              "    </tr>\n",
              "    <tr>\n",
              "      <th>Fuel_Type_LPG</th>\n",
              "      <td>3.982576e-01</td>\n",
              "    </tr>\n",
              "    <tr>\n",
              "      <th>Fuel_Type_Petrol</th>\n",
              "      <td>-1.959107e+00</td>\n",
              "    </tr>\n",
              "    <tr>\n",
              "      <th>Transmission_Manual</th>\n",
              "      <td>-4.665764e+00</td>\n",
              "    </tr>\n",
              "    <tr>\n",
              "      <th>Owner_Type_Fourth &amp; Above</th>\n",
              "      <td>-1.410739e+00</td>\n",
              "    </tr>\n",
              "    <tr>\n",
              "      <th>Owner_Type_Second</th>\n",
              "      <td>-4.240044e-01</td>\n",
              "    </tr>\n",
              "    <tr>\n",
              "      <th>Owner_Type_Third</th>\n",
              "      <td>-1.511731e-01</td>\n",
              "    </tr>\n",
              "    <tr>\n",
              "      <th>Intercept</th>\n",
              "      <td>-1.881617e+03</td>\n",
              "    </tr>\n",
              "  </tbody>\n",
              "</table>\n",
              "</div>\n",
              "      <button class=\"colab-df-convert\" onclick=\"convertToInteractive('df-4a59f7a3-1198-40e7-9062-dd49dc2c361b')\"\n",
              "              title=\"Convert this dataframe to an interactive table.\"\n",
              "              style=\"display:none;\">\n",
              "        \n",
              "  <svg xmlns=\"http://www.w3.org/2000/svg\" height=\"24px\"viewBox=\"0 0 24 24\"\n",
              "       width=\"24px\">\n",
              "    <path d=\"M0 0h24v24H0V0z\" fill=\"none\"/>\n",
              "    <path d=\"M18.56 5.44l.94 2.06.94-2.06 2.06-.94-2.06-.94-.94-2.06-.94 2.06-2.06.94zm-11 1L8.5 8.5l.94-2.06 2.06-.94-2.06-.94L8.5 2.5l-.94 2.06-2.06.94zm10 10l.94 2.06.94-2.06 2.06-.94-2.06-.94-.94-2.06-.94 2.06-2.06.94z\"/><path d=\"M17.41 7.96l-1.37-1.37c-.4-.4-.92-.59-1.43-.59-.52 0-1.04.2-1.43.59L10.3 9.45l-7.72 7.72c-.78.78-.78 2.05 0 2.83L4 21.41c.39.39.9.59 1.41.59.51 0 1.02-.2 1.41-.59l7.78-7.78 2.81-2.81c.8-.78.8-2.07 0-2.86zM5.41 20L4 18.59l7.72-7.72 1.47 1.35L5.41 20z\"/>\n",
              "  </svg>\n",
              "      </button>\n",
              "      \n",
              "  <style>\n",
              "    .colab-df-container {\n",
              "      display:flex;\n",
              "      flex-wrap:wrap;\n",
              "      gap: 12px;\n",
              "    }\n",
              "\n",
              "    .colab-df-convert {\n",
              "      background-color: #E8F0FE;\n",
              "      border: none;\n",
              "      border-radius: 50%;\n",
              "      cursor: pointer;\n",
              "      display: none;\n",
              "      fill: #1967D2;\n",
              "      height: 32px;\n",
              "      padding: 0 0 0 0;\n",
              "      width: 32px;\n",
              "    }\n",
              "\n",
              "    .colab-df-convert:hover {\n",
              "      background-color: #E2EBFA;\n",
              "      box-shadow: 0px 1px 2px rgba(60, 64, 67, 0.3), 0px 1px 3px 1px rgba(60, 64, 67, 0.15);\n",
              "      fill: #174EA6;\n",
              "    }\n",
              "\n",
              "    [theme=dark] .colab-df-convert {\n",
              "      background-color: #3B4455;\n",
              "      fill: #D2E3FC;\n",
              "    }\n",
              "\n",
              "    [theme=dark] .colab-df-convert:hover {\n",
              "      background-color: #434B5C;\n",
              "      box-shadow: 0px 1px 3px 1px rgba(0, 0, 0, 0.15);\n",
              "      filter: drop-shadow(0px 1px 2px rgba(0, 0, 0, 0.3));\n",
              "      fill: #FFFFFF;\n",
              "    }\n",
              "  </style>\n",
              "\n",
              "      <script>\n",
              "        const buttonEl =\n",
              "          document.querySelector('#df-4a59f7a3-1198-40e7-9062-dd49dc2c361b button.colab-df-convert');\n",
              "        buttonEl.style.display =\n",
              "          google.colab.kernel.accessAllowed ? 'block' : 'none';\n",
              "\n",
              "        async function convertToInteractive(key) {\n",
              "          const element = document.querySelector('#df-4a59f7a3-1198-40e7-9062-dd49dc2c361b');\n",
              "          const dataTable =\n",
              "            await google.colab.kernel.invokeFunction('convertToInteractive',\n",
              "                                                     [key], {});\n",
              "          if (!dataTable) return;\n",
              "\n",
              "          const docLinkHtml = 'Like what you see? Visit the ' +\n",
              "            '<a target=\"_blank\" href=https://colab.research.google.com/notebooks/data_table.ipynb>data table notebook</a>'\n",
              "            + ' to learn more about interactive tables.';\n",
              "          element.innerHTML = '';\n",
              "          dataTable['output_type'] = 'display_data';\n",
              "          await google.colab.output.renderOutput(dataTable, element);\n",
              "          const docLink = document.createElement('div');\n",
              "          docLink.innerHTML = docLinkHtml;\n",
              "          element.appendChild(docLink);\n",
              "        }\n",
              "      </script>\n",
              "    </div>\n",
              "  </div>\n",
              "  "
            ]
          },
          "metadata": {},
          "execution_count": 53
        }
      ]
    },
    {
      "cell_type": "markdown",
      "source": [
        "Observation:\n",
        "\n",
        "*  Coefficients of Year, Engine, Power, Kilometers_Driven, and some Location and Owner_Type are positive, and increase of which will result of increase of the price.\n",
        "*  Coefficients of Mileage, Seats, some Fuel_Type and some of Owner_Type as well as Locations are negative, and increase of which will result in decrease of the price. "
      ],
      "metadata": {
        "id": "RaHoRB7Hcqm6"
      }
    },
    {
      "cell_type": "markdown",
      "metadata": {
        "id": "JWE6NX3V6BMc"
      },
      "source": [
        "# Model Performance Check"
      ]
    },
    {
      "cell_type": "markdown",
      "metadata": {
        "id": "uofJSusJ6BMc"
      },
      "source": [
        "- Using metric functions to define in sklearn for RMSE, MAE, and 𝑅2.\n",
        "- Defining a function to calculate adjusted  𝑅2."
      ]
    },
    {
      "cell_type": "code",
      "execution_count": null,
      "metadata": {
        "id": "e7Acy6VW6BMd"
      },
      "outputs": [],
      "source": [
        "# let's create a function that will print out all the above metrics in one step\n",
        "# Adjusted R^2\n",
        "def adj_r2(ind_vars, targets, predictions):\n",
        "    r2 = r2_score(targets, predictions)\n",
        "    n = ind_vars.shape[0]\n",
        "    k = ind_vars.shape[1]\n",
        "    return 1 - ((1 - r2) * (n - 1) / (n - k - 1))\n",
        "\n",
        "\n",
        "# Model performance check\n",
        "def model_perf(model, inp, out):\n",
        "\n",
        "    y_pred = model.predict(inp)\n",
        "    y_act = out.values\n",
        "\n",
        "    return pd.DataFrame(\n",
        "        {\n",
        "            \"RMSE\": np.sqrt(mean_squared_error(y_act, y_pred)),\n",
        "            \"MAE\": mean_absolute_error(y_act, y_pred),\n",
        "            \"R^2\": r2_score(y_act, y_pred),\n",
        "            \"Adjusted R^2\": adj_r2(inp, y_act, y_pred),\n",
        "        },\n",
        "        index=[0],\n",
        "    )"
      ]
    },
    {
      "cell_type": "markdown",
      "source": [
        "Examining the coefficients for each variable in the model"
      ],
      "metadata": {
        "id": "AcgtJ0tRh_yA"
      }
    },
    {
      "cell_type": "code",
      "source": [
        "coef_df = pd.DataFrame(\n",
        "    np.append(lin_reg_model.coef_.flatten(), lin_reg_model.intercept_),\n",
        "    index=x_train.columns.tolist() + [\"Intercept\"],\n",
        "    columns=[\"Coefficients\"],\n",
        ")\n",
        "coef_df"
      ],
      "metadata": {
        "colab": {
          "base_uri": "https://localhost:8080/",
          "height": 833
        },
        "id": "7fI1SEQhixUD",
        "outputId": "c65ba46f-1ad3-44cf-a6fb-0296fdb8be8d"
      },
      "execution_count": null,
      "outputs": [
        {
          "output_type": "execute_result",
          "data": {
            "text/plain": [
              "                           Coefficients\n",
              "Year                       9.402641e-01\n",
              "Kilometers_Driven          1.823491e-06\n",
              "Mileage                   -1.163745e-01\n",
              "Engine                     9.126831e-03\n",
              "Power                      5.099917e-05\n",
              "Seats                     -2.199491e+00\n",
              "Location_Bangalore         1.739718e+00\n",
              "Location_Chennai           6.153799e-01\n",
              "Location_Coimbatore        1.046570e+00\n",
              "Location_Delhi            -4.044820e-01\n",
              "Location_Hyderabad         1.126154e+00\n",
              "Location_Jaipur            3.108788e-01\n",
              "Location_Kochi             2.881972e-02\n",
              "Location_Kolkata          -9.922679e-01\n",
              "Location_Mumbai           -4.181193e-01\n",
              "Location_Pune              7.767771e-02\n",
              "Fuel_Type_Diesel          -8.905455e-01\n",
              "Fuel_Type_Electric        -7.216450e-16\n",
              "Fuel_Type_LPG              3.982576e-01\n",
              "Fuel_Type_Petrol          -1.959107e+00\n",
              "Transmission_Manual       -4.665764e+00\n",
              "Owner_Type_Fourth & Above -1.410739e+00\n",
              "Owner_Type_Second         -4.240044e-01\n",
              "Owner_Type_Third          -1.511731e-01\n",
              "Intercept                 -1.881617e+03"
            ],
            "text/html": [
              "\n",
              "  <div id=\"df-77dd3516-9eb2-4470-867b-820a51b4d9eb\">\n",
              "    <div class=\"colab-df-container\">\n",
              "      <div>\n",
              "<style scoped>\n",
              "    .dataframe tbody tr th:only-of-type {\n",
              "        vertical-align: middle;\n",
              "    }\n",
              "\n",
              "    .dataframe tbody tr th {\n",
              "        vertical-align: top;\n",
              "    }\n",
              "\n",
              "    .dataframe thead th {\n",
              "        text-align: right;\n",
              "    }\n",
              "</style>\n",
              "<table border=\"1\" class=\"dataframe\">\n",
              "  <thead>\n",
              "    <tr style=\"text-align: right;\">\n",
              "      <th></th>\n",
              "      <th>Coefficients</th>\n",
              "    </tr>\n",
              "  </thead>\n",
              "  <tbody>\n",
              "    <tr>\n",
              "      <th>Year</th>\n",
              "      <td>9.402641e-01</td>\n",
              "    </tr>\n",
              "    <tr>\n",
              "      <th>Kilometers_Driven</th>\n",
              "      <td>1.823491e-06</td>\n",
              "    </tr>\n",
              "    <tr>\n",
              "      <th>Mileage</th>\n",
              "      <td>-1.163745e-01</td>\n",
              "    </tr>\n",
              "    <tr>\n",
              "      <th>Engine</th>\n",
              "      <td>9.126831e-03</td>\n",
              "    </tr>\n",
              "    <tr>\n",
              "      <th>Power</th>\n",
              "      <td>5.099917e-05</td>\n",
              "    </tr>\n",
              "    <tr>\n",
              "      <th>Seats</th>\n",
              "      <td>-2.199491e+00</td>\n",
              "    </tr>\n",
              "    <tr>\n",
              "      <th>Location_Bangalore</th>\n",
              "      <td>1.739718e+00</td>\n",
              "    </tr>\n",
              "    <tr>\n",
              "      <th>Location_Chennai</th>\n",
              "      <td>6.153799e-01</td>\n",
              "    </tr>\n",
              "    <tr>\n",
              "      <th>Location_Coimbatore</th>\n",
              "      <td>1.046570e+00</td>\n",
              "    </tr>\n",
              "    <tr>\n",
              "      <th>Location_Delhi</th>\n",
              "      <td>-4.044820e-01</td>\n",
              "    </tr>\n",
              "    <tr>\n",
              "      <th>Location_Hyderabad</th>\n",
              "      <td>1.126154e+00</td>\n",
              "    </tr>\n",
              "    <tr>\n",
              "      <th>Location_Jaipur</th>\n",
              "      <td>3.108788e-01</td>\n",
              "    </tr>\n",
              "    <tr>\n",
              "      <th>Location_Kochi</th>\n",
              "      <td>2.881972e-02</td>\n",
              "    </tr>\n",
              "    <tr>\n",
              "      <th>Location_Kolkata</th>\n",
              "      <td>-9.922679e-01</td>\n",
              "    </tr>\n",
              "    <tr>\n",
              "      <th>Location_Mumbai</th>\n",
              "      <td>-4.181193e-01</td>\n",
              "    </tr>\n",
              "    <tr>\n",
              "      <th>Location_Pune</th>\n",
              "      <td>7.767771e-02</td>\n",
              "    </tr>\n",
              "    <tr>\n",
              "      <th>Fuel_Type_Diesel</th>\n",
              "      <td>-8.905455e-01</td>\n",
              "    </tr>\n",
              "    <tr>\n",
              "      <th>Fuel_Type_Electric</th>\n",
              "      <td>-7.216450e-16</td>\n",
              "    </tr>\n",
              "    <tr>\n",
              "      <th>Fuel_Type_LPG</th>\n",
              "      <td>3.982576e-01</td>\n",
              "    </tr>\n",
              "    <tr>\n",
              "      <th>Fuel_Type_Petrol</th>\n",
              "      <td>-1.959107e+00</td>\n",
              "    </tr>\n",
              "    <tr>\n",
              "      <th>Transmission_Manual</th>\n",
              "      <td>-4.665764e+00</td>\n",
              "    </tr>\n",
              "    <tr>\n",
              "      <th>Owner_Type_Fourth &amp; Above</th>\n",
              "      <td>-1.410739e+00</td>\n",
              "    </tr>\n",
              "    <tr>\n",
              "      <th>Owner_Type_Second</th>\n",
              "      <td>-4.240044e-01</td>\n",
              "    </tr>\n",
              "    <tr>\n",
              "      <th>Owner_Type_Third</th>\n",
              "      <td>-1.511731e-01</td>\n",
              "    </tr>\n",
              "    <tr>\n",
              "      <th>Intercept</th>\n",
              "      <td>-1.881617e+03</td>\n",
              "    </tr>\n",
              "  </tbody>\n",
              "</table>\n",
              "</div>\n",
              "      <button class=\"colab-df-convert\" onclick=\"convertToInteractive('df-77dd3516-9eb2-4470-867b-820a51b4d9eb')\"\n",
              "              title=\"Convert this dataframe to an interactive table.\"\n",
              "              style=\"display:none;\">\n",
              "        \n",
              "  <svg xmlns=\"http://www.w3.org/2000/svg\" height=\"24px\"viewBox=\"0 0 24 24\"\n",
              "       width=\"24px\">\n",
              "    <path d=\"M0 0h24v24H0V0z\" fill=\"none\"/>\n",
              "    <path d=\"M18.56 5.44l.94 2.06.94-2.06 2.06-.94-2.06-.94-.94-2.06-.94 2.06-2.06.94zm-11 1L8.5 8.5l.94-2.06 2.06-.94-2.06-.94L8.5 2.5l-.94 2.06-2.06.94zm10 10l.94 2.06.94-2.06 2.06-.94-2.06-.94-.94-2.06-.94 2.06-2.06.94z\"/><path d=\"M17.41 7.96l-1.37-1.37c-.4-.4-.92-.59-1.43-.59-.52 0-1.04.2-1.43.59L10.3 9.45l-7.72 7.72c-.78.78-.78 2.05 0 2.83L4 21.41c.39.39.9.59 1.41.59.51 0 1.02-.2 1.41-.59l7.78-7.78 2.81-2.81c.8-.78.8-2.07 0-2.86zM5.41 20L4 18.59l7.72-7.72 1.47 1.35L5.41 20z\"/>\n",
              "  </svg>\n",
              "      </button>\n",
              "      \n",
              "  <style>\n",
              "    .colab-df-container {\n",
              "      display:flex;\n",
              "      flex-wrap:wrap;\n",
              "      gap: 12px;\n",
              "    }\n",
              "\n",
              "    .colab-df-convert {\n",
              "      background-color: #E8F0FE;\n",
              "      border: none;\n",
              "      border-radius: 50%;\n",
              "      cursor: pointer;\n",
              "      display: none;\n",
              "      fill: #1967D2;\n",
              "      height: 32px;\n",
              "      padding: 0 0 0 0;\n",
              "      width: 32px;\n",
              "    }\n",
              "\n",
              "    .colab-df-convert:hover {\n",
              "      background-color: #E2EBFA;\n",
              "      box-shadow: 0px 1px 2px rgba(60, 64, 67, 0.3), 0px 1px 3px 1px rgba(60, 64, 67, 0.15);\n",
              "      fill: #174EA6;\n",
              "    }\n",
              "\n",
              "    [theme=dark] .colab-df-convert {\n",
              "      background-color: #3B4455;\n",
              "      fill: #D2E3FC;\n",
              "    }\n",
              "\n",
              "    [theme=dark] .colab-df-convert:hover {\n",
              "      background-color: #434B5C;\n",
              "      box-shadow: 0px 1px 3px 1px rgba(0, 0, 0, 0.15);\n",
              "      filter: drop-shadow(0px 1px 2px rgba(0, 0, 0, 0.3));\n",
              "      fill: #FFFFFF;\n",
              "    }\n",
              "  </style>\n",
              "\n",
              "      <script>\n",
              "        const buttonEl =\n",
              "          document.querySelector('#df-77dd3516-9eb2-4470-867b-820a51b4d9eb button.colab-df-convert');\n",
              "        buttonEl.style.display =\n",
              "          google.colab.kernel.accessAllowed ? 'block' : 'none';\n",
              "\n",
              "        async function convertToInteractive(key) {\n",
              "          const element = document.querySelector('#df-77dd3516-9eb2-4470-867b-820a51b4d9eb');\n",
              "          const dataTable =\n",
              "            await google.colab.kernel.invokeFunction('convertToInteractive',\n",
              "                                                     [key], {});\n",
              "          if (!dataTable) return;\n",
              "\n",
              "          const docLinkHtml = 'Like what you see? Visit the ' +\n",
              "            '<a target=\"_blank\" href=https://colab.research.google.com/notebooks/data_table.ipynb>data table notebook</a>'\n",
              "            + ' to learn more about interactive tables.';\n",
              "          element.innerHTML = '';\n",
              "          dataTable['output_type'] = 'display_data';\n",
              "          await google.colab.output.renderOutput(dataTable, element);\n",
              "          const docLink = document.createElement('div');\n",
              "          docLink.innerHTML = docLinkHtml;\n",
              "          element.appendChild(docLink);\n",
              "        }\n",
              "      </script>\n",
              "    </div>\n",
              "  </div>\n",
              "  "
            ]
          },
          "metadata": {},
          "execution_count": 55
        }
      ]
    },
    {
      "cell_type": "markdown",
      "metadata": {
        "id": "Xtp_2mpD6BMd"
      },
      "source": [
        "### Checking model performance on train set"
      ]
    },
    {
      "cell_type": "code",
      "source": [
        "# Checking model performance on train set\n",
        "print(\"Training Performance\\n\")\n",
        "print(model_perf(lin_reg_model, x_train, y_train))"
      ],
      "metadata": {
        "colab": {
          "base_uri": "https://localhost:8080/"
        },
        "id": "OfaNWlogi2qN",
        "outputId": "44543eaa-bbc8-4acd-f440-7b0757c75262"
      },
      "execution_count": null,
      "outputs": [
        {
          "output_type": "stream",
          "name": "stdout",
          "text": [
            "Training Performance\n",
            "\n",
            "       RMSE       MAE       R^2  Adjusted R^2\n",
            "0  7.259506  4.217019  0.514227      0.511877\n"
          ]
        }
      ]
    },
    {
      "cell_type": "markdown",
      "metadata": {
        "id": "UgBe6WNC6BMd"
      },
      "source": [
        "### Checking model performance on test set"
      ]
    },
    {
      "cell_type": "code",
      "source": [
        "# Checking model performance on test set\n",
        "print(\"Test Performance\\n\")\n",
        "print(model_perf(lin_reg_model, x_test, y_test))"
      ],
      "metadata": {
        "colab": {
          "base_uri": "https://localhost:8080/"
        },
        "id": "l-iohD3Di9ZR",
        "outputId": "f1f49c8d-fe60-4b71-fa10-639698f49e7c"
      },
      "execution_count": null,
      "outputs": [
        {
          "output_type": "stream",
          "name": "stdout",
          "text": [
            "Test Performance\n",
            "\n",
            "       RMSE       MAE       R^2  Adjusted R^2\n",
            "0  7.576056  4.402049  0.519136      0.513672\n"
          ]
        }
      ]
    },
    {
      "cell_type": "markdown",
      "metadata": {
        "id": "ZllLjuo56BMd"
      },
      "source": [
        "# Conclusion \n",
        "\n",
        "* Output varaible Price, has highest correlation with Engine followed by Seats.\n",
        "* The lowest correlation for Price is with Mileage.\n",
        "* RMSE value on the training set is 7.26.\n",
        "* RMSE value on the test set is 7.58.\n",
        "* The values on the RMSE indicate that the model is not overfitting.\n",
        "* Mean Squared Error (MSE) for the training set is 4.22.\n",
        "* Mean Squared Error (MSE) for the test set is 4.40\n",
        "* R^2 on the training set is 0.51 indicating that model explains 51% of the total variation in the train set.\n",
        "* R^2 on the test set is 0.52 indicating that model explains 52% of the total variation in the test set.\n",
        "* The overall model performance does not appear to be highly satisfactory. "
      ]
    }
  ],
  "metadata": {
    "kernelspec": {
      "display_name": "Python 3 (ipykernel)",
      "language": "python",
      "name": "python3"
    },
    "language_info": {
      "codemirror_mode": {
        "name": "ipython",
        "version": 3
      },
      "file_extension": ".py",
      "mimetype": "text/x-python",
      "name": "python",
      "nbconvert_exporter": "python",
      "pygments_lexer": "ipython3",
      "version": "3.9.12"
    },
    "toc": {
      "base_numbering": 1,
      "nav_menu": {},
      "number_sections": true,
      "sideBar": true,
      "skip_h1_title": false,
      "title_cell": "Table of Contents",
      "title_sidebar": "Contents",
      "toc_cell": false,
      "toc_position": {},
      "toc_section_display": true,
      "toc_window_display": false
    },
    "colab": {
      "provenance": [],
      "include_colab_link": true
    }
  },
  "nbformat": 4,
  "nbformat_minor": 0
}